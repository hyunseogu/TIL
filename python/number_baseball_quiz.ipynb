{
 "cells": [
  {
   "cell_type": "markdown",
   "id": "416a946c",
   "metadata": {},
   "source": [
    "#### 1. 퍼즐 스트라이크\n",
    "- 0~9 까지의 숫자 세개를 랜덤으로 생성\n",
    "- 랜덤으로 생성된 숫자는 중복되면 안됨\n",
    "- 세개의 숫자를 입력받아 랜덤으로 생성된 세개의 숫자를 맞추는 게임\n",
    "- 세개의 숫자를 맞출때까지 계속 숫자를 입력받음\n",
    "- 세개의 숫자중에 자릿수와 숫자가 맞으면 strike\n",
    "- 세개의 숫자중에 숫자는 맞지만 자리수가 안 맞으면 ball\n",
    "- 아무것도 안 맞으면 out\n",
    "- 모두 맞추면 입력한 횟수를 출력하고 반복문 종료\n",
    "\n",
    "- 예시\n",
    "    - 랜덤한 숫자 : 6 2 8\n",
    "    - 입력 1 : 3 7 6\n",
    "        - 출력 : 0S 1B\n",
    "        - 설명 : 숫자 6이 있지만 자릿수가 틀림\n",
    "    - 입력 2 : 7 3 9\n",
    "        - 출력 : OUT\n",
    "        - 설명 : 입력한 모든 숫자가 없으므로 out\n",
    "    - 입력 3 : 6 8 2\n",
    "        - 출력 : 1S 2B \n",
    "        - 설명 : 숫자 6은 자릿수까지 맞으므로 1 strike\n",
    "        - 설명 : 숫자 8, 2는 자릿수가 틀리므로 2 ball\n",
    "    - 입력 4 : 6 2 8\n",
    "        - 출력 : 3S\n",
    "        - 설명 : 입력한 모든 숫자의 숫자와 자릿수가 맞으므로 3 strike"
   ]
  },
  {
   "cell_type": "markdown",
   "id": "482b4fa5",
   "metadata": {},
   "source": [
    "**답안제출**"
   ]
  },
  {
   "cell_type": "code",
   "execution_count": 7,
   "id": "9927031a",
   "metadata": {
    "ExecuteTime": {
     "end_time": "2021-09-14T05:34:38.873650Z",
     "start_time": "2021-09-14T05:34:00.465323Z"
    }
   },
   "outputs": [
    {
     "name": "stdout",
     "output_type": "stream",
     "text": [
      "[3, 6, 8]\n",
      "숫자 3개를 입력하세요(띄어쓰기로 구분) : 3 4 5\n",
      "1S 0B\n",
      "숫자 3개를 입력하세요(띄어쓰기로 구분) : 0 4 5\n",
      "OUT!\n",
      "숫자 3개를 입력하세요(띄어쓰기로 구분) : 8 3 6\n",
      "0S 3B\n",
      "숫자 3개를 입력하세요(띄어쓰기로 구분) : 3 5 6\n",
      "1S 1B\n",
      "숫자 3개를 입력하세요(띄어쓰기로 구분) : 3 6 8\n",
      "3S 0B\n",
      "입력횟수 : 5\n"
     ]
    }
   ],
   "source": [
    "import random\n",
    "\n",
    "def make_target():\n",
    "    num_list = [i for i in range(0, 9)]\n",
    "    global target\n",
    "    target = random.sample(num_list, 3)\n",
    "    print(target)\n",
    "\n",
    "make_target()\n",
    "count = 0\n",
    "\n",
    "\n",
    "while True:\n",
    "    count +=1\n",
    "    strike = 0\n",
    "    ball = 0\n",
    "    \n",
    "    player = input('숫자 3개를 입력하세요(띄어쓰기로 구분) : ')\n",
    "    player1 = np.array((player).split(' ')).astype(int).tolist()\n",
    "    \n",
    "    \n",
    "    for i in range(3):\n",
    "        \n",
    "        if target[i] == player1[i]:\n",
    "            strike += 1\n",
    "            \n",
    "        else:\n",
    "            for j in range(3):\n",
    "                if target[i] == player1[j]:\n",
    "                    ball +=1\n",
    "                    \n",
    "    \n",
    "    if strike == 0 and ball == 0:\n",
    "        print(\"OUT!\")\n",
    "        \n",
    "    if strike > 0 or ball > 0:\n",
    "        print(f'{strike}S {ball}B')\n",
    "    if strike == 3:\n",
    "        print(f'입력횟수 : {count}')\n",
    "        break\n",
    "    else:\n",
    "        pass\n",
    "            "
   ]
  },
  {
   "cell_type": "code",
   "execution_count": null,
   "id": "bc15fc22",
   "metadata": {},
   "outputs": [],
   "source": []
  }
 ],
 "metadata": {
  "kernelspec": {
   "display_name": "Python 3",
   "language": "python",
   "name": "python3"
  },
  "language_info": {
   "codemirror_mode": {
    "name": "ipython",
    "version": 3
   },
   "file_extension": ".py",
   "mimetype": "text/x-python",
   "name": "python",
   "nbconvert_exporter": "python",
   "pygments_lexer": "ipython3",
   "version": "3.8.8"
  },
  "toc": {
   "base_numbering": 1,
   "nav_menu": {},
   "number_sections": true,
   "sideBar": true,
   "skip_h1_title": false,
   "title_cell": "Table of Contents",
   "title_sidebar": "Contents",
   "toc_cell": false,
   "toc_position": {},
   "toc_section_display": true,
   "toc_window_display": false
  },
  "varInspector": {
   "cols": {
    "lenName": 16,
    "lenType": 16,
    "lenVar": 40
   },
   "kernels_config": {
    "python": {
     "delete_cmd_postfix": "",
     "delete_cmd_prefix": "del ",
     "library": "var_list.py",
     "varRefreshCmd": "print(var_dic_list())"
    },
    "r": {
     "delete_cmd_postfix": ") ",
     "delete_cmd_prefix": "rm(",
     "library": "var_list.r",
     "varRefreshCmd": "cat(var_dic_list()) "
    }
   },
   "types_to_exclude": [
    "module",
    "function",
    "builtin_function_or_method",
    "instance",
    "_Feature"
   ],
   "window_display": false
  }
 },
 "nbformat": 4,
 "nbformat_minor": 5
}
