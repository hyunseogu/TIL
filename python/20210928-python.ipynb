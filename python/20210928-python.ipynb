{
 "cells": [
  {
   "cell_type": "markdown",
   "id": "60836f65",
   "metadata": {},
   "source": [
    "## 데이터 크롤링"
   ]
  },
  {
   "cell_type": "markdown",
   "id": "4d088efb",
   "metadata": {},
   "source": [
    "### 웹 크롤링을 위해 BeautifulSoup 사용\n",
    "> - requests는 요청을 받기는 하지만 text로만 받음  \n",
    "- API는 통신을 위해 정형화 된 데이터 형태의 text  \n",
    "- 우리가 원하는 데이터로 가공하기 위해 편의상 html로 변환  \n",
    "- text를 html로 변환하는 모듈이 beautifulSoup"
   ]
  },
  {
   "cell_type": "markdown",
   "id": "662a913e",
   "metadata": {},
   "source": [
    "### 간단한 데이터 크롤링으로 기본 개념잡기"
   ]
  },
  {
   "cell_type": "code",
   "execution_count": 2,
   "id": "aa85725d",
   "metadata": {
    "ExecuteTime": {
     "end_time": "2021-09-28T08:30:12.625918Z",
     "start_time": "2021-09-28T08:30:12.360051Z"
    }
   },
   "outputs": [
    {
     "data": {
      "text/plain": [
       "[<img alt=\"\" height=\"49\" src=\"https://static-whale.pstatic.net/main/img_darkmode@2x.png\" style=\"padding-left: 48px\" width=\"303\"/>,\n",
       " <img alt=\"스포탈코리아\" class=\"news_logo\" height=\"20\" src=\"https://s.pstatic.net/static/newsstand/2020/logo/light/0604/139.png\"/>,\n",
       " <img alt=\"파이낸셜뉴스\" class=\"news_logo\" height=\"20\" src=\"https://s.pstatic.net/static/newsstand/2020/logo/light/0604/014.png\"/>,\n",
       " <img alt=\"디지털타임스\" class=\"news_logo\" height=\"20\" src=\"https://s.pstatic.net/static/newsstand/2020/logo/light/0604/029.png\"/>,\n",
       " <img alt=\"서울신문\" class=\"news_logo\" height=\"20\" src=\"https://s.pstatic.net/static/newsstand/2020/logo/light/0604/081.png\"/>,\n",
       " <img alt=\"뉴스타파\" class=\"news_logo\" height=\"20\" src=\"https://s.pstatic.net/static/newsstand/2020/logo/light/0604/930.png\"/>,\n",
       " <img alt=\"시사인\" class=\"news_logo\" height=\"20\" src=\"https://s.pstatic.net/static/newsstand/2020/logo/light/0604/308.png\"/>,\n",
       " <img alt=\"아이뉴스24\" class=\"news_logo\" height=\"20\" src=\"https://s.pstatic.net/static/newsstand/2020/logo/light/0604/031.png\"/>,\n",
       " <img alt=\"MBC\" class=\"news_logo\" height=\"20\" src=\"https://s.pstatic.net/static/newsstand/2020/logo/light/0604/214.png\"/>,\n",
       " <img alt=\"조선일보\" class=\"news_logo\" height=\"20\" src=\"https://s.pstatic.net/static/newsstand/up/2020/0903/nsd185255316.png\"/>,\n",
       " <img alt=\"전자신문\" class=\"news_logo\" height=\"20\" src=\"https://s.pstatic.net/static/newsstand/2020/logo/light/0604/030.png\"/>,\n",
       " <img alt=\"스포츠조선\" class=\"news_logo\" height=\"20\" src=\"https://s.pstatic.net/static/newsstand/2020/logo/light/0604/076.png\"/>,\n",
       " <img alt=\"동아일보\" class=\"news_logo\" height=\"20\" src=\"https://s.pstatic.net/static/newsstand/2020/logo/light/0604/020.png\"/>,\n",
       " <img alt=\"한국경제TV\" class=\"news_logo\" height=\"20\" src=\"https://s.pstatic.net/static/newsstand/2020/logo/light/0604/215.png\"/>,\n",
       " <img alt=\"SBS\" class=\"news_logo\" height=\"20\" src=\"https://s.pstatic.net/static/newsstand/2020/logo/light/0604/055.png\"/>,\n",
       " <img alt=\"JTBC\" class=\"news_logo\" height=\"20\" src=\"https://s.pstatic.net/static/newsstand/2020/logo/light/0604/904.png\"/>,\n",
       " <img alt=\"이투데이\" class=\"news_logo\" height=\"20\" src=\"https://s.pstatic.net/static/newsstand/2020/logo/light/0604/922.png\"/>,\n",
       " <img alt=\"코리아타임스\" class=\"news_logo\" height=\"20\" src=\"https://s.pstatic.net/static/newsstand/2020/logo/light/0604/040.png\"/>,\n",
       " <img alt=\"국방일보\" class=\"news_logo\" height=\"20\" src=\"https://s.pstatic.net/static/newsstand/2020/logo/light/0604/908.png\"/>,\n",
       " <img alt=\"더스쿠프\" class=\"news_logo\" height=\"20\" src=\"https://s.pstatic.net/static/newsstand/2020/logo/light/0604/905.png\"/>,\n",
       " <img alt=\"코메디닷컴\" class=\"news_logo\" height=\"20\" src=\"https://s.pstatic.net/static/newsstand/2020/logo/light/0604/296.png\"/>,\n",
       " <img alt=\"과학동아\" class=\"news_logo\" height=\"20\" src=\"https://s.pstatic.net/static/newsstand/2020/logo/light/0604/363.png\"/>,\n",
       " <img alt=\"미주한국일보\" class=\"news_logo\" height=\"20\" src=\"https://s.pstatic.net/static/newsstand/2020/logo/light/0604/814.png\"/>,\n",
       " <img alt=\"주간조선\" class=\"news_logo\" height=\"20\" src=\"https://s.pstatic.net/static/newsstand/2020/logo/light/0604/990.png\"/>,\n",
       " <img alt=\"e대한경제\" class=\"news_logo\" height=\"20\" src=\"https://s.pstatic.net/static/newsstand/up/2020/1011/nsd205146413.png\"/>,\n",
       " <img alt=\"&quot;매일이 공포&quot;…사진만 봐도 섬뜩한 '광주판 피사의 사탑'\" data-src=\"https://s.pstatic.net/dthumb.phinf/?src=%22https%3A%2F%2Fs.pstatic.net%2Fstatic%2Fwww%2Fmobile%2Fedit%2F20210927_1095%2Fupload_1632727730425PhLKN.jpg%22&amp;type=nf340_228\" height=\"114\" src=\"https://s.pstatic.net/dthumb.phinf/?src=%22https%3A%2F%2Fs.pstatic.net%2Fstatic%2Fwww%2Fmobile%2Fedit%2F20210927_1095%2Fupload_1632727730425PhLKN.jpg%22&amp;type=nf340_228\" width=\"170\"/>,\n",
       " <img alt='어느 직장인의 복지 혜택 \"이 정도면 어떤 수준인가요?\"' data-src=\"https://s.pstatic.net/dthumb.phinf/?src=%22https%3A%2F%2Fs.pstatic.net%2Fstatic%2Fwww%2Fmobile%2Fedit%2F20210927_1095%2Fupload_1632716453747T3p6g.jpg%22&amp;type=nf340_228\" height=\"114\" src=\"https://s.pstatic.net/dthumb.phinf/?src=%22https%3A%2F%2Fs.pstatic.net%2Fstatic%2Fwww%2Fmobile%2Fedit%2F20210927_1095%2Fupload_1632716453747T3p6g.jpg%22&amp;type=nf340_228\" width=\"170\"/>,\n",
       " <img alt=\"'그 사업 안된다' 말리러 갔다가 건져 온 40억원 아이디어\" data-src=\"https://s.pstatic.net/dthumb.phinf/?src=%22https%3A%2F%2Fs.pstatic.net%2Fstatic%2Fwww%2Fmobile%2Fedit%2F20210927_1095%2Fupload_1632716433790Xy3CR.jpg%22&amp;type=nf340_228\" height=\"114\" src=\"https://s.pstatic.net/dthumb.phinf/?src=%22https%3A%2F%2Fs.pstatic.net%2Fstatic%2Fwww%2Fmobile%2Fedit%2F20210927_1095%2Fupload_1632716433790Xy3CR.jpg%22&amp;type=nf340_228\" width=\"170\"/>,\n",
       " <img alt=\"내 자산을 굴리는 달러 투자 방법은? (feat. 환테크)\" data-src=\"https://s.pstatic.net/dthumb.phinf/?src=%22https%3A%2F%2Fs.pstatic.net%2Fstatic%2Fwww%2Fmobile%2Fedit%2F20210927_1095%2Fupload_1632723518916xNIsS.jpg%22&amp;type=nf340_228\" height=\"114\" src=\"https://s.pstatic.net/dthumb.phinf/?src=%22https%3A%2F%2Fs.pstatic.net%2Fstatic%2Fwww%2Fmobile%2Fedit%2F20210927_1095%2Fupload_1632723518916xNIsS.jpg%22&amp;type=nf340_228\" width=\"170\"/>,\n",
       " <img alt=\"이병철 부행장, “50+ 시니어 신춘문예 공모전을 통한 퇴직연금 가입자 문화 재발견”\" data-src=\"https://s.pstatic.net/dthumb.phinf/?src=%22https%3A%2F%2Fs.pstatic.net%2Fstatic%2Fwww%2Fmobile%2Fedit%2F20210927_1095%2Fupload_1632716333466W8nS3.jpg%22&amp;type=nf340_228\" height=\"114\" src=\"https://s.pstatic.net/dthumb.phinf/?src=%22https%3A%2F%2Fs.pstatic.net%2Fstatic%2Fwww%2Fmobile%2Fedit%2F20210927_1095%2Fupload_1632716333466W8nS3.jpg%22&amp;type=nf340_228\" width=\"170\"/>,\n",
       " <img alt=\"20대 꿈을 향한 도전 D-730, 재취업 위한 생활비 마련은?\" data-src=\"https://s.pstatic.net/dthumb.phinf/?src=%22https%3A%2F%2Fs.pstatic.net%2Fstatic%2Fwww%2Fmobile%2Fedit%2F20210927_1095%2Fupload_16327276483756nIeu.jpg%22&amp;type=nf340_228\" height=\"114\" src=\"https://s.pstatic.net/dthumb.phinf/?src=%22https%3A%2F%2Fs.pstatic.net%2Fstatic%2Fwww%2Fmobile%2Fedit%2F20210927_1095%2Fupload_16327276483756nIeu.jpg%22&amp;type=nf340_228\" width=\"170\"/>,\n",
       " <img alt=\"신용카드 혜택이 점점 줄어드는 이유는?\" data-src=\"https://s.pstatic.net/dthumb.phinf/?src=%22https%3A%2F%2Fs.pstatic.net%2Fstatic%2Fwww%2Fmobile%2Fedit%2F20210927_1095%2Fupload_1632716611422o6hOt.jpg%22&amp;type=nf340_228\" height=\"114\" src=\"https://s.pstatic.net/dthumb.phinf/?src=%22https%3A%2F%2Fs.pstatic.net%2Fstatic%2Fwww%2Fmobile%2Fedit%2F20210927_1095%2Fupload_1632716611422o6hOt.jpg%22&amp;type=nf340_228\" width=\"170\"/>,\n",
       " <img alt=\"은퇴 이후 소득원, 어떻게 준비해야 하나?\" data-src=\"https://s.pstatic.net/dthumb.phinf/?src=%22https%3A%2F%2Fs.pstatic.net%2Fstatic%2Fwww%2Fmobile%2Fedit%2F20210916_1095%2Fupload_1631785091636Dalok.jpg%22&amp;type=nf340_228\" height=\"114\" src=\"https://s.pstatic.net/dthumb.phinf/?src=%22https%3A%2F%2Fs.pstatic.net%2Fstatic%2Fwww%2Fmobile%2Fedit%2F20210916_1095%2Fupload_1631785091636Dalok.jpg%22&amp;type=nf340_228\" width=\"170\"/>,\n",
       " <img alt=\"금주 청약단지 17곳, 예비청약자들 관심!\" data-src=\"https://s.pstatic.net/dthumb.phinf/?src=%22https%3A%2F%2Fs.pstatic.net%2Fstatic%2Fwww%2Fmobile%2Fedit%2F20210924_1095%2Fupload_1632470868616srSfE.jpg%22&amp;type=nf340_228\" height=\"114\" width=\"170\"/>,\n",
       " <img alt=\"워런 버핏이 매일 아침 '햄버거 세트'를 먹는 이유는...\" data-src=\"https://s.pstatic.net/dthumb.phinf/?src=%22https%3A%2F%2Fs.pstatic.net%2Fstatic%2Fwww%2Fmobile%2Fedit%2F20210916_1095%2Fupload_1631784783828M5cdN.jpg%22&amp;type=nf340_228\" height=\"114\" width=\"170\"/>,\n",
       " <img alt=\"월 평균 소득 511만원 '금퇴족' 스펙 따져봤더니...\" data-src=\"https://s.pstatic.net/dthumb.phinf/?src=%22https%3A%2F%2Fs.pstatic.net%2Fstatic%2Fwww%2Fmobile%2Fedit%2F20210916_1095%2Fupload_1631784713630peAvF.jpg%22&amp;type=nf340_228\" height=\"114\" width=\"170\"/>,\n",
       " <img alt=\"1년 만에 8만개 대박난 27살 창업가의 노트 속 메모\" data-src=\"https://s.pstatic.net/dthumb.phinf/?src=%22https%3A%2F%2Fs.pstatic.net%2Fstatic%2Fwww%2Fmobile%2Fedit%2F20210915_1095%2Fupload_1631696044643Mk5xo.jpg%22&amp;type=nf340_228\" height=\"114\" width=\"170\"/>,\n",
       " <img alt=\"美·이라크 누비던 삼성맨, 중고차를 최신차 만드는 아이디어\" data-src=\"https://s.pstatic.net/dthumb.phinf/?src=%22https%3A%2F%2Fs.pstatic.net%2Fstatic%2Fwww%2Fmobile%2Fedit%2F20210915_1095%2Fupload_1631696066997mxN4i.jpg%22&amp;type=nf340_228\" height=\"114\" width=\"170\"/>,\n",
       " <img alt=\"가을 이사철, 비용 꼼꼼하게 아끼는 노하우 5가지\" data-src=\"https://s.pstatic.net/dthumb.phinf/?src=%22https%3A%2F%2Fs.pstatic.net%2Fstatic%2Fwww%2Fmobile%2Fedit%2F20210916_1095%2Fupload_1631785984815VAliE.jpg%22&amp;type=nf340_228\" height=\"114\" width=\"170\"/>,\n",
       " <img alt=\"세계를 홀린 한국 아저씨의 이 자전거, 시작은 평범했다\" data-src=\"https://s.pstatic.net/dthumb.phinf/?src=%22https%3A%2F%2Fs.pstatic.net%2Fstatic%2Fwww%2Fmobile%2Fedit%2F20210915_1095%2Fupload_1631695983339TVCcM.jpg%22&amp;type=nf340_228\" height=\"114\" width=\"170\"/>,\n",
       " <img alt=\"부자 되려면 이것 버려라! 가난을 벗어나는 습관 3\" data-src=\"https://s.pstatic.net/dthumb.phinf/?src=%22https%3A%2F%2Fs.pstatic.net%2Fstatic%2Fwww%2Fmobile%2Fedit%2F20210916_1095%2Fupload_1631785285638wjMu2.jpg%22&amp;type=nf340_228\" height=\"114\" width=\"170\"/>,\n",
       " <img alt=\"3년 다닌 의대 자퇴 후 인생 걸고 한 도전의 결과\" data-src=\"https://s.pstatic.net/dthumb.phinf/?src=%22https%3A%2F%2Fs.pstatic.net%2Fstatic%2Fwww%2Fmobile%2Fedit%2F20210917_1095%2Fupload_1631837129829B4KIZ.jpg%22&amp;type=nf340_228\" height=\"114\" width=\"170\"/>,\n",
       " <img alt=\"노후자금 부족한 50대 부부, 주식/달러/가상화폐에 투자할까요?\" data-src=\"https://s.pstatic.net/dthumb.phinf/?src=%22https%3A%2F%2Fs.pstatic.net%2Fstatic%2Fwww%2Fmobile%2Fedit%2F20210917_1095%2Fupload_1631852231691Itar7.jpg%22&amp;type=nf340_228\" height=\"114\" width=\"170\"/>,\n",
       " <img alt=\"웨일\" height=\"48\" src=\"data:image/png;base64,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\" width=\"48\"/>,\n",
       " <img alt=\"꽃\" height=\"50\" src=\"data:image/png;base64,iVBORw0KGgoAAAANSUhEUgAAAF4AAABkCAMAAAA47XeXAAAAgVBMVEUAAADN5PdGm99Gm99Gm99Gm99Gm95Gm99Gm99Gm99Gm99Gm99Gm99Gm99Gm99Gm99Gm99Gm99Gm99Gm99Gm99Gm99Gm99Gmt9Gm99Gm99Gm99Gm95Gm99Gm99Gm95Gm99Hm99Gm99Gm9/////3+/5cp+LO5PfR5/fO5fdcp+P7/f/zv5GhAAAAInRSTlMA/v7vH9u5qJNgGwb6l8a9uqF9WFUyLxYMCtbVmLCwe4OCj8gzEgAAA0NJREFUaN7NmmFz4iAQhkkwMTHGWrWtWvWuq8mF+/8/8Ey2nb0OhSwQZnw+MHQ7pbjAy2s2gsuiLPJMLpcyy4tyISZltnmHbxw3MzEVr/MUNNL5q5iCt2ccXCN9fhPB7CQYkTsRRlWDlboSAexzGCHfC28OKxhldfDOzBMwePLNTw0sauHFFphshQcLCUwkaQRfXYBPSkrEUBdv3jezcXXhw1ciUhc+fCUidQlH7qzqEk5d2dQlnHxvU5dwVgdXdSGclaiGyamt6hLO1qIu4ZASzcFE092SBprk1jagulvXAAw/qb5N7m176xQYmOPoLymYaK/X65/PNhlagE6LGUhfRM8FjNzuf/73//bHmInzoJEpjMyeWpp9RzGz/PT6+QvMNO2Q+67PPeYZY5h7jDVg5OM+/BGikd13JfDAj/Ad1WLMyEyUwKPT00ypN1GKAljQJtFiFgqRe86eYhbWIvPPPR5d+9pKiIgUwKNJdHXBvW9jyRye1EWLWYfnJcd141Byspizz7gbUyWDuqiW0v15D9g3ZgF86JwyKUgUHJaATUmS5rsEdkkTZLjZS8Alw+skFr8Nl6H6uosShaKOp3Zo+/jgFTDe+wcSfv0yFGfQaLX7tDO0reXOPRuMCG4Q11Y3IiYblWgzS7R+h31qdRtlGB7zikeUckz+AB3a8FuMqD7Cd2nhUHLOEIkLubQIkEuLxIdwEwUy3HyXxsbgPMJcGuGox+TSIugxuTQ+KHIaAS5N92eIIuMT5tJoPfHy5q9yKoXLelLuKRri0mjMQdhwTPw6Sv8pzKXhFyhNilEwkSCXRrnAnaPnJdyl0UrqXircpeHVglnv+62K4NJo3lFcGmWd79KO7OQoXAE8XNO6tIQGxj7fpfHTwk8RubQLWEGvgTNGKzj01fixunCMCCYcvSSlaFwUyKVx86J3bczpUR3zimq1LqdosAUbJF54ar+uk5Gju436mPTk8ZAXFdO93HRYTesUVgf3B+y0XdxLfdVputmfKp/iBtNjyl3c0kzUwtJIWewIPvAL9LOyWLsV9WAps3VRzh6hJBm3oOqsRKfHLGYzS/GP+iLBuBKdqkd+iWPkFZTHf4Em4us/uhI5qss/6zK5u8+AXpwAAAAASUVORK5CYII=\" width=\"47\"/>]"
      ]
     },
     "execution_count": 2,
     "metadata": {},
     "output_type": "execute_result"
    }
   ],
   "source": [
    "# 필요패키지 import\n",
    "import numpy as np\n",
    "import pandas as pd\n",
    "import requests # 크롤링에 사용하는 패키지\n",
    "from bs4 import BeautifulSoup # html 변환에 사용함\n",
    "\n",
    "# url정의\n",
    "\n",
    "url = 'https://naver.com'\n",
    "\n",
    "# requsts로 url에 정보요청\n",
    "# requests 는 한번만 받기\n",
    "response = requests.get(url)\n",
    "\n",
    "\n",
    "# 정보를 html 변환 (보기 쉽게)\n",
    "html = BeautifulSoup(response.text, 'html.parser')\n",
    "\n",
    "# html 내에서 우리가 보고 싶은 정보만 선별\n",
    "html.select('img')"
   ]
  },
  {
   "cell_type": "code",
   "execution_count": 3,
   "id": "18a16406",
   "metadata": {
    "ExecuteTime": {
     "end_time": "2021-09-28T08:30:20.227761Z",
     "start_time": "2021-09-28T08:30:20.194802Z"
    }
   },
   "outputs": [
    {
     "data": {
      "text/plain": [
       "'\\n<!doctype html>                          <html lang=\"ko\" data-dark=\"false\"> <head> <meta charset=\"utf-8\"> <title>NAVER</title> <meta http-equiv=\"X-UA-Compatible\" content=\"IE=edge\"> <meta name=\"viewport\" content=\"width=1190\"> <meta name=\"apple-mobile-web-app-title\" content=\"NAVER\"/> <meta name=\"robots\" content=\"index,nofollow\"/> <meta name=\"description\" content=\"네이버 메인에서 다양한 정보와 유용한 컨텐츠를 만나 보세요\"/> <meta property=\"og:title\" content=\"네이버\"> <meta property=\"og:url\" content=\"https://www.naver.com/\"> <meta property=\"og:image\" content=\"https://s.pstatic.net/static/www/mobile/edit/2016/0705/mobile_212852414260.png\"> <meta property=\"og:description\" content=\"네이버 메인에서 다양한 정보와 유용한 컨텐츠를 만나 보세요\"/> <meta name=\"twitter:card\" content=\"summary\"> <meta name=\"twitter:title\" content=\"\"> <meta name=\"twitter:url\" content=\"https://www.naver.com/\"> <meta name=\"twitter:image\" content=\"https://s.pstatic.net/static/www/mobile/edit/2016/0705/mobile_212852414260.png\"> <meta name=\"twitter:description\" content=\"네이버 메인에서 다양한 정보와 유용한 컨텐츠를 만나 보세요\"/>  <link rel=\"stylesheet\" href=\"https://pm.pstatic.net/dist/css/nmain.20210826.css\"> <link rel=\"stylesheet\" href=\"https://ssl.pstatic.net/sstatic/search/pc/css/sp_autocomplete_210318.css\"> <link rel=\"shortcut icon\" type=\"image/x-icon\" href=\"/favicon.ico?1\"/>  <link rel=\"apple-touch-icon\" sizes=\"114x114\" href=\"https://s.pstatic.net/static/www/u/2014/0328/mma_204243574.png\"/> <link rel=\"apple-touch-icon\" href=\"https://s.pstatic.net/static/www/u/2014/0328/mma_20432863.png\"/> <script>document.domain=\"naver.com\",window.nmain=window.nmain||{},window.nmain.supportFlicking=!1;var nsc=\"navertop.v4\",ua=navigator.userAgent;window.nmain.isIE=navigator.appName&&navigator.appName.indexOf(\"Explorer\")>0&&ua.toLocaleLowerCase().indexOf(\"msie 10.0\")<0,document.getElementsByTagName(\"html\")[0].setAttribute(\"data-useragent\",ua),window.nmain.isIE&&(Object.create=function(n){function a(){}return a.prototype=n,new a})</script> <script>var darkmode= false;window.naver_corp_da=window.naver_corp_da||{main:{}},window.naver_corp_da.main=window.naver_corp_da.main||{},window.naver_corp_da.main.darkmode=darkmode,window.gladsdk=window.gladsdk||{cmd:[]},window.gladsdk.cmd.push((function(){window.gladsdk.setHostMeta(\"theme\",darkmode?\"dark\":\"light\")}))</script> <script> window.nmain.gv = {  isLogin: false,\\nuseId: null,   daInfo: {\"ANIMAL\":{\"menu\":\"ANIMAL\",\"childMenu\":\"\",\"adType\":\"singleDom\",\"multiDomAdUrl\":\"\",\"multiDomUnit\":\"\",\"infoList\":[{\"adposId\":\"1000161\",\"singleDomAdUrl\":\"https://siape.veta.naver.com/fxshow\",\"param\":{\"da_dom_id\":\"p_main_animal_1\",\"tb\":\"ANIMAL_1\",\"unit\":\"SU10567\",\"calp\":\"-\"},\"type\":{\"position\":\"abs\",\"positionIndex\":4,\"subject\":\"contents\"},\"dom\":null},{\"adposId\":\"1000162\",\"singleDomAdUrl\":\"https://siape.veta.naver.com/fxshow\",\"param\":{\"da_dom_id\":\"p_main_animal_2\",\"tb\":\"ANIMAL_1\",\"unit\":\"SU10568\",\"calp\":\"-\"},\"type\":{\"position\":\"abs\",\"positionIndex\":8,\"subject\":\"contents\"},\"dom\":null}]},\"BEAUTY\":{\"menu\":\"BEAUTY\",\"childMenu\":\"\",\"adType\":\"singleDom\",\"multiDomAdUrl\":\"\",\"multiDomUnit\":\"\",\"infoList\":[{\"adposId\":\"1000163\",\"singleDomAdUrl\":\"https://siape.veta.naver.com/fxshow\",\"param\":{\"da_dom_id\":\"p_main_beauty_1\",\"tb\":\"BEAUTY_1\",\"unit\":\"SU10595\",\"calp\":\"-\"},\"type\":{\"position\":\"abs\",\"positionIndex\":4,\"subject\":\"contents\"},\"dom\":null},{\"adposId\":\"1000164\",\"singleDomAdUrl\":\"https://siape.veta.naver.com/fxshow\",\"param\":{\"da_dom_id\":\"p_main_beauty_2\",\"tb\":\"BEAUTY_1\",\"unit\":\"SU10596\",\"calp\":\"-\"},\"type\":{\"position\":\"abs\",\"positionIndex\":8,\"subject\":\"contents\"},\"dom\":null}]},\"BUSINESS\":{\"menu\":\"BUSINESS\",\"childMenu\":\"\",\"adType\":\"singleDom\",\"multiDomAdUrl\":\"\",\"multiDomUnit\":\"\",\"infoList\":[{\"adposId\":\"1000165\",\"singleDomAdUrl\":\"https://siape.veta.naver.com/fxshow\",\"param\":{\"da_dom_id\":\"p_main_business_1\",\"tb\":\"BUSINESS_1\",\"unit\":\"SU10577\",\"calp\":\"-\"},\"type\":{\"position\":\"abs\",\"positionIndex\":4,\"subject\":\"contents\"},\"dom\":null},{\"adposId\":\"1000166\",\"singleDomAdUrl\":\"https://siape.veta.naver.com/fxshow\",\"param\":{\"da_dom_id\":\"p_main_business_2\",\"tb\":\"BUSINESS_1\",\"unit\":\"SU10578\",\"calp\":\"-\"},\"type\":{\"position\":\"abs\",\"positionIndex\":8,\"subject\":\"contents\"},\"dom\":null}]},\"CARGAME\":{\"menu\":\"CARGAME\",\"childMenu\":\"\",\"adType\":\"singleDom\",\"multiDomAdUrl\":\"\",\"multiDomUnit\":\"\",\"infoList\":[{\"adposId\":\"1000167\",\"singleDomAdUrl\":\"https://siape.veta.naver.com/fxshow\",\"param\":{\"da_dom_id\":\"p_main_cargame_1\",\"tb\":\"CARGAME_1\",\"unit\":\"SU10587\",\"calp\":\"-\"},\"type\":{\"position\":\"abs\",\"positionIndex\":4,\"subject\":\"contents\"},\"dom\":null},{\"adposId\":\"1000168\",\"singleDomAdUrl\":\"https://siape.veta.naver.com/fxshow\",\"param\":{\"da_dom_id\":\"p_main_cargame_2\",\"tb\":\"CARGAME_1\",\"unit\":\"SU10588\",\"calp\":\"-\"},\"type\":{\"position\":\"abs\",\"positionIndex\":8,\"subject\":\"contents\"},\"dom\":null}]},\"CHINA\":{\"menu\":\"CHINA\",\"childMenu\":\"\",\"adType\":\"singleDom\",\"multiDomAdUrl\":\"\",\"multiDomUnit\":\"\",\"infoList\":[{\"adposId\":\"1000169\",\"singleDomAdUrl\":\"https://siape.veta.naver.com/fxshow\",\"param\":{\"da_dom_id\":\"p_main_china_1\",\"tb\":\"CHINA_1\",\"unit\":\"SU10591\",\"calp\":\"-\"},\"type\":{\"position\":\"abs\",\"positionIndex\":4,\"subject\":\"contents\"},\"dom\":null},{\"adposId\":\"1000170\",\"singleDomAdUrl\":\"https://siape.veta.naver.com/fxshow\",\"param\":{\"da_dom_id\":\"p_main_china_2\",\"tb\":\"CHINA_1\",\"unit\":\"SU10592\",\"calp\":\"-\"},\"type\":{\"position\":\"abs\",\"positionIndex\":8,\"subject\":\"contents\"},\"dom\":null}]},\"DESIGN\":{\"menu\":\"DESIGN\",\"childMenu\":\"\",\"adType\":\"singleDom\",\"multiDomAdUrl\":\"\",\"multiDomUnit\":\"\",\"infoList\":[{\"adposId\":\"1000171\",\"singleDomAdUrl\":\"https://siape.veta.naver.com/fxshow\",\"param\":{\"da_dom_id\":\"p_main_design_1\",\"tb\":\"DESIGN_1\",\"unit\":\"SU10569\",\"calp\":\"-\"},\"type\":{\"position\":\"abs\",\"positionIndex\":4,\"subject\":\"contents\"},\"dom\":null},{\"adposId\":\"1000172\",\"singleDomAdUrl\":\"https://siape.veta.naver.com/fxshow\",\"param\":{\"da_dom_id\":\"p_main_design_2\",\"tb\":\"DESIGN_1\",\"unit\":\"SU10570\",\"calp\":\"-\"},\"type\":{\"position\":\"abs\",\"positionIndex\":8,\"subject\":\"contents\"},\"dom\":null}]},\"FARM\":{\"menu\":\"FARM\",\"childMenu\":\"\",\"adType\":\"singleDom\",\"multiDomAdUrl\":\"\",\"multiDomUnit\":\"\",\"infoList\":[{\"adposId\":\"1000173\",\"singleDomAdUrl\":\"https://siape.veta.naver.com/fxshow\",\"param\":{\"da_dom_id\":\"p_main_farm_1\",\"tb\":\"FARM_1\",\"unit\":\"SU10561\",\"calp\":\"-\"},\"type\":{\"position\":\"abs\",\"positionIndex\":4,\"subject\":\"contents\"},\"dom\":null},{\"adposId\":\"1000174\",\"singleDomAdUrl\":\"https://siape.veta.naver.com/fxshow\",\"param\":{\"da_dom_id\":\"p_main_farm_2\",\"tb\":\"FARM_1\",\"unit\":\"SU10562\",\"calp\":\"-\"},\"type\":{\"position\":\"abs\",\"positionIndex\":8,\"subject\":\"contents\"},\"dom\":null}]},\"FINANCE\":{\"menu\":\"FINANCE\",\"childMenu\":\"\",\"adType\":\"singleDom\",\"multiDomAdUrl\":\"\",\"multiDomUnit\":\"\",\"infoList\":[{\"adposId\":\"1000175\",\"singleDomAdUrl\":\"https://siape.veta.naver.com/fxshow\",\"param\":{\"da_dom_id\":\"p_main_finance_1\",\"tb\":\"FINANCE_1\",\"unit\":\"SU10563\",\"calp\":\"-\"},\"type\":{\"position\":\"abs\",\"positionIndex\":4,\"subject\":\"contents\"},\"dom\":null},{\"adposId\":\"1000176\",\"singleDomAdUrl\":\"https://siape.veta.naver.com/fxshow\",\"param\":{\"da_dom_id\":\"p_main_finance_2\",\"tb\":\"FINANCE_1\",\"unit\":\"SU10564\",\"calp\":\"-\"},\"type\":{\"position\":\"abs\",\"positionIndex\":8,\"subject\":\"contents\"},\"dom\":null}]},\"ITTECH\":{\"menu\":\"ITTECH\",\"childMenu\":\"\",\"adType\":\"singleDom\",\"multiDomAdUrl\":\"\",\"multiDomUnit\":\"\",\"infoList\":[{\"adposId\":\"1000177\",\"singleDomAdUrl\":\"https://siape.veta.naver.com/fxshow\",\"param\":{\"da_dom_id\":\"p_main_ittech_1\",\"tb\":\"ITTECH_1\",\"unit\":\"SU10593\",\"calp\":\"-\"},\"type\":{\"position\":\"abs\",\"positionIndex\":4,\"subject\":\"contents\"},\"dom\":null},{\"adposId\":\"1000178\",\"singleDomAdUrl\":\"https://siape.veta.naver.com/fxshow\",\"param\":{\"da_dom_id\":\"p_main_ittech_2\",\"tb\":\"ITTECH_1\",\"unit\":\"SU10594\",\"calp\":\"-\"},\"type\":{\"position\":\"abs\",\"positionIndex\":8,\"subject\":\"contents\"},\"dom\":null}]},\"JOB\":{\"menu\":\"JOB\",\"childMenu\":\"\",\"adType\":\"singleDom\",\"multiDomAdUrl\":\"\",\"multiDomUnit\":\"\",\"infoList\":[{\"adposId\":\"1000179\",\"singleDomAdUrl\":\"https://siape.veta.naver.com/fxshow\",\"param\":{\"da_dom_id\":\"p_main_job_1\",\"tb\":\"JOB_1\",\"unit\":\"SU10589\",\"calp\":\"-\"},\"type\":{\"position\":\"abs\",\"positionIndex\":4,\"subject\":\"contents\"},\"dom\":null},{\"adposId\":\"1000180\",\"singleDomAdUrl\":\"https://siape.veta.naver.com/fxshow\",\"param\":{\"da_dom_id\":\"p_main_job_2\",\"tb\":\"JOB_1\",\"unit\":\"SU10590\",\"calp\":\"-\"},\"type\":{\"position\":\"abs\",\"positionIndex\":8,\"subject\":\"contents\"},\"dom\":null}]},\"LAW\":{\"menu\":\"LAW\",\"childMenu\":\"\",\"adType\":\"singleDom\",\"multiDomAdUrl\":\"\",\"multiDomUnit\":\"\",\"infoList\":[{\"adposId\":\"1000181\",\"singleDomAdUrl\":\"https://siape.veta.naver.com/fxshow\",\"param\":{\"da_dom_id\":\"p_main_law_1\",\"tb\":\"LAW_1\",\"unit\":\"SU10573\",\"calp\":\"-\"},\"type\":{\"position\":\"abs\",\"positionIndex\":4,\"subject\":\"contents\"},\"dom\":null},{\"adposId\":\"1000182\",\"singleDomAdUrl\":\"https://siape.veta.naver.com/fxshow\",\"param\":{\"da_dom_id\":\"p_main_law_2\",\"tb\":\"LAW_1\",\"unit\":\"SU10574\",\"calp\":\"-\"},\"type\":{\"position\":\"abs\",\"positionIndex\":8,\"subject\":\"contents\"},\"dom\":null}]},\"LIVING\":{\"menu\":\"LIVING\",\"childMenu\":\"\",\"adType\":\"singleDom\",\"multiDomAdUrl\":\"\",\"multiDomUnit\":\"\",\"infoList\":[{\"adposId\":\"1000183\",\"singleDomAdUrl\":\"https://siape.veta.naver.com/fxshow\",\"param\":{\"da_dom_id\":\"p_main_living_1\",\"tb\":\"LIVING_1\",\"unit\":\"SU10597\",\"calp\":\"-\"},\"type\":{\"position\":\"abs\",\"positionIndex\":4,\"subject\":\"contents\"},\"dom\":null},{\"adposId\":\"1000184\",\"singleDomAdUrl\":\"https://siape.veta.naver.com/fxshow\",\"param\":{\"da_dom_id\":\"p_main_living_2\",\"tb\":\"LIVING_1\",\"unit\":\"SU10606\",\"calp\":\"-\"},\"type\":{\"position\":\"abs\",\"positionIndex\":8,\"subject\":\"contents\"},\"dom\":null}]},\"LIVINGHOME\":{\"menu\":\"LIVINGHOME\",\"childMenu\":\"\",\"adType\":\"singleDom\",\"multiDomAdUrl\":\"\",\"multiDomUnit\":\"\",\"infoList\":[{\"adposId\":\"1000185\",\"singleDomAdUrl\":\"https://siape.veta.naver.com/fxshow\",\"param\":{\"da_dom_id\":\"p_main_livinghome_1\",\"tb\":\"LIVINGHOME_1\",\"unit\":\"SU10571\",\"calp\":\"-\"},\"type\":{\"position\":\"abs\",\"positionIndex\":4,\"subject\":\"contents\"},\"dom\":null},{\"adposId\":\"1000186\",\"singleDomAdUrl\":\"https://siape.veta.naver.com/fxshow\",\"param\":{\"da_dom_id\":\"p_main_livinghome_2\",\"tb\":\"LIVINGHOME_1\",\"unit\":\"SU10572\",\"calp\":\"-\"},\"type\":{\"position\":\"abs\",\"positionIndex\":8,\"subject\":\"contents\"},\"dom\":null}]},\"MOMKIDS\":{\"menu\":\"MOMKIDS\",\"childMenu\":\"\",\"adType\":\"singleDom\",\"multiDomAdUrl\":\"\",\"multiDomUnit\":\"\",\"infoList\":[{\"adposId\":\"1000187\",\"singleDomAdUrl\":\"https://siape.veta.naver.com/fxshow\",\"param\":{\"da_dom_id\":\"p_main_momkids_1\",\"tb\":\"MOMKIDS_1\",\"unit\":\"SU10575\",\"calp\":\"-\"},\"type\":{\"position\":\"abs\",\"positionIndex\":4,\"subject\":\"contents\"},\"dom\":null},{\"adposId\":\"1000188\",\"singleDomAdUrl\":\"https://siape.veta.naver.com/fxshow\",\"param\":{\"da_dom_id\":\"p_main_momkids_2\",\"tb\":\"MOMKIDS_1\",\"unit\":\"SU10576\",\"calp\":\"-\"},\"type\":{\"position\":\"abs\",\"positionIndex\":8,\"subject\":\"contents\"},\"dom\":null}]},\"MOVIE\":{\"menu\":\"MOVIE\",\"childMenu\":\"\",\"adType\":\"singleDom\",\"multiDomAdUrl\":\"\",\"multiDomUnit\":\"\",\"infoList\":[{\"adposId\":\"1000189\",\"singleDomAdUrl\":\"https://siape.veta.naver.com/fxshow\",\"param\":{\"da_dom_id\":\"p_main_movie_1\",\"tb\":\"MOVIE_1\",\"unit\":\"SU10585\",\"calp\":\"-\"},\"type\":{\"position\":\"abs\",\"positionIndex\":4,\"subject\":\"contents\"},\"dom\":null},{\"adposId\":\"1000190\",\"singleDomAdUrl\":\"https://siape.veta.naver.com/fxshow\",\"param\":{\"da_dom_id\":\"p_main_movie_2\",\"tb\":\"MOVIE_1\",\"unit\":\"SU10586\",\"calp\":\"-\"},\"type\":{\"position\":\"abs\",\"positionIndex\":8,\"subject\":\"contents\"},\"dom\":null}]},\"SCHOOL\":{\"menu\":\"SCHOOL\",\"childMenu\":\"\",\"adType\":\"singleDom\",\"multiDomAdUrl\":\"\",\"multiDomUnit\":\"\",\"infoList\":[{\"adposId\":\"1000191\",\"singleDomAdUrl\":\"https://siape.veta.naver.com/fxshow\",\"param\":{\"da_dom_id\":\"p_main_school_1\",\"tb\":\"SCHOOL_1\",\"unit\":\"SU10579\",\"calp\":\"-\"},\"type\":{\"position\":\"abs\",\"positionIndex\":4,\"subject\":\"contents\"},\"dom\":null},{\"adposId\":\"1000192\",\"singleDomAdUrl\":\"https://siape.veta.naver.com/fxshow\",\"param\":{\"da_dom_id\":\"p_main_school_2\",\"tb\":\"SCHOOL_1\",\"unit\":\"SU10580\",\"calp\":\"-\"},\"type\":{\"position\":\"abs\",\"positionIndex\":8,\"subject\":\"contents\"},\"dom\":null}]},\"SHOW\":{\"menu\":\"SHOW\",\"childMenu\":\"\",\"adType\":\"singleDom\",\"multiDomAdUrl\":\"\",\"multiDomUnit\":\"\",\"infoList\":[{\"adposId\":\"1000193\",\"singleDomAdUrl\":\"https://siape.veta.naver.com/fxshow\",\"param\":{\"da_dom_id\":\"p_main_show_1\",\"tb\":\"SHOW_1\",\"unit\":\"SU10565\",\"calp\":\"-\"},\"type\":{\"position\":\"abs\",\"positionIndex\":4,\"subject\":\"contents\"},\"dom\":null},{\"adposId\":\"1000194\",\"singleDomAdUrl\":\"https://siape.veta.naver.com/fxshow\",\"param\":{\"da_dom_id\":\"p_main_show_2\",\"tb\":\"SHOW_1\",\"unit\":\"SU10566\",\"calp\":\"-\"},\"type\":{\"position\":\"abs\",\"positionIndex\":8,\"subject\":\"contents\"},\"dom\":null}]},\"TRAVEL\":{\"menu\":\"TRAVEL\",\"childMenu\":\"\",\"adType\":\"singleDom\",\"multiDomAdUrl\":\"\",\"multiDomUnit\":\"\",\"infoList\":[{\"adposId\":\"1000195\",\"singleDomAdUrl\":\"https://siape.veta.naver.com/fxshow\",\"param\":{\"da_dom_id\":\"p_main_travel_1\",\"tb\":\"TRAVEL_1\",\"unit\":\"SU10581\",\"calp\":\"-\"},\"type\":{\"position\":\"abs\",\"positionIndex\":4,\"subject\":\"contents\"},\"dom\":null},{\"adposId\":\"1000196\",\"singleDomAdUrl\":\"https://siape.veta.naver.com/fxshow\",\"param\":{\"da_dom_id\":\"p_main_travel_2\",\"tb\":\"TRAVEL_1\",\"unit\":\"SU10582\",\"calp\":\"-\"},\"type\":{\"position\":\"abs\",\"positionIndex\":8,\"subject\":\"contents\"},\"dom\":null}]},\"WEDDING\":{\"menu\":\"WEDDING\",\"childMenu\":\"\",\"adType\":\"singleDom\",\"multiDomAdUrl\":\"\",\"multiDomUnit\":\"\",\"infoList\":[{\"adposId\":\"1000197\",\"singleDomAdUrl\":\"https://siape.veta.naver.com/fxshow\",\"param\":{\"da_dom_id\":\"p_main_wedding_1\",\"tb\":\"WEDDING_1\",\"unit\":\"SU10583\",\"calp\":\"-\"},\"type\":{\"position\":\"abs\",\"positionIndex\":4,\"subject\":\"contents\"},\"dom\":null},{\"adposId\":\"1000198\",\"singleDomAdUrl\":\"https://siape.veta.naver.com/fxshow\",\"param\":{\"da_dom_id\":\"p_main_wedding_2\",\"tb\":\"WEDDING_1\",\"unit\":\"SU10584\",\"calp\":\"-\"},\"type\":{\"position\":\"abs\",\"positionIndex\":8,\"subject\":\"contents\"},\"dom\":null}]}},\\nsvt: 20210928173012,\\n}; </script> <script> window.nmain.newsstand = {\\nrcode: \\'09350103\\',\\nnewsCastSubsInfo: \\'\\',\\nnewsStandSubsInfo: \\'\\'\\n};\\nwindow.etc = {  };\\nwindow.svr = \"<!--aweb209-->\"; </script> <script src=\"https://ssl.pstatic.net/tveta/libs/assets/js/pc/main/min/pc.veta.core.min.js\" defer=\"defer\"></script>  <script async src=\"https://ssl.pstatic.net/tveta/libs/glad/prod/gfp-core.js\"></script>    <script src=\"https://pm.pstatic.net/dist/js/external.5d9e21ac.js?o=www\" type=\"text/javascript\" crossorigin=\"anonymous\" defer=\"defer\"></script> <script src=\"https://pm.pstatic.net/dist/js/preload.59a14d58.js?o=www\" type=\"text/javascript\" crossorigin=\"anonymous\" defer=\"defer\"></script> <script src=\"https://pm.pstatic.net/dist/js/polyfill_async.942eb7d6.js?o=www\" type=\"text/javascript\" crossorigin=\"anonymous\" async></script>  <script src=\"https://pm.pstatic.net/dist/js/vendors~search.30b5d61b.js?o=www\" type=\"text/javascript\" crossorigin=\"anonymous\" defer=\"defer\"></script>   <script src=\"https://pm.pstatic.net/dist/js/search.6d032745.js?o=www\" type=\"text/javascript\" crossorigin=\"anonymous\" defer=\"defer\"></script>  <script src=\"https://pm.pstatic.net/dist/js/vendors~more~nmain~sidebar_notice.031bbbfd.js?o=www\" type=\"text/javascript\" crossorigin=\"anonymous\" defer=\"defer\"></script> <script src=\"https://pm.pstatic.net/dist/js/more~nmain~sidebar_notice.3987c2c7.js?o=www\" type=\"text/javascript\" crossorigin=\"anonymous\" defer=\"defer\"></script> <script src=\"https://pm.pstatic.net/dist/js/nmain.3aead730.js?o=www\" type=\"text/javascript\" crossorigin=\"anonymous\" defer=\"defer\"></script> <style>:root{color-scheme:light}#_nx_kbd .setkorhelp a{display:none}</style> </head> <body> <div id=\"u_skip\"> <a href=\"#newsstand\"><span>뉴스스탠드 바로가기</span></a> <a href=\"#themecast\"><span>주제별캐스트 바로가기</span></a> <a href=\"#timesquare\"><span>타임스퀘어 바로가기</span></a> <a href=\"#shopcast\"><span>쇼핑캐스트 바로가기</span></a> <a href=\"#account\"><span>로그인 바로가기</span></a> </div> <div id=\"wrap\"> <style type=\"text/css\">._1syGnXOL{padding-right:18px;font-size:14px;line-height:0;letter-spacing:-.25px;color:#000}._1syGnXOL span,._1syGnXOL strong{line-height:49px}._1syGnXOL:before{display:inline-block;content:\"\";vertical-align:top;background-image:url(https://static-whale.pstatic.net/main/sprite-20210713@2x.png);background-repeat:no-repeat;background-size:116px 112px;width:18px;height:18px;margin:16px 8px 0 0;background-position:-98px 0}[data-useragent*=\"MSIE 8\"] ._1syGnXOL:before{background-image:url(https://static-whale.pstatic.net/main/sprite-20210713.png)}._1syGnXOL._3dsvmZg2:before{background-position:-47px -85px}._1syGnXOL._1NBFx1WK:before{width:20px;height:20px;margin:15px 8px 0 0;background-position:-21px -89px}._1syGnXOL._2mcQEKCd:before{width:22px;height:22px;margin:14px 7px 0 0;background-position:-47px -63px}._1syGnXOL._36slsKuJ:before{width:21px;height:49px;margin:0 14px 0 0;background-position:0 -63px}._1syGnXOL._3di88A4c{padding-right:12px;font-size:17px}._1syGnXOL._3di88A4c:before{content:none}._1syGnXOL ._19K4X1CD{text-decoration:underline}._2aeXMlrb{display:inline-block;position:relative;font-size:12px;height:49px;width:78px;text-decoration:none;color:#fff;font-weight:700;letter-spacing:-.5px;vertical-align:top}._2aeXMlrb span{text-align:center;margin:9px 0;height:31px;display:block;line-height:31px;border-radius:15px}._2aeXMlrb span:before{display:inline-block;content:\"\";vertical-align:top;background-image:url(https://static-whale.pstatic.net/main/sprite-20210713@2x.png);background-repeat:no-repeat;background-size:116px 112px}[data-useragent*=\"MSIE 8\"] ._2aeXMlrb span:before{background-image:url(https://static-whale.pstatic.net/main/sprite-20210713.png)}._2aeXMlrb.BMgpjddw{font-size:11px;width:94px}._2aeXMlrb.BMgpjddw span:before{margin:9px 3px 0 0;width:17px;height:13px;background-position:-89px -63px}._3h-N8T9V{position:absolute;top:0;left:0;right:0;bottom:0;background:rgba(0,0,0,0)}._1KncATpM{display:inline-block;content:\"\";vertical-align:top;background-image:url(https://static-whale.pstatic.net/main/sprite-20210713@2x.png);background-repeat:no-repeat;background-size:116px 112px;margin-top:14px;float:left;width:98px;height:21px;background-position:0 -21px}[data-useragent*=\"MSIE 8\"] ._1KncATpM{background-image:url(https://static-whale.pstatic.net/main/sprite-20210713.png)}._1KncATpM._2v3uxv2x{background-position:0 0}._1KncATpM._1yl_Ow6o{background-position:0 -42px}._20PYt6lT{font-size:11px;height:49px;cursor:pointer;position:absolute;top:0;right:0;color:#666;opacity:.7}._20PYt6lT:after{width:15px;height:15px;margin-left:4px;background-position:-98px -33px;display:inline-block;content:\"\";vertical-align:top;background-image:url(https://static-whale.pstatic.net/main/sprite-20210713@2x.png);background-repeat:no-repeat;background-size:116px 112px}[data-useragent*=\"MSIE 8\"] ._20PYt6lT:after{background-image:url(https://static-whale.pstatic.net/main/sprite-20210713.png)}._20PYt6lT._39oMCV2N:after{background-position:-98px -18px}._20PYt6lT._3wm5EzmJ{color:#fff}._20PYt6lT._3wm5EzmJ:after{background-position:-65px -85px}._1hiMWemA{height:49px}._1hiMWemA .tY_u8r23{position:relative;width:1130px;margin:0 auto}._1hiMWemA .tY_u8r23 a{text-decoration:none}._1hiMWemA._23U_6TM_{position:relative}._1hiMWemA._23U_6TM_:after{position:absolute;z-index:1;content:\"\";display:block;width:100%;height:1px;bottom:0;background-color:rgba(0,0,0,.050980392156862744)}</style>         <div id=\"NM_TOP_BANNER\" data-clk-prefix=\"top\" class=\"_1hiMWemA\" style=\"background-color: #f3f1ff\">\\n<div class=\"tY_u8r23\">\\n<a class=\"_3h-N8T9V\" href=\\'https://whale.naver.com/banner/details/darkmode?=main&wpid=RydDy7\\'\\ndata-clk=\"dropbanner1a\"></a>\\n<i class=\"_1KncATpM\"><span class=\"blind\">NAVER whale</span></i>\\n<img src=\"https://static-whale.pstatic.net/main/img_darkmode@2x.png\" width=\"303\" height=\"49\" alt=\"\"\\nstyle=\"padding-left: 48px\"/>\\n<span class=\"_1syGnXOL _3di88A4c\" data-clk=\"dropbanner1a\" style=\"padding-right: 10px; color: black; padding-left: 8px\"><span>여러분의\\n눈은 소중하니까, </span><strong>지금 바로 다크 모드를 켜세요!</strong></span>\\n<a href=\\'https://installer-whale.pstatic.net/downloads/banner/RydDy7/WhaleSetup.exe\\' class=\"_2aeXMlrb\" id=\"NM_whale_download_btn\"\\ndata-clk=\"dropdownload1a\"><span style=\"background-color: #7c56d5\">다운로드</span></a>\\n<button type=\"button\" data-ui-cookie-exp-days=\"3\" data-ui-cookie-key=\"NM_TOP_PROMOTION\" data-ui-cookie-value=\"1\"\\ndata-ui-hide-target=\"#NM_TOP_BANNER\" data-clk=\"dropclose1a\" class=\"_20PYt6lT _39oMCV2N\"\\nstyle=\"display: none\">\\n3일 동안 보지 않기\\n</button>\\n</div>\\n</div>\\n  <div id=\"header\" role=\"banner\">\\n\\n\\n\\n\\n\\n\\n\\n\\n<div class=\"special_bg\">\\n<div class=\"group_flex\">\\n<div class=\"logo_area\">\\n<h1 class=\"logo_default\">\\n<a href=\"/\" class=\"logo_naver\" data-clk=\"top.logo\"\\n><span class=\"blind\">네이버</span></a\\n>\\n</h1>\\n</div>\\n<div class=\"service_area\">\\n<a id=\"NM_set_home_btn\" href=\"https://help.naver.com/support/welcomePage/guide.help\" class=\"link_set\" data-clk=\"top.mkhome\">네이버를 시작페이지로</a>\\n<i class=\"sa_bar\"></i>\\n<a href=\"https://jr.naver.com\" class=\"link_jrnaver\" data-clk=\"top.jrnaver\"><i class=\"ico_jrnaver\"></i><span class=\"blind\">쥬니어네이버</span></a>\\n<a href=\"https://happybean.naver.com\" class=\"link_happybin\" data-clk=\"top.happybean\"><i class=\"ico_happybin\"></i><span class=\"blind\">해피빈</span></a>\\n</div>\\n\\n<div id=\"search\" class=\"search_area\" data-clk-prefix=\"sch\">\\n<form id=\"sform\" name=\"sform\" action=\"https://search.naver.com/search.naver\" method=\"get\" role=\"search\">\\n<fieldset>\\n<legend class=\"blind\">검색</legend>\\n<select id=\"where\" name=\"where\" title=\"검색 범위 선택\" class=\"blind\">\\n<option value=\"nexearch\" selected=\"selected\">통합검색</option><option value=\"post\">블로그</option><option value=\"cafeblog\">카페</option><option value=\"cafe\">- 카페명</option><option value=\"article\">- 카페글</option><option value=\"kin\">지식iN</option><option value=\"news\">뉴스</option><option value=\"web\">사이트</option><option value=\"category\">- 카테고리</option><option value=\"site\">- 사이트</option><option value=\"movie\">영화</option><option value=\"webkr\">웹문서</option><option value=\"dic\">사전</option><option value=\"100\">- 백과사전</option><option value=\"endic\">- 영어사전</option><option value=\"eedic\">- 영영사전</option><option value=\"krdic\">- 국어사전</option><option value=\"jpdic\">- 일본어사전</option><option value=\"hanja\">- 한자사전</option><option value=\"terms\">- 용어사전</option><option value=\"book\">책</option><option value=\"music\">음악</option><option value=\"doc\">전문자료</option><option value=\"shop\">쇼핑</option><option value=\"local\">지역</option><option value=\"video\">동영상</option><option value=\"image\">이미지</option><option value=\"mypc\">내PC</option><optgroup label=\"스마트 파인더\"><option value=\"movie\">영화</option><option value=\"auto\">자동차</option><option value=\"game\">게임</option><option value=\"health\">건강</option><option value=\"people\">인물</option></optgroup><optgroup label=\"네이버 랩\"><option>긍정부정검색</option></optgroup>\\n</select>\\n<input type=\"hidden\" id=\"sm\" name=\"sm\" value=\"top_hty\" />\\n<input type=\"hidden\" id=\"fbm\" name=\"fbm\" value=\"0\" />\\n<input type=\"hidden\" id=\"acr\" name=\"acr\" value=\"\" disabled=\"disabled\" />\\n<input type=\"hidden\" id=\"acq\" name=\"acq\" value=\"\" disabled=\"disabled\" />\\n<input type=\"hidden\" id=\"qdt\" name=\"qdt\" value=\"\" disabled=\"disabled\" />\\n<input type=\"hidden\" id=\"ie\" name=\"ie\" value=\"utf8\" />\\n<input type=\"hidden\" id=\"acir\" name=\"acir\" value=\"\" disabled=\"disabled\" />\\n<input type=\"hidden\" id=\"os\" name=\"os\" value=\"\" disabled=\"disabled\" />\\n<input type=\"hidden\" id=\"bid\" name=\"bid\" value=\"\" disabled=\"disabled\" />\\n<input type=\"hidden\" id=\"pkid\" name=\"pkid\" value=\"\" disabled=\"disabled\" />\\n<input type=\"hidden\" id=\"eid\" name=\"eid\" value=\"\" disabled=\"disabled\" />\\n<input type=\"hidden\" id=\"mra\" name=\"mra\" value=\"\" disabled=\"disabled\" />\\n\\n\\n\\n<div class=\"green_window\" style=\\'\\'>\\n<!-- [AU] data-atcmp-element 에 해당하는 attribute를 추가해주세요. -->\\n<input id=\"query\" name=\"query\" type=\"text\" title=\"검색어 입력\" maxlength=\"255\" class=\"input_text\" tabindex=\"1\" accesskey=\"s\" style=\"ime-mode:active;\" autocomplete=\"off\"  placeholder=\"검색어를 입력해 주세요.\" onclick=\"document.getElementById(\\'fbm\\').value=1;\" value=\"\" data-atcmp-element>\\n</div>\\n<button id=\"search_btn\" type=\"submit\" title=\"검색\" tabindex=\"3\" class=\"btn_submit\" onclick=\"window.nclick(this,\\'sch.action\\',\\'\\',\\'\\',event);\" style=\\'\\'>\\n<span class=\"blind\">검색</span>\\n<span class=\"ico_search_submit\"></span>\\n</button>\\n</fieldset>\\n</form>\\n<!-- 한글입력기 -->\\n<a href=\"#\" id=\"ke_kbd_btn\" role=\"button\" class=\"btn_keyboard\" onclick=\"return false;\"><span class=\"blind\">한글 입력기</span><span class=\"ico_keyboard\"></span></a>\\n<div id=\"_nx_kbd\" style=\"display:none;\"></div>\\n<div class=\"autocomplete\">\\n<!-- 자동완성 열린 경우 fold 클래스 추가, 딤드인 경우 dim 추가 -->\\n<a href=\"#\" role=\"button\" id=\"nautocomplete\" tabindex=\"2\" class=\"btn_arw _btn_arw fold\" aria-pressed=\"false\" data-atcmp-element><span class=\"blind\">자동완성 레이어</span><span class=\"ico_arr\"></span></a>\\n</div>\\n<!-- 자동완성레이어 -->\\n<div id=\"autoFrame\" class=\"reatcmp\" style=\"display: none;\">\\n<!-- [AU] data-atcmp-element attribute를 추가해주세요. -->\\n<div class=\"ly_atcmp\" data-atcmp-element>\\n<div class=\"api_atcmp_wrap\">\\n<!-- 최근검색어 -->\\n<!-- [AU] _recent_layer 클래스를 추가해주세요. -->\\n<div class=\"atcmp_fixer _recent_layer\" style=\"display:none;\">\\n<!-- [AU] _recent_header 클래스를 추가해주세요. -->\\n<div class=\"atcmp_header _recent_header\">\\n<strong class=\"tit\">최근검색어</strong>\\n<div class=\"option\">\\n<!-- [AU] _delAll 클래스를 추가해주세요. -->\\n<a role=\"button\" href=\"#\" class=\"item _delAll\" aria-pressed=\"false\">전체삭제</a>\\n</div>\\n</div>\\n<div class=\"atcmp_container\">\\n<!-- [AU] _recent 클래스를 추가해주세요. -->\\n<ul class=\"kwd_lst _recent\">\\n<!-- 최근검색어 템플릿 -->\\n<!-- [AU] _item 클래스를 추가해주세요. -->\\n<!-- [AU] data-template-type=\"history\" data-keyword=\"@in_txt@\" attribute를 추가해주세요. -->\\n<li class=\"item _item\" data-rank=\"@rank@\" data-template-type=\"history\" data-keyword=\"@in_txt@\">\\n<a href=\"#\" class=\"kwd\">\\n<span class=\"fix\"><span class=\"common_ico_kwd\"><i class=\"imsc ico_search\"></i></span><span>@txt@</span></span>\\n</a>\\n<span class=\"etc\">\\n<em class=\"date\">@date@.</em>\\n<!-- [AU] _del 클래스를 추가해주세요. -->\\n<a href=\"#\" role=\"button\" class=\"bt_item _del\" aria-pressed=\"false\"><i class=\"imsc ico_del\">삭제</i></a>\\n</span>\\n</li>\\n</ul>\\n<!-- [D] 검색어 저장 꺼진 경우 atcmp_fixer에 type_off 추가 -->\\n<!-- [AU] _offMsg 클래스를 추가해주세요. -->\\n<div class=\"kwd_info kwd_off _offMsg\" style=\"display: none;\">검색어 저장 기능이 꺼져 있습니다.<br><span class=\"kwd_dsc\">설정이 초기화 된다면 <a href=\"https://help.naver.com/support/alias/search/word/word_29.naver\" class=\"kwd_help\" data-clk=\"sly.help\" target=\"_blank\">도움말</a>을 확인해주세요.</span></div>\\n<!-- [D] 검색어 내역 없는 경우 atcmp_fixer에 type_off 추가 -->\\n<!-- [AU] _recentNone 클래스를 추가해주세요. -->\\n<div class=\"kwd_info kwd_none _recentNone\" style=\"display: none;\">최근 검색어 내역이 없습니다.<br><span class=\"kwd_dsc\">설정이 초기화 된다면 <a href=\"https://help.naver.com/support/alias/search/word/word_29.naver\" class=\"kwd_help\" data-clk=\"sly.help\" target=\"_blank\">도움말</a>을 확인해주세요.</span></div>\\n</div>\\n<div class=\"atcmp_footer\">\\n<span class=\"side_opt_area\">\\n<span class=\"opt_item\"><a href=\"https://help.naver.com/support/service/main.help?serviceNo=605&amp;categoryNo=1991\" data-clk=\"sly.help\" target=\"_blank\">도움말</a></span>\\n</span>\\n<span class=\"rside_opt_area\">\\n<span class=\"opt_item\">\\n<!-- [AU] _keywordOnOff 클래스를 추가해주세요. -->\\n<a href=\"#\" class=\"close _keywordOnOff\">자동저장 끄기</a>\\n</span>\\n</span>\\n</div>\\n</div>\\n<!-- 자동완성 -->\\n<!-- [AU] _atcmp_layer 클래스를 추가해주세요. -->\\n<div class=\"atcmp_fixer _atcmp_layer\" style=\"display:none;\">\\n<!-- [AU] _words 클래스를 추가해주세요. -->\\n<div class=\"atcmp_container _words\">\\n<!-- 정답형 템플릿 : 로또당첨번호 -->\\n<!-- [AU] _answer 클래스를 추가해주세요. -->\\n<!-- [AU] data-template-type=\"answer_3\" data-code=\"@code@\" data-keyword=\"@1@\" attribute를 추가해주세요. -->\\n<div class=\"atcmp_correct type_lotto _answer\" data-template-type=\"answer_3\" data-code=\"@code@\" data-keyword=\"@1@\">\\n<a href=\"#\" class=\"link_item\">\\n<span class=\"common_ico_kwd\"><i class=\"imsc ico_search\"></i></span>\\n<div class=\"dsc_area\">\\n<span class=\"tit\">@5@회차 당첨번호</span>\\n<span class=\"dsc\">\\n<span class=\"item\">추첨 @13@.</span><span class=\"item\">지급기한 1년</span>\\n</span>\\n</div>\\n<span class=\"etc_area\">\\n<span class=\"etc lotto\">\\n<em class=\"n@6@\">@6@</em><em class=\"n@7@\">@7@</em><em class=\"n@8@\">@8@</em><em class=\"n@9@\">@9@</em><em class=\"n@10@\">@10@</em><em class=\"n@11@\">@11@</em><em class=\"imsc_bf bonus n@12@\">@12@</em>\\n</span>\\n</span>\\n</a>\\n</div>\\n<!-- 정답형 템플릿 : 환율 -->\\n<!-- [AU] _answer 클래스를 추가해주세요. -->\\n<!-- [AU] data-template-type=\"answer_9\" data-code=\"@code@\" data-keyword=\"@1@\" attribute를 추가해주세요. -->\\n<div class=\"atcmp_correct type_exchange _answer\" data-template-type=\"answer_9\" data-code=\"@code@\" data-keyword=\"@1@\">\\n<!-- [D] 상승 up, 하락 down 추가 -->\\n<a href=\"#\" class=\"link_item @11@\">\\n<!-- [D] 국가별 class 가나다순\\nZAR 남아프리카 공화국\\nNPR 네팔\\nNOK 노르웨이\\nNZD 뉴질랜드\\nTWD 대만\\nDKK 덴마크\\nRUB 러시아\\nMOP 마카오\\nMYR 말레이시아\\nMXN 멕시코\\nMNT 몽골\\nUSD 미국\\nBHD 바레인\\nBDT 방글라데시\\nVND 베트남\\nBRL 브라질\\nSAR 사우디아라비아\\nSEK 스웨덴\\nCHF 스위스\\nSGD 싱가포르\\nAED 아랍에미리트\\nGBP 영국\\nEUR 유럽연합\\nILS 이스라엘\\nEGP 이집트\\nINR 인도\\nIDR 인도네시아\\nJPY 일본\\nCNY 중국\\nCZK 체코\\nCLP 칠레\\nKZT 카자흐스탄\\nQAR 카타르\\nCAD 캐나다\\nKWD 쿠웨이트\\nTHB 태국\\nTRY 터키\\nPKR 파키스탄\\nPLN 폴란드\\nPHP 필리핀\\nHUF 헝가리\\nAUD 호주\\nHKD 홍콩\\n-->\\n<span class=\"common_ico_kwd\"><i class=\"imsc ico @12@\">@14@</i></span>\\n<div class=\"dsc_area\">\\n<span class=\"tit\">@txt@<span class=\"sub\">@currency@</span></span>\\n<span class=\"dsc\">\\n<span class=\"item\"><i class=\"imsc ico_arr\"></i>@8@(@9@%)</span>\\n</span>\\n</div>\\n<span class=\"etc_area\">\\n<span class=\"etc\"><em class=\"num\">@6@</em>원</span>\\n</span>\\n</a>\\n</div>\\n<!-- 정답형 템플릿 : 날씨(국내11, 해외12) -->\\n<!-- [AU] _answer 클래스를 추가해주세요. -->\\n<!-- [AU] data-template-type=\"answer_11\" data-code=\"@code@\" data-keyword=\"@1@\" attribute를 추가해주세요. -->\\n<div class=\"atcmp_correct type_weather _answer\" data-template-type=\"answer_11\" data-code=\"@code@\" data-keyword=\"@1@\">\\n<!-- [D] 상승 up, 하락 down 추가 -->\\n<a href=\"#\" class=\"link_item @12@\">\\n<span class=\"common_ico_kwd\"><i class=\"imsc ico_search\"></i></span>\\n<div class=\"dsc_area\">\\n<span class=\"tit\">@txt@</span>\\n<span class=\"dsc\">\\n<span class=\"item\">@7@, @message@</span>\\n</span>\\n</div>\\n<span class=\"etc_area\">\\n<span class=\"etc\">\\n<!-- [D] 날씨별 class\\nico1 맑음(낮)\\nico2 맑음(밤)\\nico3 구름조금(낮)\\nico4 구름조금(밤)\\nico5 구름많음(낮)\\nico6 구름많음(밤)\\nico7 흐림\\nico8 약한비\\nico9 비\\nico10 강한비\\nico11 약한눈\\nico12 눈\\nico13 강한눈\\nico14 진눈깨비\\nico15 소나기\\nico16 안개\\nico17 소낙눈\\nico18 번개뇌우\\nico19 우박\\nico20 황사\\nico21 비또는눈\\nico22 가끔비\\nico23 가끔눈\\nico24 가끔비또는눈\\nico25 흐린후갬\\nico26 뇌우후갬\\nico27 비후갬\\nico28 눈후갬\\nico29 흐려져비\\nico30 흐려져눈\\n-->\\n<span class=\"ico_weather\"><i class=\"imsc ico ico@iconNo@\">@7@</i></span>\\n<em class=\"degree\">@8@<sup class=\"celsius\">°</sup></em>\\n</span>\\n</span>\\n</a>\\n</div>\\n<!-- 정답형 템플릿 : 사이트 바로가기 -->\\n<!-- [AU] _answer 클래스를 추가해주세요. -->\\n<!-- [AU] data-template-type=\"answer_17\" data-code=\"@code@\" data-keyword=\"@1@\" attribute를 추가해주세요. -->\\n<div class=\"atcmp_correct type_site _answer\" data-template-type=\"answer_17\" data-code=\"@code@\" data-keyword=\"@1@\">\\n<a href=\"@5@\" class=\"link_item\" target=\"_blank\">\\n<span class=\"common_ico_kwd\"><i class=\"imsc ico_url\"></i></span>\\n<div class=\"dsc_area\">\\n<span class=\"tit\">@txt@</span>\\n<span class=\"dsc\">\\n<span class=\"item\">@5@</span>\\n</span>\\n</div>\\n<span class=\"etc_area\">\\n<span class=\"etc\">바로가기</span>\\n</span>\\n</a>\\n</div>\\n<!-- [AU] _kwd_list 클래스를 추가해주세요. -->\\n<ul class=\"kwd_lst _kwd_list\">\\n<!-- [AU] 자동완성 검색어 템플릿 -->\\n<!-- [AU] _item 클래스를 추가해주세요. -->\\n<!-- [AU] data-rank=\"@rank@\" data-template-type=\"suggestion\" data-keyword=\"@in_txt@\" attribute를 추가해주세요. -->\\n<li class=\"item _item\" data-rank=\"@rank@\" data-template-type=\"suggestion\" data-keyword=\"@in_txt@\">\\n<a href=\"#\" class=\"kwd\">\\n<span class=\"fix\"><span class=\"common_ico_kwd\"><i class=\"imsc ico_search\"></i></span>@txt@</span>\\n</a>\\n<span class=\"etc\">\\n<a href=\"#\" role=\"button\" class=\"bt_item _add\" aria-pressed=\"false\"><i class=\"imsc ico_insert\">추가</i></a>\\n</span>\\n</li>\\n<!-- [AU] 최근검색어 템플릿 -->\\n<!-- [AU] _item 클래스를 추가해주세요. -->\\n<!-- [AU] data-rank=\"@rank@\" data-template-type=\"history\" data-keyword=\"@in_txt@\" attribute를 추가해주세요. -->\\n<li class=\"item has_correct _item\" data-rank=\"@rank@\" data-template-type=\"history\" data-keyword=\"@in_txt@\">\\n<a href=\"#\" class=\"kwd\">\\n<span class=\"fix\"><span class=\"common_ico_kwd\"><i class=\"imsc ico_search\"></i></span>@txt@</span>\\n</a>\\n<span class=\"etc\">\\n<!-- 최근검색어 있으면 날짜 표시 -->\\n<em class=\"date\">@date@.</em>\\n<a href=\"#\" role=\"button\" class=\"bt_item _add\" aria-pressed=\"false\"><i class=\"imsc ico_insert\">추가</i></a>\\n</span>\\n</li>\\n</ul>\\n<!-- [AU] 문맥검색 템플릿 -->\\n<!-- [AU] _item 클래스를 추가해주세요. -->\\n<!-- [AU] data-rank=\"@rank@\" data-template-type=\"intend\" data-keyword=\"@transQuery@\" attribute를 추가해주세요. -->\\n<li class=\"item has_correct _item\" data-rank=\"@rank@\" data-intend-rank=\"@intendRank@\" data-template-type=\"intend\" data-keyword=\"@transQuery@\">\\n<a href=\"#\" class=\"kwd\">\\n<span class=\"fix\"><span class=\"common_ico_kwd\"><i class=\"imsc ico_search\"></i></span>@query@ <span class=\"context\">@intend@</span></span>\\n</a>\\n<span class=\"etc\">\\n<a href=\"#\" role=\"button\" class=\"bt_item _add\" aria-pressed=\"false\"><i class=\"imsc ico_insert\">추가</i></a>\\n</span>\\n</li>\\n<!-- [D] 선거안내문구 -->\\n<!-- [AU] _alert 클래스를 추가해주세요. -->\\n<div class=\"atcmp_alert _alert\">\\n<div class=\"dsc_election\">\\n<p class=\"dsc\">\\n<i class=\"imsc ico_election\"></i><span class=\"_alert_passage\"></span>\\n</p>\\n<span class=\"dsc_inner\">\\n<!-- [AU] _alert_passage2 클래스를 추가해주세요. -->\\n<span class=\"_alert_passage2\"></span>\\n<!-- [AU] _alert_link 클래스를 추가해주세요. -->\\n<a href=\"#\" class=\"link _alert_link\" target=\"_blank\">자세히보기</a>\\n</span>\\n</div>\\n</div>\\n<!-- [AU] _plus 클래스를 추가해주세요. -->\\n<div class=\"atcmp_plus _plus\">\\n<div class=\"dsc_plus\">\\n<a href=\"https://help.naver.com/support/alias/search/word/word_16.naver\" class=\"link_dsc\" data-clk=\"sug.cxhelp\" target=\"_blank\">관심사를 반영한 컨텍스트 자동완성<i class=\"imsc ico_help\">도움말</i></a>\\n</div>\\n<div class=\"switch\">\\n<!-- [D] 선택시 aria-pressed=\"ture/false\" -->\\n<!-- [AU] _plus_btn 클래스를 추가해주세요. -->\\n<a role=\"button\" href=\"#\" class=\"bt_switch active _plus_btn\" aria-pressed=\"false\"><i class=\"imsc ico_option\">컨텍스트 자동완성</i></a>\\n</div>\\n<!-- [AU] _plus_layer 클래스를 추가해주세요. -->\\n<div class=\"layer_plus _plus_layer\">\\n<strong class=\"tit\">컨텍스트 자동완성</strong>\\n<!-- [AU] _plus_layer_isloggedin 클래스를 추가해주세요. -->\\n<!-- [AU] style=\"display:none\" 추가해주세요. -->\\n<div class=\"_plus_layer_isloggedin\" style=\"display:none\">\\n<p class=\"dsc\">ON/OFF 설정은<br>해당기기(브라우저)에 저장됩니다.</p>\\n<div class=\"btn_area\">\\n<a href=\"https://help.naver.com/support/alias/search/word/word_16.naver\" class=\"btn btn_view\" data-clk=\"sug.cxlink\" target=\"_blank\">자세히</a>\\n</div>\\n</div>\\n<!-- [AU] _plus_layer_isnotloggedin 클래스를 추가해주세요. -->\\n<!-- [AU] style=\"display:none\" 추가해주세요. -->\\n<div class=\"_plus_layer_isnotloggedin\" style=\"display:none\">\\n<p class=\"dsc\"><em class=\"txt\">동일한 시간대/연령/남녀별</em> 사용자 그룹의<br>관심사에 맞춰 자동완성을 제공합니다.</p>\\n<div class=\"btn_area\">\\n<a href=\"https://nid.naver.com/nidlogin.login\" class=\"btn btn_login\" data-clk=\"sug.cxlogin\">로그인</a>\\n<a href=\"https://help.naver.com/support/alias/search/word/word_16.naver\" class=\"btn btn_view\" data-clk=\"sug.cxlink\" target=\"_blank\">자세히</a>\\n</div>\\n</div>\\n<!-- [AU] _plus_layer_close 클래스를 추가해주세요. -->\\n<a href=\"#\" role=\"button\" class=\"btn_close _plus_layer_close\"><i class=\"imsc ico_close\">컨텍스트 자동완성 레이어 닫기</i></a>\\n</div>\\n</div>\\n</div>\\n<div class=\"atcmp_footer\">\\n<span class=\"side_opt_area\">\\n<span class=\"opt_item\"><a href=\"https://help.naver.com/support/service/main.help?serviceNo=605&categoryNo=1987\" data-clk=\"sug.help\" target=\"_blank\">도움말</a></span>\\n<span class=\"opt_item\"><a href=\"https://help.naver.com/support/contents/contents.help?serviceNo=605&categoryNo=18215\" class=\"report\" data-clk=\"sug.report\" target=\"_blank\">신고</a></span>\\n</span>\\n<span class=\"rside_opt_area\">\\n<span class=\"opt_item\">\\n<!-- [AU] _suggestOnOff 클래스를 추가해주세요. -->\\n<a href=\"#\" class=\"close _suggestOnOff\">자동완성 끄기</a>\\n</span>\\n</span>\\n</div>\\n</div>\\n</div>\\n</div>\\n</div>\\n</div>\\n\\n</div>\\n</div>\\n\\n<!--EMPTY-->\\n<div id=\"gnb\">\\n<div id=\"NM_FAVORITE\" class=\"gnb_inner\">\\n<div class=\"group_nav\">\\n<ul class=\"list_nav type_fix\">\\n<li class=\"nav_item\">\\n<a href=\"https://mail.naver.com/\" class=\"nav\" data-clk=\"svc.mail\"><i class=\"ico_mail\"></i>메일</a>\\n</li>\\n<li class=\"nav_item\"><a href=\"https://section.cafe.naver.com/\" class=\"nav\" data-clk=\"svc.cafe\">카페</a></li>\\n<li class=\"nav_item\"><a href=\"https://section.blog.naver.com/\" class=\"nav\" data-clk=\"svc.blog\">블로그</a></li>\\n<li class=\"nav_item\"><a href=\"https://kin.naver.com/\" class=\"nav\" data-clk=\"svc.kin\">지식iN</a></li>\\n<li class=\"nav_item\"><a href=\"https://shopping.naver.com/\" class=\"nav shop\" data-clk=\"svc.shopping\"><span class=\"blind\">쇼핑</span></a></li>\\n<li class=\"nav_item\"><a href=\"https://shoppinglive.naver.com/home\" class=\"nav shoplive\"\\ndata-clk=\"svc.shoppinglive\"><span class=\"blind\">쇼핑LIVE</span></a></li>\\n<li class=\"nav_item\"><a href=\"https://order.pay.naver.com/home\" class=\"nav\" data-clk=\"svc.pay\">Pay</a></li>\\n<li class=\"nav_item\">\\n<a href=\"https://tv.naver.com/\" class=\"nav\" data-clk=\"svc.tvcast\"><i class=\"ico_tv\"></i>TV</a>\\n</li>\\n</ul>\\n<ul\\nclass=\"list_nav NM_FAVORITE_LIST\"\\n>\\n<li class=\"nav_item\"><a href=\"https://dict.naver.com/\" class=\"nav\" data-clk=\"svc.dic\">사전</a></li>\\n<li class=\"nav_item\"><a href=\"https://news.naver.com/\" class=\"nav\" data-clk=\"svc.news\">뉴스</a></li>\\n<li class=\"nav_item\"><a href=\"https://finance.naver.com/\" class=\"nav\" data-clk=\"svc.stock\">증권</a></li>\\n<li class=\"nav_item\"><a href=\"https://land.naver.com/\" class=\"nav\" data-clk=\"svc.land\">부동산</a></li>\\n<li class=\"nav_item\"><a href=\"https://map.naver.com/\" class=\"nav\" data-clk=\"svc.map\">지도</a></li>\\n<li class=\"nav_item\"><a href=\"https://vibe.naver.com/\" class=\"nav\" data-clk=\"svc.vibe\">VIBE</a></li>\\n<li class=\"nav_item\"><a href=\"https://book.naver.com/\" class=\"nav\" data-clk=\"svc.book\">책</a></li>\\n<li class=\"nav_item\"><a href=\"https://comic.naver.com/\" class=\"nav\" data-clk=\"svc.webtoon\">웹툰</a></li>\\n\\n</ul>\\n<ul class=\"list_nav type_empty\" style=\"display: none;\"></ul>\\n<a href=\"#\" role=\"button\" class=\"btn_more\" data-clk=\"svc.more\">더보기</a>\\n<div class=\"ly_btn_area\">\\n<a href=\"more.html\" class=\"btn NM_FAVORITE_ALL\" data-clk=\"map.svcmore\">서비스 전체보기</a>\\n<a href=\"#\" role=\"button\" class=\"btn btn_set\" data-clk=\"map.edit\">메뉴설정</a>\\n<a href=\"#\" role=\"button\" class=\"btn btn_reset\" data-clk=\"edt.reset\">초기화</a>\\n<a href=\"#\" role=\"button\" class=\"btn btn_save\" data-clk=\"edt.save\">저장</a>\\n</div>\\n</div>\\n<div id=\"NM_WEATHER\" class=\"group_weather\">\\n<div>\\n<a data-clk=\"squ.weat\" href=\"https://weather.naver.com/today/09350103\" class=\"weather_area ico_w09\">\\n<div class=\"current_box\">\\n<strong class=\"current\" aria-label=\"현재기온\">23.0°</strong><strong class=\"state\">비</strong>\\n</div>\\n<div class=\"degree_box\">\\n<span class=\"min\" aria-label=\"최저기온\">18.0°</span><span class=\"max\" aria-label=\"최고기온\">24.0°</span>\\n</div>\\n<span class=\"location\">공릉동</span>\\n</a>\\n</div>\\n<div>\\n<a data-clk=\"squ.dust\" href=\"https://weather.naver.com/today/09350103\" class=\"air_area\">\\n<ul class=\"list_air\">\\n<li class=\"air_item\">미세<strong class=\"state state_good\">좋음</strong></li>\\n<li class=\"air_item\">초미세<strong class=\"state state_good\">좋음</strong></li>\\n</ul>\\n<span class=\"location\">공릉동</span>\\n</a>\\n</div>\\n\\n</div>\\n</div>\\n<div class=\"ly_service\">\\n<div class=\"group_service NM_FAVORITE_ALL_LY\"></div>\\n<div class=\"group_service NM_FAVORITE_EDIT_LY\" style=\"display: none;\"></div>\\n</div>\\n</div>\\n</div>\\n <div id=\"container\" role=\"main\"> <div style=\"position:relative;width:1130px;margin:0 auto;z-index:11\"> <div id=\"da_top\"></div> <div id=\"da_expwide\"></div> </div> <div id=\"NM_INT_LEFT\" class=\"column_left\">  <div id=\"veta_top\"> <iframe id=\"da_iframe_time\" name=\"da_iframe_time\" data-iframe-src=\"https://siape.veta.naver.com/fxshow?su=SU10599&amp;nrefreshx=0\" data-veta-preview=\"main_time\" title=\"광고\" width=\"750\" height=\"135\" marginheight=\"0\" marginwidth=\"0\" scrolling=\"no\" frameborder=\"0\"> </iframe> <span class=\"veta_bd_t\"></span> <span class=\"veta_bd_b\"></span> <span class=\"veta_bd_l\"></span> <span class=\"veta_bd_r\"></span> </div> <div id=\"newsstand\" class=\"sc_newscast\"> <h2 class=\"blind\">뉴스스탠드</h2> <div id=\"NM_NEWSSTAND_HEADER\" class=\"group_issue\" data-clk-prefix=\"ncy\"> <div class=\"issue_area\"> <div class=\"link_media\">MBC</div> <div id=\"yna_rolling\" class=\"list_issue\"> <div data-officename=\"MBC\"><a href=\"https://news.naver.com/main/read.naver?mode=LSD&mid=shm&sid1=100&oid=214&aid=0001150683\" class=\"issue\" data-clk=\"quickarticle\">세종에 \\'국회의사당 분원\\' 설치‥본회의 통과</a></div>\\n<div data-officename=\"뉴스1\"><a href=\"https://news.naver.com/main/read.naver?mode=LSD&mid=shm&sid1=101&oid=421&aid=0005626019\" class=\"issue\" data-clk=\"quickarticle\">\"빚투 잡는다더니, 서민만 잡는다\"…대출규제 불똥 튄 실수요자들</a></div>\\n<div data-officename=\"코리아중앙데일리\"><a href=\"https://news.naver.com/main/read.naver?mode=LSD&mid=shm&sid1=100&oid=640&aid=0000016600\" class=\"issue\" data-clk=\"quickarticle\">North’s missile is sixth major weapons test this year</a></div>\\n<div data-officename=\"블로터\"><a href=\"https://news.naver.com/main/read.naver?mode=LSD&mid=shm&sid1=105&oid=293&aid=0000036433\" class=\"issue\" data-clk=\"quickarticle\">카드사 노조 \\'빅테크 규제\\' 촉구…\"네이버·카카오페이 수수료율 기울어진 운동장\"</a></div>\\n<div data-officename=\"프레시안\"><a href=\"https://news.naver.com/main/read.naver?mode=LSD&mid=shm&sid1=100&oid=002&aid=0002211802\" class=\"issue\" data-clk=\"quickarticle\">윤석열·홍준표 불과 0.9%p 차 2위 다툼...이재명, 2위와 10%p 벌리며 1위</a></div>\\n<div data-officename=\"이코노미스트\"><a href=\"https://news.naver.com/main/read.naver?mode=LSD&mid=shm&sid1=101&oid=243&aid=0000016597\" class=\"issue\" data-clk=\"quickarticle\">‘젝시믹스’ 레깅스로 대박난 부부…‘억대’ 자사주 쇼핑 나선 배경은?</a></div>\\n<div data-officename=\"이데일리\"><a href=\"https://news.naver.com/main/read.naver?mode=LSD&mid=shm&sid1=100&oid=018&aid=0005046761\" class=\"issue\" data-clk=\"quickarticle\">北 ‘정상회담’ 거론하다가 돌연 발사체…고심 깊은 文대통령</a></div>\\n<div data-officename=\"아이뉴스24\"><a href=\"https://news.naver.com/main/read.naver?mode=LSD&mid=shm&sid1=105&oid=031&aid=0000626049\" class=\"issue\" data-clk=\"quickarticle\">[IT돋보기] \"카카오, 상생 의지 있나\"…대리운전 업체 2곳 추가 인수 논란</a></div>\\n<div data-officename=\"SBS Biz\"><a href=\"https://news.naver.com/main/read.naver?mode=LSD&mid=shm&sid1=100&oid=374&aid=0000259061\" class=\"issue\" data-clk=\"quickarticle\">세종시에 ‘국회의사당 분원’ 설치…이르면 2024년 착공</a></div>\\n<div data-officename=\"연합뉴스TV\"><a href=\"https://news.naver.com/main/read.naver?mode=LSD&mid=shm&sid1=100&oid=422&aid=0000506538\" class=\"issue\" data-clk=\"quickarticle\">\\'화천대유\\' 공방 점입가경…언론중재법 상정 연기</a></div>\\n<div data-officename=\"강원일보\"><a href=\"https://news.naver.com/main/read.naver?mode=LSD&mid=shm&sid1=100&oid=087&aid=0000861930\" class=\"issue\" data-clk=\"quickarticle\">국민의힘, 이재명 지사 등 9명 배임 혐의로 검찰에 고발</a></div>\\n<div data-officename=\"매경이코노미\"><a href=\"https://news.naver.com/main/read.naver?mode=LSD&mid=shm&sid1=101&oid=024&aid=0000070720\" class=\"issue\" data-clk=\"quickarticle\">인도 증시 연일 최고치…공급망 新질서 호재라는데 단기 급등 부담</a></div>\\n<div data-officename=\"한경비즈니스\"><a href=\"https://news.naver.com/main/read.naver?mode=LSD&mid=shm&sid1=101&oid=050&aid=0000058606\" class=\"issue\" data-clk=\"quickarticle\">‘2021 히트상품’ 성공 키워드</a></div>\\n<div data-officename=\"데일리안\"><a href=\"https://news.naver.com/main/read.naver?mode=LSD&mid=shm&sid1=100&oid=119&aid=0002533292\" class=\"issue\" data-clk=\"quickarticle\">곽상도 \"대장동 검찰 수사 후 문제 있다면 사퇴\"</a></div>\\n<div data-officename=\"코리아헤럴드\"><a href=\"https://news.naver.com/main/read.naver?mode=LSD&mid=shm&sid1=104&oid=044&aid=0000231022\" class=\"issue\" data-clk=\"quickarticle\">KFCC logs W208.9b in H1 net profit despite COVID-19 woes</a></div>\\n<div data-officename=\"노컷뉴스\"><a href=\"https://news.naver.com/main/read.naver?mode=LSD&mid=shm&sid1=102&oid=079&aid=0003557150\" class=\"issue\" data-clk=\"quickarticle\">[단독]대장동 개발 \\'특혜 의혹\\' 화천대유 이성문 대표 사임</a></div>\\n<div data-officename=\"디지털데일리\"><a href=\"https://news.naver.com/main/read.naver?mode=LSD&mid=shm&sid1=004&oid=138&aid=0002110861\" class=\"issue\" data-clk=\"quickarticle\">3년 클라우드 전환 여정 끝낸 대한항공…어떤 성과 있었나</a></div>\\n<div data-officename=\"국민일보\"><a href=\"https://news.naver.com/main/read.naver?mode=LSD&mid=shm&sid1=102&oid=005&aid=0001473267\" class=\"issue\" data-clk=\"quickarticle\">국회법 개정안 본회의 통과…국회 세종의사당 설치 확정</a></div>\\n<div data-officename=\"일다\"><a href=\"https://news.naver.com/main/read.naver?mode=LSD&mid=shm&sid1=102&oid=007&aid=0000006902\" class=\"issue\" data-clk=\"quickarticle\">미투운동 ‘이후’ 이야기해야 하는 것들</a></div>\\n<div data-officename=\"헤럴드경제\"><a href=\"https://news.naver.com/main/read.naver?mode=LSD&mid=shm&sid1=100&oid=016&aid=0001892482\" class=\"issue\" data-clk=\"quickarticle\">곽상도 \"수사받고 \\'진짜\\' 주인 밝히겠다…책임질 일 있다면 직도 마다치 않겠다\"</a></div>\\n<div data-officename=\"TV조선\"><a href=\"https://news.naver.com/main/read.naver?mode=LSD&mid=shm&sid1=100&oid=448&aid=0000340136\" class=\"issue\" data-clk=\"quickarticle\">北 발사체 \\'극초음속 미사일\\' 시험용 가능성…軍 \"예의주시\"</a></div>\\n<div data-officename=\"경향신문\"><a href=\"https://news.naver.com/main/read.naver?mode=LSD&mid=shm&sid1=100&oid=032&aid=0003100429\" class=\"issue\" data-clk=\"quickarticle\">열받은 추미애 캠프, 이낙연 측의 ‘사퇴가능성’ 언급에 “예의라고는 눈곱만큼도···즉각 사죄하라”</a></div>\\n<div data-officename=\"시사저널\"><a href=\"https://news.naver.com/main/read.naver?mode=LSD&mid=shm&sid1=102&oid=586&aid=0000029442\" class=\"issue\" data-clk=\"quickarticle\">\"공유킥보드 이용자 3%만 안전모 착용…인도 통행도 여전\"</a></div>\\n<div data-officename=\"지디넷코리아\"><a href=\"https://news.naver.com/main/read.naver?mode=LSD&mid=shm&sid1=105&oid=092&aid=0002234687\" class=\"issue\" data-clk=\"quickarticle\">28GHz 5G로 지하철 와이파이 10배 빨라진다</a></div>\\n<div data-officename=\"신동아\"><a href=\"https://news.naver.com/main/read.naver?mode=LSD&mid=shm&sid1=104&oid=262&aid=0000014819\" class=\"issue\" data-clk=\"quickarticle\">[단독]北 물자부족 비상, 中 파견노동자에 생필품 헌납 지시</a></div>\\n<div data-officename=\"동아사이언스\"><a href=\"https://news.naver.com/main/read.naver?mode=LSD&mid=shm&sid1=105&oid=584&aid=0000016090\" class=\"issue\" data-clk=\"quickarticle\">연일 확진자 쏟아져도 \\'위드 코로나\\' 계획대로 간다 </a></div>\\n<div data-officename=\"JTBC\"><a href=\"https://news.naver.com/main/read.naver?mode=LSD&mid=shm&sid1=102&oid=437&aid=0000277043\" class=\"issue\" data-clk=\"quickarticle\">정부, \\'백신패스\\' 검토…\"확진자 3천명대 나와도 \\'위드 코로나\\' 전환\"</a></div>\\n<div data-officename=\"머니S\"><a href=\"https://news.naver.com/main/read.naver?mode=LSD&mid=shm&sid1=100&oid=417&aid=0000738584\" class=\"issue\" data-clk=\"quickarticle\">정부 \"일제 강제동원 기업 자산 매각이 국제법 위반? 자의적 주장\"</a></div>\\n<div data-officename=\"서울경제\"><a href=\"https://news.naver.com/main/read.naver?mode=LSD&mid=shm&sid1=102&oid=011&aid=0003966935\" class=\"issue\" data-clk=\"quickarticle\">\"백신 안맞으면 학교서 왕따 당하겠지요\"···근심 깊어진 학부모들</a></div>\\n<div data-officename=\"전자신문\"><a href=\"https://news.naver.com/main/read.naver?mode=LSD&mid=shm&sid1=101&oid=030&aid=0002971893\" class=\"issue\" data-clk=\"quickarticle\">“코인마켓 전환 후 거래량 95% 감소”…블록체인 협단체, 특금법 재개정 촉구</a></div>\\n<div data-officename=\"채널A\"><a href=\"https://news.naver.com/main/read.naver?mode=LSD&mid=shm&sid1=100&oid=449&aid=0000215442\" class=\"issue\" data-clk=\"quickarticle\">[단독]곽상도, 의원직 당장 사퇴 안 한다…“검찰 수사 후 잘못 있으면 사퇴”</a></div>\\n<div data-officename=\"오마이뉴스\"><a href=\"https://news.naver.com/main/read.naver?mode=LSD&mid=shm&sid1=104&oid=047&aid=0002327784\" class=\"issue\" data-clk=\"quickarticle\">\"백신 맞을래, 이혼 할래\"... 많은 부부가 택한 제3의 길 [임상훈의 글로벌리포트]</a></div>\\n<div data-officename=\"서울신문\"><a href=\"https://news.naver.com/main/read.naver?mode=LSD&mid=shm&sid1=102&oid=081&aid=0003218681\" class=\"issue\" data-clk=\"quickarticle\">성주서 성묘하던 20대 남성 숨져…열흘 전 모더나 1차 백신 접종</a></div>\\n<div data-officename=\"중앙일보\"><a href=\"https://news.naver.com/main/read.naver?mode=LSD&mid=shm&sid1=101&oid=025&aid=0003138153\" class=\"issue\" data-clk=\"quickarticle\">\"누구나 청약? 우릴 바보로 아나\" 박영수 딸 줍줍, 3040 분노</a></div>\\n<div data-officename=\"한겨레\"><a href=\"https://news.naver.com/main/read.naver?mode=LSD&mid=shm&sid1=102&oid=028&aid=0002561805\" class=\"issue\" data-clk=\"quickarticle\">정부 “하루 확진자 3천명대에도 단계적 일상 회복…‘백신 패스’도 검토”</a></div>\\n<div data-officename=\"매일신문\"><a href=\"https://news.naver.com/main/read.naver?mode=LSD&mid=shm&sid1=102&oid=088&aid=0000723225\" class=\"issue\" data-clk=\"quickarticle\">대구 28일 오후 4시까지 102명 신규확진…외국인 지인모임 관련 누적 457명</a></div>\\n<div data-officename=\"디지털타임스\"><a href=\"https://news.naver.com/main/read.naver?mode=LSD&mid=shm&sid1=100&oid=029&aid=0002698463\" class=\"issue\" data-clk=\"quickarticle\">尹캠프 \"李 심복들 대장동 사업자 부당선정…화천대유 8000억 이익 몰수해야\"</a></div>\\n<div data-officename=\"매일경제\"><a href=\"https://news.naver.com/main/read.naver?mode=LSD&mid=shm&sid1=101&oid=009&aid=0004857121\" class=\"issue\" data-clk=\"quickarticle\">[단독] 최대 7억, 정년까지 남은 임금 보상하겠다…씨티은행 희망퇴직 제안, 매각 급물살탈까</a></div>\\n<div data-officename=\"주간동아\"><a href=\"https://news.naver.com/main/read.naver?mode=LSD&mid=shm&sid1=101&oid=037&aid=0000029793\" class=\"issue\" data-clk=\"quickarticle\">DL 아파트 리모델링 시장서 약진… 대형 건설사 ‘적과 동침’도 불사</a></div>\\n<div data-officename=\"조세일보\"><a href=\"https://news.naver.com/main/read.naver?mode=LSD&mid=shm&sid1=100&oid=123&aid=0002255677\" class=\"issue\" data-clk=\"quickarticle\">\\'중대재해처벌법\\' 국무회의 통과...경영자도 1년 이상 징역</a></div>\\n<div data-officename=\"더팩트\"><a href=\"https://news.naver.com/main/read.naver?mode=LSD&mid=shm&sid1=101&oid=629&aid=0000107915\" class=\"issue\" data-clk=\"quickarticle\">삼성가 이서현, \\'상속세 담보\\' 2조 원대 삼성전자 주식 공탁</a></div>\\n<div data-officename=\"월간산\"><a href=\"https://news.naver.com/main/read.naver?mode=LSD&mid=shm&sid1=103&oid=094&aid=0000009416\" class=\"issue\" data-clk=\"quickarticle\">오메! 설악산 첫 단풍 들었네!</a></div>\\n<div data-officename=\"시사IN\"><a href=\"https://news.naver.com/main/read.naver?mode=LSD&mid=shm&sid1=104&oid=308&aid=0000029475\" class=\"issue\" data-clk=\"quickarticle\">‘버전 2.0’으로 돌아온 탈레반, 그들이 진화한 두 가지 이유</a></div>\\n<div data-officename=\"여성신문\"><a href=\"https://news.naver.com/main/read.naver?mode=LSD&mid=shm&sid1=102&oid=310&aid=0000090830\" class=\"issue\" data-clk=\"quickarticle\">권덕철 장관\"10월말~11월초 단계적 일상 회복 전환\"</a></div>\\n<div data-officename=\"머니투데이\"><a href=\"https://news.naver.com/main/read.naver?mode=LSD&mid=shm&sid1=101&oid=008&aid=0004649815\" class=\"issue\" data-clk=\"quickarticle\">\"실거주한다며 갱신거절한 집주인, 두달만에 집 팔았습니다\"</a></div>\\n<div data-officename=\"문화일보\"><a href=\"https://news.naver.com/main/read.naver?mode=LSD&mid=shm&sid1=102&oid=021&aid=0002486844\" class=\"issue\" data-clk=\"quickarticle\">[단독]‘대장동 1007억’ 챙긴 남욱, 강남 노른자위 건물 샀다</a></div>\\n<div data-officename=\"MBN\"><a href=\"https://news.naver.com/main/read.naver?mode=LSD&mid=shm&sid1=100&oid=057&aid=0001610505\" class=\"issue\" data-clk=\"quickarticle\">\\'곽상도 아들 50억 솔직히 이해 안되죠?\\' 질문에 김재원이 한 말은?</a></div>\\n<div data-officename=\"조선일보\"><a href=\"https://news.naver.com/main/read.naver?mode=LSD&mid=shm&sid1=100&oid=023&aid=0003642886\" class=\"issue\" data-clk=\"quickarticle\">진중권, 이재명에 “결백하다면 특검 수용...한동훈에 수사 맡겨라”</a></div>\\n<div data-officename=\"한국경제\"><a href=\"https://news.naver.com/main/read.naver?mode=LSD&mid=shm&sid1=101&oid=015&aid=0004609515\" class=\"issue\" data-clk=\"quickarticle\">\\'증\\'만 있으면…주부도 80대 은퇴자도 \\'월 1000만원 알바\\'</a></div>\\n<div data-officename=\"헬스조선\"><a href=\"https://news.naver.com/main/read.naver?mode=LSD&mid=shm&sid1=103&oid=346&aid=0000044604\" class=\"issue\" data-clk=\"quickarticle\">변 색깔, ○○색일 때 대장암 가능성</a></div>\\n<div data-officename=\"YTN\"><a href=\"https://news.naver.com/main/read.naver?mode=LSD&mid=shm&sid1=102&oid=052&aid=0001645596\" class=\"issue\" data-clk=\"quickarticle\">[단독] 공수처, \\'고발사주 의혹\\' 관련 대검찰청 압수수색</a></div>\\n<div data-officename=\"한국일보\"><a href=\"https://news.naver.com/main/read.naver?mode=LSD&mid=shm&sid1=102&oid=469&aid=0000631907\" class=\"issue\" data-clk=\"quickarticle\">\\'대장동 의혹\\'에 코너 몰린 곽상도… 내년 대구시장 선거판 요동</a></div>\\n<div data-officename=\"파이낸셜뉴스\"><a href=\"https://news.naver.com/main/read.naver?mode=LSD&mid=shm&sid1=100&oid=014&aid=0004715064\" class=\"issue\" data-clk=\"quickarticle\">[단독]대장동 개발정보 사전유출 논란, 6년전 與 시의회서 제기</a></div>\\n<div data-officename=\"부산일보\"><a href=\"https://news.naver.com/main/read.naver?mode=LSD&mid=shm&sid1=102&oid=082&aid=0001121019\" class=\"issue\" data-clk=\"quickarticle\">부산 BRT 정류장에 피어난 꽃 미세먼지 줄일까</a></div>\\n<div data-officename=\"한겨레21\"><a href=\"https://news.naver.com/main/read.naver?mode=LSD&mid=shm&sid1=103&oid=036&aid=0000045429\" class=\"issue\" data-clk=\"quickarticle\">혼잣말 세상에 당신 독백의 데시벨은</a></div>\\n<div data-officename=\"뉴시스\"><a href=\"https://news.naver.com/main/read.naver?mode=LSD&mid=shm&sid1=102&oid=003&aid=0010740876\" class=\"issue\" data-clk=\"quickarticle\">[단독]\\'고발사주\\' 수사 공수처, 대검 압수수색…자료 확보</a></div>\\n<div data-officename=\"주간조선\"><a href=\"https://news.naver.com/main/read.naver?mode=LSD&mid=shm&sid1=104&oid=053&aid=0000029723\" class=\"issue\" data-clk=\"quickarticle\">중국 비밀통화 논란 밀리 합참의장의 트럼프 배신</a></div>\\n<div data-officename=\"비즈니스워치\"><a href=\"https://news.naver.com/main/read.naver?mode=LSD&mid=shm&sid1=101&oid=648&aid=0000003942\" class=\"issue\" data-clk=\"quickarticle\">\"더마 화장품 잡아라\"…아모레·LG생건 \\'한판 승부\\'</a></div>\\n<div data-officename=\"아시아경제\"><a href=\"https://news.naver.com/main/read.naver?mode=LSD&mid=shm&sid1=100&oid=277&aid=0004975132\" class=\"issue\" data-clk=\"quickarticle\">[아경 여론조사]\\'양자대결\\' 홍준표46.6%VS이재명39.3%…洪, 오차범위 밖 우세</a></div>\\n<div data-officename=\"KBS\"><a href=\"https://news.naver.com/main/read.naver?mode=LSD&mid=shm&sid1=100&oid=056&aid=0011127512\" class=\"issue\" data-clk=\"quickarticle\">세종의사당 설치법, 국가정보원직원법 개정안 등 본회의 통과</a></div>\\n<div data-officename=\"미디어오늘\"><a href=\"https://news.naver.com/main/read.naver?mode=LSD&mid=shm&sid1=102&oid=006&aid=0000109859\" class=\"issue\" data-clk=\"quickarticle\">KBS구성원이 생각하는 사장선출 방식 핵심은 \\'국민\\'</a></div>\\n<div data-officename=\"주간경향\"><a href=\"https://news.naver.com/main/read.naver?mode=LSD&mid=shm&sid1=101&oid=033&aid=0000043099\" class=\"issue\" data-clk=\"quickarticle\">[IT칼럼]말과 글의 경계가 사라지는 날</a></div>\\n<div data-officename=\"뉴스타파\"><a href=\"https://news.naver.com/main/read.naver?mode=LSD&mid=shm&sid1=102&oid=607&aid=0000000885\" class=\"issue\" data-clk=\"quickarticle\">[검찰의 사냥법] ③ 서울남부지검이 덮은 두번째 \\'원유철 뇌물\\' 자백</a></div>\\n<div data-officename=\"코메디닷컴\"><a href=\"https://news.naver.com/main/read.naver?mode=LSD&mid=shm&sid1=103&oid=296&aid=0000051994\" class=\"issue\" data-clk=\"quickarticle\">중년의  \\'혈액\\' 흐름, \\'혈관병\\' 예방 돕는 제철 음식은?</a></div>\\n<div data-officename=\"SBS\"><a href=\"https://news.naver.com/main/read.naver?mode=LSD&mid=shm&sid1=100&oid=055&aid=0000923858\" class=\"issue\" data-clk=\"quickarticle\">\"의혹 몸통은 국민의힘\" vs \"이재명 게이트…특검 수사\"</a></div>\\n<div data-officename=\"기자협회보\"><a href=\"https://news.naver.com/main/read.naver?mode=LSD&mid=shm&sid1=102&oid=127&aid=0000031587\" class=\"issue\" data-clk=\"quickarticle\">서울지노위 \"스포츠서울 임직원 14명 정리해고는 부당\"</a></div>\\n<div data-officename=\"세계일보\"><a href=\"https://news.naver.com/main/read.naver?mode=LSD&mid=shm&sid1=102&oid=022&aid=0003623348\" class=\"issue\" data-clk=\"quickarticle\">정부 “거리두기 유지 어렵다…10월말~11월초 전환”</a></div>\\n<div data-officename=\"동아일보\"><a href=\"https://news.naver.com/main/read.naver?mode=LSD&mid=shm&sid1=100&oid=020&aid=0003384040\" class=\"issue\" data-clk=\"quickarticle\">[단독]검찰, 대장동 특혜의혹 특별수사팀 꾸린다</a></div>\\n<div data-officename=\"조선비즈\"><a href=\"https://news.naver.com/main/read.naver?mode=LSD&mid=shm&sid1=101&oid=366&aid=0000763265\" class=\"issue\" data-clk=\"quickarticle\">농협·국민·하나은행까지… 연말 올수록 돈 빌릴 데가 없다</a></div>\\n<div data-officename=\"한국경제TV\"><a href=\"https://news.naver.com/main/read.naver?mode=LSD&mid=shm&sid1=101&oid=215&aid=0000986941\" class=\"issue\" data-clk=\"quickarticle\">\\'4억 로또분양\\' 대박 조짐...특공 경쟁률 166.8대 1</a></div> </div> </div> <div class=\"direct_area\"> <a href=\"http://news.naver.com/\" class=\"link_news\" data-clk=\"newshome\">네이버뉴스</a>\\n<a href=\"http://entertain.naver.com/home\" class=\"link_direct\" data-clk=\"entertainment\">연예</a>\\n<a href=\"http://sports.news.naver.com/\" class=\"link_direct\" data-clk=\"sports\">스포츠</a>\\n<a href=\"http://news.naver.com/main/main.nhn?mode=LSD&mid=shm&sid1=101\" class=\"link_direct\" data-clk=\"economy\">경제</a> </div> </div>        <div id=\"NM_NEWSSTAND_TITLE\" class=\"group_title\" data-clk-prefix=\"nsd\"> <a href=\"http://newsstand.naver.com/\" class=\"link_newsstand\" data-clk=\"title\" target=\"_blank\">뉴스스탠드</a> <div id=\"NM_NEWSSTAND_data_buttons\" class=\"sort_area\">  <a href=\"#\" role=\"button\" data-type=\"my\" data-clk=\"my\" class=\"btn_sort\">구독한 언론사</a> <a href=\"#\" role=\"button\" data-type=\"all\" data-clk=\"all\" class=\"btn_sort sort_on\">전체언론사</a>  </div> <div id=\"NM_NEWSSTAND_view_buttons\" class=\"set_area\">  <a href=\"#\" role=\"button\" data-type=\"list\" data-clk=\"articleview\" class=\"btn_set\"> <i class=\"ico_list\"><span class=\"blind\">리스트형</span></i></a> <a href=\"#\" role=\"button\" data-type=\"thumb\" data-clk=\"pressview\" class=\"btn_set set_on\"> <i class=\"ico_tile\"><span class=\"blind\">썸네일형</span></i></a>  <a href=\"http://newsstand.naver.com/config.html\" class=\"btn_set\" data-clk=\"set\" target=\"_blank\"> <i class=\"ico_set\"><span class=\"blind\">설정</span></i></a> </div> </div> <div id=\"NM_NEWSSTAND_VIEW_CONTAINER\" style=\"position:relative\"> <div id=\"NM_NEWSSTAND_DEFAULT_LIST\" class=\"group_news\" style=\"display:none\" data-clk-prefix=\"nsd_all\"> <a href=\"#\" role=\"button\" class=\"pm_btn_prev_l _NM_NEWSSTAND_LIST_prev_btn\" data-clk-custom=\"prev\"><i class=\"ico_btn\"><span class=\"blind\">이전</span></i></a> <a href=\"#\" role=\"button\" class=\"pm_btn_next_l _NM_NEWSSTAND_LIST_next_btn\" data-clk-custom=\"next\"><i class=\"ico_btn\"><span class=\"blind\">다음</span></i></a> <div class=\"list_view\"> <div class=\"option_area\"> <div class=\"list_option_wrap\"> <ul class=\"list_option\"> <li class=\"option_item\" data-cateid=\"ct2\"><a href=\"#\" class=\"option\" data-clk=\"daei\">종합/경제</a></li> <li class=\"option_item\" data-cateid=\"ct3\"><a href=\"#\" class=\"option\" data-clk=\"dtvcom\">방송/통신</a></li> <li class=\"option_item\" data-cateid=\"ct4\"><a href=\"#\" class=\"option\" data-clk=\"dit\">IT</a></li> <li class=\"option_item\" data-cateid=\"ct5\"><a href=\"#\" class=\"option\" data-clk=\"deng\">영자지</a></li> <li class=\"option_item\" data-cateid=\"ct6\"><a href=\"#\" class=\"option\" data-clk=\"dsporent\">스포츠/연예</a></li> <li class=\"option_item\" data-cateid=\"ct7\"><a href=\"#\" class=\"option\" data-clk=\"dmagtec\">매거진/전문지</a></li> <li class=\"option_item\" data-cateid=\"ct8\"><a href=\"#\" class=\"option\" data-clk=\"dloc\">지역</a></li> </ul> </div> </div> <div class=\"_NM_NEWSSTAND_ARTICLE_CONTAINER\" data-clk-sub=\"*a\"></div> </div> <div class=\"ly_popup NM_NEWSSTAND_POPUP NM_NEWSSTAND_invalid\" style=\"display:none\" data-clk-sub=\"*a\"> <a href=\"#\" role=\"button\" class=\"btn_close NM_NEWSSTAND_POPUP_CLOSE\"><i class=\"ico_close\"></i><span class=\"blind\">닫기</span></a> <p class=\"popup_msg\">해당 언론사 사정으로 접근이 제한됩니다.</p> <div class=\"popup_btn\"> <a href=\"#\" role=\"button\" class=\"btn_confirm NM_NEWSSTAND_POPUP_CLOSE\">확인</a> </div> </div> <div class=\"ly_popup NM_NEWSSTAND_POPUP NM_NEWSSTAND_undescribe_confirm\" style=\"display:none\" data-clk-sub=\"*a\"> <a href=\"#\" role=\"button\" class=\"btn_close NM_NEWSSTAND_POPUP_CLOSE\" data-clk=\"usclose\"><i class=\"ico_close\"></i><span class=\"blind\">닫기</span></a> <p class=\"popup_msg\"><strong class=\"NM_NEWSSTAND_POPUP_PNAME\"></strong>을(를)<br>구독해지 하시겠습니까?</p> <div class=\"popup_btn\"> <a href=\"#\" role=\"button\" class=\"btn_confirm NM_NEWSSTAND_POPUP_CONFIRM\" data-clk=\"usdone\">확인</a> <a href=\"#\" role=\"button\" class=\"btn_confirm NM_NEWSSTAND_POPUP_CLOSE\" data-clk=\"uscancel\">취소</a> </div> </div> <div class=\"ly_toast NM_NEWSSTAND_TOAST\" style=\"display:none\"> <p class=\"toast_msg\">구독한 언론사에 추가되었습니다.</p> </div> </div>   <div id=\"NM_NEWSSTAND_DEFAULT_THUMB\" class=\"group_news\" style=\"display:block\" data-clk-prefix=\"nsd_all\"> <a href=\"#\" role=\"button\" class=\"pm_btn_prev_l _NM_UI_PAGE_PREV\" data-clk-custom=\"prev\"><i class=\"ico_btn\"><span class=\"blind\">이전</span></i></a> <a href=\"#\" role=\"button\" class=\"pm_btn_next_l _NM_UI_PAGE_NEXT\" data-clk-custom=\"next\"><i class=\"ico_btn\"><span class=\"blind\">다음</span></i></a> <div class=\"_NM_UI_PAGE_CONTAINER\" style=\"height:100%;overflow:hidden\" data-clk-sub=\"*p\">   <div style=\"width: 750px; float: left;\">\\n<div class=\"tile_view\">\\n<div class=\"frame_area\">\\n<i class=\"line to_right1\"></i>\\n<i class=\"line to_right2\"></i>\\n<i class=\"line to_right3\"></i>\\n<i class=\"line to_bottom1\"></i>\\n<i class=\"line to_bottom2\"></i>\\n<i class=\"line to_bottom3\"></i>\\n<i class=\"line to_bottom4\"></i>\\n<i class=\"line to_bottom5\"></i>\\n</div>\\n<div class=\"thumb_area\">\\n<div\\nclass=\"thumb_box _NM_NEWSSTAND_THUMB _NM_NEWSSTAND_THUMB_press_valid\"\\ndata-pid=\"139\"\\n>\\n<a href=\"#\" class=\"thumb\">\\n<img\\nsrc=\"https://s.pstatic.net/static/newsstand/2020/logo/light/0604/139.png\"\\nheight=\"20\"\\nalt=\"스포탈코리아\"\\nclass=\"news_logo\"\\n/>\\n<span class=\"thumb_dim\"></span\\n></a>\\n<div class=\"popup_wrap\">\\n<a\\nhref=\"#\"\\nrole=\"button\"\\nclass=\"btn_popup _NM_NEWSSTAND_THUMB_subscribe_press\"\\ndata-pid=\"139\"\\ndata-clk=\"sub\"\\n>구독</a\\n>\\n<a\\nhref=\"#\"\\nrole=\"button\"\\nclass=\"btn_popup _NM_NEWSSTAND_THUMB_unsubscribe_press\"\\ndata-pid=\"139\"\\ndata-clk=\"unsub\"\\n>해지</a\\n>\\n<a\\nhref=\"http://newsstand.naver.com/?list=&pcode=139\"\\ntarget=\"_blank\"\\nclass=\"btn_popup\"\\ndata-clk=\"logo\"\\ndata-pid=\"139\"\\n>기사보기</a\\n>\\n</div>\\n</div>\\n<div\\nclass=\"thumb_box _NM_NEWSSTAND_THUMB _NM_NEWSSTAND_THUMB_press_valid\"\\ndata-pid=\"014\"\\n>\\n<a href=\"#\" class=\"thumb\">\\n<img\\nsrc=\"https://s.pstatic.net/static/newsstand/2020/logo/light/0604/014.png\"\\nheight=\"20\"\\nalt=\"파이낸셜뉴스\"\\nclass=\"news_logo\"\\n/>\\n<span class=\"thumb_dim\"></span\\n></a>\\n<div class=\"popup_wrap\">\\n<a\\nhref=\"#\"\\nrole=\"button\"\\nclass=\"btn_popup _NM_NEWSSTAND_THUMB_subscribe_press\"\\ndata-pid=\"014\"\\ndata-clk=\"sub\"\\n>구독</a\\n>\\n<a\\nhref=\"#\"\\nrole=\"button\"\\nclass=\"btn_popup _NM_NEWSSTAND_THUMB_unsubscribe_press\"\\ndata-pid=\"014\"\\ndata-clk=\"unsub\"\\n>해지</a\\n>\\n<a\\nhref=\"http://newsstand.naver.com/?list=&pcode=014\"\\ntarget=\"_blank\"\\nclass=\"btn_popup\"\\ndata-clk=\"logo\"\\ndata-pid=\"014\"\\n>기사보기</a\\n>\\n</div>\\n</div>\\n<div\\nclass=\"thumb_box _NM_NEWSSTAND_THUMB _NM_NEWSSTAND_THUMB_press_valid\"\\ndata-pid=\"029\"\\n>\\n<a href=\"#\" class=\"thumb\">\\n<img\\nsrc=\"https://s.pstatic.net/static/newsstand/2020/logo/light/0604/029.png\"\\nheight=\"20\"\\nalt=\"디지털타임스\"\\nclass=\"news_logo\"\\n/>\\n<span class=\"thumb_dim\"></span\\n></a>\\n<div class=\"popup_wrap\">\\n<a\\nhref=\"#\"\\nrole=\"button\"\\nclass=\"btn_popup _NM_NEWSSTAND_THUMB_subscribe_press\"\\ndata-pid=\"029\"\\ndata-clk=\"sub\"\\n>구독</a\\n>\\n<a\\nhref=\"#\"\\nrole=\"button\"\\nclass=\"btn_popup _NM_NEWSSTAND_THUMB_unsubscribe_press\"\\ndata-pid=\"029\"\\ndata-clk=\"unsub\"\\n>해지</a\\n>\\n<a\\nhref=\"http://newsstand.naver.com/?list=&pcode=029\"\\ntarget=\"_blank\"\\nclass=\"btn_popup\"\\ndata-clk=\"logo\"\\ndata-pid=\"029\"\\n>기사보기</a\\n>\\n</div>\\n</div>\\n<div\\nclass=\"thumb_box _NM_NEWSSTAND_THUMB _NM_NEWSSTAND_THUMB_press_valid\"\\ndata-pid=\"081\"\\n>\\n<a href=\"#\" class=\"thumb\">\\n<img\\nsrc=\"https://s.pstatic.net/static/newsstand/2020/logo/light/0604/081.png\"\\nheight=\"20\"\\nalt=\"서울신문\"\\nclass=\"news_logo\"\\n/>\\n<span class=\"thumb_dim\"></span\\n></a>\\n<div class=\"popup_wrap\">\\n<a\\nhref=\"#\"\\nrole=\"button\"\\nclass=\"btn_popup _NM_NEWSSTAND_THUMB_subscribe_press\"\\ndata-pid=\"081\"\\ndata-clk=\"sub\"\\n>구독</a\\n>\\n<a\\nhref=\"#\"\\nrole=\"button\"\\nclass=\"btn_popup _NM_NEWSSTAND_THUMB_unsubscribe_press\"\\ndata-pid=\"081\"\\ndata-clk=\"unsub\"\\n>해지</a\\n>\\n<a\\nhref=\"http://newsstand.naver.com/?list=&pcode=081\"\\ntarget=\"_blank\"\\nclass=\"btn_popup\"\\ndata-clk=\"logo\"\\ndata-pid=\"081\"\\n>기사보기</a\\n>\\n</div>\\n</div>\\n<div\\nclass=\"thumb_box _NM_NEWSSTAND_THUMB _NM_NEWSSTAND_THUMB_press_valid\"\\ndata-pid=\"930\"\\n>\\n<a href=\"#\" class=\"thumb\">\\n<img\\nsrc=\"https://s.pstatic.net/static/newsstand/2020/logo/light/0604/930.png\"\\nheight=\"20\"\\nalt=\"뉴스타파\"\\nclass=\"news_logo\"\\n/>\\n<span class=\"thumb_dim\"></span\\n></a>\\n<div class=\"popup_wrap\">\\n<a\\nhref=\"#\"\\nrole=\"button\"\\nclass=\"btn_popup _NM_NEWSSTAND_THUMB_subscribe_press\"\\ndata-pid=\"930\"\\ndata-clk=\"sub\"\\n>구독</a\\n>\\n<a\\nhref=\"#\"\\nrole=\"button\"\\nclass=\"btn_popup _NM_NEWSSTAND_THUMB_unsubscribe_press\"\\ndata-pid=\"930\"\\ndata-clk=\"unsub\"\\n>해지</a\\n>\\n<a\\nhref=\"http://newsstand.naver.com/?list=&pcode=930\"\\ntarget=\"_blank\"\\nclass=\"btn_popup\"\\ndata-clk=\"logo\"\\ndata-pid=\"930\"\\n>기사보기</a\\n>\\n</div>\\n</div>\\n<div\\nclass=\"thumb_box _NM_NEWSSTAND_THUMB _NM_NEWSSTAND_THUMB_press_valid\"\\ndata-pid=\"308\"\\n>\\n<a href=\"#\" class=\"thumb\">\\n<img\\nsrc=\"https://s.pstatic.net/static/newsstand/2020/logo/light/0604/308.png\"\\nheight=\"20\"\\nalt=\"시사인\"\\nclass=\"news_logo\"\\n/>\\n<span class=\"thumb_dim\"></span\\n></a>\\n<div class=\"popup_wrap\">\\n<a\\nhref=\"#\"\\nrole=\"button\"\\nclass=\"btn_popup _NM_NEWSSTAND_THUMB_subscribe_press\"\\ndata-pid=\"308\"\\ndata-clk=\"sub\"\\n>구독</a\\n>\\n<a\\nhref=\"#\"\\nrole=\"button\"\\nclass=\"btn_popup _NM_NEWSSTAND_THUMB_unsubscribe_press\"\\ndata-pid=\"308\"\\ndata-clk=\"unsub\"\\n>해지</a\\n>\\n<a\\nhref=\"http://newsstand.naver.com/?list=&pcode=308\"\\ntarget=\"_blank\"\\nclass=\"btn_popup\"\\ndata-clk=\"logo\"\\ndata-pid=\"308\"\\n>기사보기</a\\n>\\n</div>\\n</div>\\n<div\\nclass=\"thumb_box _NM_NEWSSTAND_THUMB _NM_NEWSSTAND_THUMB_press_valid\"\\ndata-pid=\"031\"\\n>\\n<a href=\"#\" class=\"thumb\">\\n<img\\nsrc=\"https://s.pstatic.net/static/newsstand/2020/logo/light/0604/031.png\"\\nheight=\"20\"\\nalt=\"아이뉴스24\"\\nclass=\"news_logo\"\\n/>\\n<span class=\"thumb_dim\"></span\\n></a>\\n<div class=\"popup_wrap\">\\n<a\\nhref=\"#\"\\nrole=\"button\"\\nclass=\"btn_popup _NM_NEWSSTAND_THUMB_subscribe_press\"\\ndata-pid=\"031\"\\ndata-clk=\"sub\"\\n>구독</a\\n>\\n<a\\nhref=\"#\"\\nrole=\"button\"\\nclass=\"btn_popup _NM_NEWSSTAND_THUMB_unsubscribe_press\"\\ndata-pid=\"031\"\\ndata-clk=\"unsub\"\\n>해지</a\\n>\\n<a\\nhref=\"http://newsstand.naver.com/?list=&pcode=031\"\\ntarget=\"_blank\"\\nclass=\"btn_popup\"\\ndata-clk=\"logo\"\\ndata-pid=\"031\"\\n>기사보기</a\\n>\\n</div>\\n</div>\\n<div\\nclass=\"thumb_box _NM_NEWSSTAND_THUMB _NM_NEWSSTAND_THUMB_press_valid\"\\ndata-pid=\"214\"\\n>\\n<a href=\"#\" class=\"thumb\">\\n<img\\nsrc=\"https://s.pstatic.net/static/newsstand/2020/logo/light/0604/214.png\"\\nheight=\"20\"\\nalt=\"MBC\"\\nclass=\"news_logo\"\\n/>\\n<span class=\"thumb_dim\"></span\\n></a>\\n<div class=\"popup_wrap\">\\n<a\\nhref=\"#\"\\nrole=\"button\"\\nclass=\"btn_popup _NM_NEWSSTAND_THUMB_subscribe_press\"\\ndata-pid=\"214\"\\ndata-clk=\"sub\"\\n>구독</a\\n>\\n<a\\nhref=\"#\"\\nrole=\"button\"\\nclass=\"btn_popup _NM_NEWSSTAND_THUMB_unsubscribe_press\"\\ndata-pid=\"214\"\\ndata-clk=\"unsub\"\\n>해지</a\\n>\\n<a\\nhref=\"http://newsstand.naver.com/?list=&pcode=214\"\\ntarget=\"_blank\"\\nclass=\"btn_popup\"\\ndata-clk=\"logo\"\\ndata-pid=\"214\"\\n>기사보기</a\\n>\\n</div>\\n</div>\\n<div\\nclass=\"thumb_box _NM_NEWSSTAND_THUMB _NM_NEWSSTAND_THUMB_press_valid\"\\ndata-pid=\"023\"\\n>\\n<a href=\"#\" class=\"thumb\">\\n<img\\nsrc=\"https://s.pstatic.net/static/newsstand/up/2020/0903/nsd185255316.png\"\\nheight=\"20\"\\nalt=\"조선일보\"\\nclass=\"news_logo\"\\n/>\\n<span class=\"thumb_dim\"></span\\n></a>\\n<div class=\"popup_wrap\">\\n<a\\nhref=\"#\"\\nrole=\"button\"\\nclass=\"btn_popup _NM_NEWSSTAND_THUMB_subscribe_press\"\\ndata-pid=\"023\"\\ndata-clk=\"sub\"\\n>구독</a\\n>\\n<a\\nhref=\"#\"\\nrole=\"button\"\\nclass=\"btn_popup _NM_NEWSSTAND_THUMB_unsubscribe_press\"\\ndata-pid=\"023\"\\ndata-clk=\"unsub\"\\n>해지</a\\n>\\n<a\\nhref=\"http://newsstand.naver.com/?list=&pcode=023\"\\ntarget=\"_blank\"\\nclass=\"btn_popup\"\\ndata-clk=\"logo\"\\ndata-pid=\"023\"\\n>기사보기</a\\n>\\n</div>\\n</div>\\n<div\\nclass=\"thumb_box _NM_NEWSSTAND_THUMB _NM_NEWSSTAND_THUMB_press_valid\"\\ndata-pid=\"030\"\\n>\\n<a href=\"#\" class=\"thumb\">\\n<img\\nsrc=\"https://s.pstatic.net/static/newsstand/2020/logo/light/0604/030.png\"\\nheight=\"20\"\\nalt=\"전자신문\"\\nclass=\"news_logo\"\\n/>\\n<span class=\"thumb_dim\"></span\\n></a>\\n<div class=\"popup_wrap\">\\n<a\\nhref=\"#\"\\nrole=\"button\"\\nclass=\"btn_popup _NM_NEWSSTAND_THUMB_subscribe_press\"\\ndata-pid=\"030\"\\ndata-clk=\"sub\"\\n>구독</a\\n>\\n<a\\nhref=\"#\"\\nrole=\"button\"\\nclass=\"btn_popup _NM_NEWSSTAND_THUMB_unsubscribe_press\"\\ndata-pid=\"030\"\\ndata-clk=\"unsub\"\\n>해지</a\\n>\\n<a\\nhref=\"http://newsstand.naver.com/?list=&pcode=030\"\\ntarget=\"_blank\"\\nclass=\"btn_popup\"\\ndata-clk=\"logo\"\\ndata-pid=\"030\"\\n>기사보기</a\\n>\\n</div>\\n</div>\\n<div\\nclass=\"thumb_box _NM_NEWSSTAND_THUMB _NM_NEWSSTAND_THUMB_press_valid\"\\ndata-pid=\"076\"\\n>\\n<a href=\"#\" class=\"thumb\">\\n<img\\nsrc=\"https://s.pstatic.net/static/newsstand/2020/logo/light/0604/076.png\"\\nheight=\"20\"\\nalt=\"스포츠조선\"\\nclass=\"news_logo\"\\n/>\\n<span class=\"thumb_dim\"></span\\n></a>\\n<div class=\"popup_wrap\">\\n<a\\nhref=\"#\"\\nrole=\"button\"\\nclass=\"btn_popup _NM_NEWSSTAND_THUMB_subscribe_press\"\\ndata-pid=\"076\"\\ndata-clk=\"sub\"\\n>구독</a\\n>\\n<a\\nhref=\"#\"\\nrole=\"button\"\\nclass=\"btn_popup _NM_NEWSSTAND_THUMB_unsubscribe_press\"\\ndata-pid=\"076\"\\ndata-clk=\"unsub\"\\n>해지</a\\n>\\n<a\\nhref=\"http://newsstand.naver.com/?list=&pcode=076\"\\ntarget=\"_blank\"\\nclass=\"btn_popup\"\\ndata-clk=\"logo\"\\ndata-pid=\"076\"\\n>기사보기</a\\n>\\n</div>\\n</div>\\n<div\\nclass=\"thumb_box _NM_NEWSSTAND_THUMB _NM_NEWSSTAND_THUMB_press_valid\"\\ndata-pid=\"020\"\\n>\\n<a href=\"#\" class=\"thumb\">\\n<img\\nsrc=\"https://s.pstatic.net/static/newsstand/2020/logo/light/0604/020.png\"\\nheight=\"20\"\\nalt=\"동아일보\"\\nclass=\"news_logo\"\\n/>\\n<span class=\"thumb_dim\"></span\\n></a>\\n<div class=\"popup_wrap\">\\n<a\\nhref=\"#\"\\nrole=\"button\"\\nclass=\"btn_popup _NM_NEWSSTAND_THUMB_subscribe_press\"\\ndata-pid=\"020\"\\ndata-clk=\"sub\"\\n>구독</a\\n>\\n<a\\nhref=\"#\"\\nrole=\"button\"\\nclass=\"btn_popup _NM_NEWSSTAND_THUMB_unsubscribe_press\"\\ndata-pid=\"020\"\\ndata-clk=\"unsub\"\\n>해지</a\\n>\\n<a\\nhref=\"http://newsstand.naver.com/?list=&pcode=020\"\\ntarget=\"_blank\"\\nclass=\"btn_popup\"\\ndata-clk=\"logo\"\\ndata-pid=\"020\"\\n>기사보기</a\\n>\\n</div>\\n</div>\\n<div\\nclass=\"thumb_box _NM_NEWSSTAND_THUMB _NM_NEWSSTAND_THUMB_press_valid\"\\ndata-pid=\"215\"\\n>\\n<a href=\"#\" class=\"thumb\">\\n<img\\nsrc=\"https://s.pstatic.net/static/newsstand/2020/logo/light/0604/215.png\"\\nheight=\"20\"\\nalt=\"한국경제TV\"\\nclass=\"news_logo\"\\n/>\\n<span class=\"thumb_dim\"></span\\n></a>\\n<div class=\"popup_wrap\">\\n<a\\nhref=\"#\"\\nrole=\"button\"\\nclass=\"btn_popup _NM_NEWSSTAND_THUMB_subscribe_press\"\\ndata-pid=\"215\"\\ndata-clk=\"sub\"\\n>구독</a\\n>\\n<a\\nhref=\"#\"\\nrole=\"button\"\\nclass=\"btn_popup _NM_NEWSSTAND_THUMB_unsubscribe_press\"\\ndata-pid=\"215\"\\ndata-clk=\"unsub\"\\n>해지</a\\n>\\n<a\\nhref=\"http://newsstand.naver.com/?list=&pcode=215\"\\ntarget=\"_blank\"\\nclass=\"btn_popup\"\\ndata-clk=\"logo\"\\ndata-pid=\"215\"\\n>기사보기</a\\n>\\n</div>\\n</div>\\n<div\\nclass=\"thumb_box _NM_NEWSSTAND_THUMB _NM_NEWSSTAND_THUMB_press_valid\"\\ndata-pid=\"055\"\\n>\\n<a href=\"#\" class=\"thumb\">\\n<img\\nsrc=\"https://s.pstatic.net/static/newsstand/2020/logo/light/0604/055.png\"\\nheight=\"20\"\\nalt=\"SBS\"\\nclass=\"news_logo\"\\n/>\\n<span class=\"thumb_dim\"></span\\n></a>\\n<div class=\"popup_wrap\">\\n<a\\nhref=\"#\"\\nrole=\"button\"\\nclass=\"btn_popup _NM_NEWSSTAND_THUMB_subscribe_press\"\\ndata-pid=\"055\"\\ndata-clk=\"sub\"\\n>구독</a\\n>\\n<a\\nhref=\"#\"\\nrole=\"button\"\\nclass=\"btn_popup _NM_NEWSSTAND_THUMB_unsubscribe_press\"\\ndata-pid=\"055\"\\ndata-clk=\"unsub\"\\n>해지</a\\n>\\n<a\\nhref=\"http://newsstand.naver.com/?list=&pcode=055\"\\ntarget=\"_blank\"\\nclass=\"btn_popup\"\\ndata-clk=\"logo\"\\ndata-pid=\"055\"\\n>기사보기</a\\n>\\n</div>\\n</div>\\n<div\\nclass=\"thumb_box _NM_NEWSSTAND_THUMB _NM_NEWSSTAND_THUMB_press_valid\"\\ndata-pid=\"904\"\\n>\\n<a href=\"#\" class=\"thumb\">\\n<img\\nsrc=\"https://s.pstatic.net/static/newsstand/2020/logo/light/0604/904.png\"\\nheight=\"20\"\\nalt=\"JTBC\"\\nclass=\"news_logo\"\\n/>\\n<span class=\"thumb_dim\"></span\\n></a>\\n<div class=\"popup_wrap\">\\n<a\\nhref=\"#\"\\nrole=\"button\"\\nclass=\"btn_popup _NM_NEWSSTAND_THUMB_subscribe_press\"\\ndata-pid=\"904\"\\ndata-clk=\"sub\"\\n>구독</a\\n>\\n<a\\nhref=\"#\"\\nrole=\"button\"\\nclass=\"btn_popup _NM_NEWSSTAND_THUMB_unsubscribe_press\"\\ndata-pid=\"904\"\\ndata-clk=\"unsub\"\\n>해지</a\\n>\\n<a\\nhref=\"http://newsstand.naver.com/?list=&pcode=904\"\\ntarget=\"_blank\"\\nclass=\"btn_popup\"\\ndata-clk=\"logo\"\\ndata-pid=\"904\"\\n>기사보기</a\\n>\\n</div>\\n</div>\\n<div\\nclass=\"thumb_box _NM_NEWSSTAND_THUMB _NM_NEWSSTAND_THUMB_press_valid\"\\ndata-pid=\"922\"\\n>\\n<a href=\"#\" class=\"thumb\">\\n<img\\nsrc=\"https://s.pstatic.net/static/newsstand/2020/logo/light/0604/922.png\"\\nheight=\"20\"\\nalt=\"이투데이\"\\nclass=\"news_logo\"\\n/>\\n<span class=\"thumb_dim\"></span\\n></a>\\n<div class=\"popup_wrap\">\\n<a\\nhref=\"#\"\\nrole=\"button\"\\nclass=\"btn_popup _NM_NEWSSTAND_THUMB_subscribe_press\"\\ndata-pid=\"922\"\\ndata-clk=\"sub\"\\n>구독</a\\n>\\n<a\\nhref=\"#\"\\nrole=\"button\"\\nclass=\"btn_popup _NM_NEWSSTAND_THUMB_unsubscribe_press\"\\ndata-pid=\"922\"\\ndata-clk=\"unsub\"\\n>해지</a\\n>\\n<a\\nhref=\"http://newsstand.naver.com/?list=&pcode=922\"\\ntarget=\"_blank\"\\nclass=\"btn_popup\"\\ndata-clk=\"logo\"\\ndata-pid=\"922\"\\n>기사보기</a\\n>\\n</div>\\n</div>\\n<div\\nclass=\"thumb_box _NM_NEWSSTAND_THUMB _NM_NEWSSTAND_THUMB_press_valid\"\\ndata-pid=\"040\"\\n>\\n<a href=\"#\" class=\"thumb\">\\n<img\\nsrc=\"https://s.pstatic.net/static/newsstand/2020/logo/light/0604/040.png\"\\nheight=\"20\"\\nalt=\"코리아타임스\"\\nclass=\"news_logo\"\\n/>\\n<span class=\"thumb_dim\"></span\\n></a>\\n<div class=\"popup_wrap\">\\n<a\\nhref=\"#\"\\nrole=\"button\"\\nclass=\"btn_popup _NM_NEWSSTAND_THUMB_subscribe_press\"\\ndata-pid=\"040\"\\ndata-clk=\"sub\"\\n>구독</a\\n>\\n<a\\nhref=\"#\"\\nrole=\"button\"\\nclass=\"btn_popup _NM_NEWSSTAND_THUMB_unsubscribe_press\"\\ndata-pid=\"040\"\\ndata-clk=\"unsub\"\\n>해지</a\\n>\\n<a\\nhref=\"http://newsstand.naver.com/?list=&pcode=040\"\\ntarget=\"_blank\"\\nclass=\"btn_popup\"\\ndata-clk=\"logo\"\\ndata-pid=\"040\"\\n>기사보기</a\\n>\\n</div>\\n</div>\\n<div\\nclass=\"thumb_box _NM_NEWSSTAND_THUMB _NM_NEWSSTAND_THUMB_press_valid\"\\ndata-pid=\"908\"\\n>\\n<a href=\"#\" class=\"thumb\">\\n<img\\nsrc=\"https://s.pstatic.net/static/newsstand/2020/logo/light/0604/908.png\"\\nheight=\"20\"\\nalt=\"국방일보\"\\nclass=\"news_logo\"\\n/>\\n<span class=\"thumb_dim\"></span\\n></a>\\n<div class=\"popup_wrap\">\\n<a\\nhref=\"#\"\\nrole=\"button\"\\nclass=\"btn_popup _NM_NEWSSTAND_THUMB_subscribe_press\"\\ndata-pid=\"908\"\\ndata-clk=\"sub\"\\n>구독</a\\n>\\n<a\\nhref=\"#\"\\nrole=\"button\"\\nclass=\"btn_popup _NM_NEWSSTAND_THUMB_unsubscribe_press\"\\ndata-pid=\"908\"\\ndata-clk=\"unsub\"\\n>해지</a\\n>\\n<a\\nhref=\"http://newsstand.naver.com/?list=&pcode=908\"\\ntarget=\"_blank\"\\nclass=\"btn_popup\"\\ndata-clk=\"logo\"\\ndata-pid=\"908\"\\n>기사보기</a\\n>\\n</div>\\n</div>\\n<div\\nclass=\"thumb_box _NM_NEWSSTAND_THUMB _NM_NEWSSTAND_THUMB_press_valid\"\\ndata-pid=\"905\"\\n>\\n<a href=\"#\" class=\"thumb\">\\n<img\\nsrc=\"https://s.pstatic.net/static/newsstand/2020/logo/light/0604/905.png\"\\nheight=\"20\"\\nalt=\"더스쿠프\"\\nclass=\"news_logo\"\\n/>\\n<span class=\"thumb_dim\"></span\\n></a>\\n<div class=\"popup_wrap\">\\n<a\\nhref=\"#\"\\nrole=\"button\"\\nclass=\"btn_popup _NM_NEWSSTAND_THUMB_subscribe_press\"\\ndata-pid=\"905\"\\ndata-clk=\"sub\"\\n>구독</a\\n>\\n<a\\nhref=\"#\"\\nrole=\"button\"\\nclass=\"btn_popup _NM_NEWSSTAND_THUMB_unsubscribe_press\"\\ndata-pid=\"905\"\\ndata-clk=\"unsub\"\\n>해지</a\\n>\\n<a\\nhref=\"http://newsstand.naver.com/?list=&pcode=905\"\\ntarget=\"_blank\"\\nclass=\"btn_popup\"\\ndata-clk=\"logo\"\\ndata-pid=\"905\"\\n>기사보기</a\\n>\\n</div>\\n</div>\\n<div\\nclass=\"thumb_box _NM_NEWSSTAND_THUMB _NM_NEWSSTAND_THUMB_press_valid\"\\ndata-pid=\"296\"\\n>\\n<a href=\"#\" class=\"thumb\">\\n<img\\nsrc=\"https://s.pstatic.net/static/newsstand/2020/logo/light/0604/296.png\"\\nheight=\"20\"\\nalt=\"코메디닷컴\"\\nclass=\"news_logo\"\\n/>\\n<span class=\"thumb_dim\"></span\\n></a>\\n<div class=\"popup_wrap\">\\n<a\\nhref=\"#\"\\nrole=\"button\"\\nclass=\"btn_popup _NM_NEWSSTAND_THUMB_subscribe_press\"\\ndata-pid=\"296\"\\ndata-clk=\"sub\"\\n>구독</a\\n>\\n<a\\nhref=\"#\"\\nrole=\"button\"\\nclass=\"btn_popup _NM_NEWSSTAND_THUMB_unsubscribe_press\"\\ndata-pid=\"296\"\\ndata-clk=\"unsub\"\\n>해지</a\\n>\\n<a\\nhref=\"http://newsstand.naver.com/?list=&pcode=296\"\\ntarget=\"_blank\"\\nclass=\"btn_popup\"\\ndata-clk=\"logo\"\\ndata-pid=\"296\"\\n>기사보기</a\\n>\\n</div>\\n</div>\\n<div\\nclass=\"thumb_box _NM_NEWSSTAND_THUMB _NM_NEWSSTAND_THUMB_press_valid\"\\ndata-pid=\"363\"\\n>\\n<a href=\"#\" class=\"thumb\">\\n<img\\nsrc=\"https://s.pstatic.net/static/newsstand/2020/logo/light/0604/363.png\"\\nheight=\"20\"\\nalt=\"과학동아\"\\nclass=\"news_logo\"\\n/>\\n<span class=\"thumb_dim\"></span\\n></a>\\n<div class=\"popup_wrap\">\\n<a\\nhref=\"#\"\\nrole=\"button\"\\nclass=\"btn_popup _NM_NEWSSTAND_THUMB_subscribe_press\"\\ndata-pid=\"363\"\\ndata-clk=\"sub\"\\n>구독</a\\n>\\n<a\\nhref=\"#\"\\nrole=\"button\"\\nclass=\"btn_popup _NM_NEWSSTAND_THUMB_unsubscribe_press\"\\ndata-pid=\"363\"\\ndata-clk=\"unsub\"\\n>해지</a\\n>\\n<a\\nhref=\"http://newsstand.naver.com/?list=&pcode=363\"\\ntarget=\"_blank\"\\nclass=\"btn_popup\"\\ndata-clk=\"logo\"\\ndata-pid=\"363\"\\n>기사보기</a\\n>\\n</div>\\n</div>\\n<div\\nclass=\"thumb_box _NM_NEWSSTAND_THUMB _NM_NEWSSTAND_THUMB_press_valid\"\\ndata-pid=\"814\"\\n>\\n<a href=\"#\" class=\"thumb\">\\n<img\\nsrc=\"https://s.pstatic.net/static/newsstand/2020/logo/light/0604/814.png\"\\nheight=\"20\"\\nalt=\"미주한국일보\"\\nclass=\"news_logo\"\\n/>\\n<span class=\"thumb_dim\"></span\\n></a>\\n<div class=\"popup_wrap\">\\n<a\\nhref=\"#\"\\nrole=\"button\"\\nclass=\"btn_popup _NM_NEWSSTAND_THUMB_subscribe_press\"\\ndata-pid=\"814\"\\ndata-clk=\"sub\"\\n>구독</a\\n>\\n<a\\nhref=\"#\"\\nrole=\"button\"\\nclass=\"btn_popup _NM_NEWSSTAND_THUMB_unsubscribe_press\"\\ndata-pid=\"814\"\\ndata-clk=\"unsub\"\\n>해지</a\\n>\\n<a\\nhref=\"http://newsstand.naver.com/?list=&pcode=814\"\\ntarget=\"_blank\"\\nclass=\"btn_popup\"\\ndata-clk=\"logo\"\\ndata-pid=\"814\"\\n>기사보기</a\\n>\\n</div>\\n</div>\\n<div\\nclass=\"thumb_box _NM_NEWSSTAND_THUMB _NM_NEWSSTAND_THUMB_press_valid\"\\ndata-pid=\"990\"\\n>\\n<a href=\"#\" class=\"thumb\">\\n<img\\nsrc=\"https://s.pstatic.net/static/newsstand/2020/logo/light/0604/990.png\"\\nheight=\"20\"\\nalt=\"주간조선\"\\nclass=\"news_logo\"\\n/>\\n<span class=\"thumb_dim\"></span\\n></a>\\n<div class=\"popup_wrap\">\\n<a\\nhref=\"#\"\\nrole=\"button\"\\nclass=\"btn_popup _NM_NEWSSTAND_THUMB_subscribe_press\"\\ndata-pid=\"990\"\\ndata-clk=\"sub\"\\n>구독</a\\n>\\n<a\\nhref=\"#\"\\nrole=\"button\"\\nclass=\"btn_popup _NM_NEWSSTAND_THUMB_unsubscribe_press\"\\ndata-pid=\"990\"\\ndata-clk=\"unsub\"\\n>해지</a\\n>\\n<a\\nhref=\"http://newsstand.naver.com/?list=&pcode=990\"\\ntarget=\"_blank\"\\nclass=\"btn_popup\"\\ndata-clk=\"logo\"\\ndata-pid=\"990\"\\n>기사보기</a\\n>\\n</div>\\n</div>\\n<div\\nclass=\"thumb_box _NM_NEWSSTAND_THUMB _NM_NEWSSTAND_THUMB_press_valid\"\\ndata-pid=\"960\"\\n>\\n<a href=\"#\" class=\"thumb\">\\n<img\\nsrc=\"https://s.pstatic.net/static/newsstand/up/2020/1011/nsd205146413.png\"\\nheight=\"20\"\\nalt=\"e대한경제\"\\nclass=\"news_logo\"\\n/>\\n<span class=\"thumb_dim\"></span\\n></a>\\n<div class=\"popup_wrap\">\\n<a\\nhref=\"#\"\\nrole=\"button\"\\nclass=\"btn_popup _NM_NEWSSTAND_THUMB_subscribe_press\"\\ndata-pid=\"960\"\\ndata-clk=\"sub\"\\n>구독</a\\n>\\n<a\\nhref=\"#\"\\nrole=\"button\"\\nclass=\"btn_popup _NM_NEWSSTAND_THUMB_unsubscribe_press\"\\ndata-pid=\"960\"\\ndata-clk=\"unsub\"\\n>해지</a\\n>\\n<a\\nhref=\"http://newsstand.naver.com/?list=&pcode=960\"\\ntarget=\"_blank\"\\nclass=\"btn_popup\"\\ndata-clk=\"logo\"\\ndata-pid=\"960\"\\n>기사보기</a\\n>\\n</div>\\n</div>\\n</div>\\n</div>\\n</div>\\n  </div> <div class=\"ly_popup NM_NEWSSTAND_POPUP NM_NEWSSTAND_invalid\" style=\"display:none\"> <a href=\"#\" role=\"button\" class=\"btn_close NM_NEWSSTAND_POPUP_CLOSE\"><i class=\"ico_close\"></i><span class=\"blind\">닫기</span></a> <p class=\"popup_msg\">해당 언론사 사정으로 접근이 제한됩니다.</p> <div class=\"popup_btn\"> <a href=\"#\" role=\"button\" class=\"btn_confirm NM_NEWSSTAND_POPUP_CLOSE\">확인</a> </div> </div> <div class=\"ly_popup NM_NEWSSTAND_POPUP NM_NEWSSTAND_undescribe_confirm\" style=\"display:none\" data-clk-sub=\"*a\"> <a href=\"#\" role=\"button\" class=\"btn_close NM_NEWSSTAND_POPUP_CLOSE\" data-clk=\"usclose\"><i class=\"ico_close\"></i><span class=\"blind\">닫기</span></a> <p class=\"popup_msg\"><strong class=\"NM_NEWSSTAND_POPUP_PNAME\"></strong>을(를)<br/>구독해지 하시겠습니까?</p> <div class=\"popup_btn\"> <a href=\"#\" role=\"button\" class=\"btn_confirm NM_NEWSSTAND_POPUP_CONFIRM\" data-clk=\"usdone\">확인</a> <a href=\"#\" role=\"button\" class=\"btn_confirm NM_NEWSSTAND_POPUP_CLOSE\" data-clk=\"uscancel\">취소</a> </div> </div> <div class=\"ly_toast NM_NEWSSTAND_TOAST\" style=\"display:none\"> <p class=\"toast_msg\">구독한 언론사에 추가되었습니다.</p> </div> </div> <div id=\"NM_NEWSSTAND_MY_LIST\" class=\"group_news\" style=\"display:none\" data-clk-prefix=\"nsd_myn\"> <a href=\"#\" role=\"button\" class=\"pm_btn_prev_l _NM_NEWSSTAND_LIST_prev_btn\" data-clk-custom=\"prev\"><i class=\"ico_btn\"></i><span class=\"blind\">이전</span></a> <a href=\"#\" role=\"button\" class=\"pm_btn_next_l _NM_NEWSSTAND_LIST_next_btn\" data-clk-custom=\"next\"><i class=\"ico_btn\"></i><span class=\"blind\">다음</span><span class=\"blind\">다음</span></a> <div class=\"list_view\"> <div class=\"option_area\"> <div class=\"list_option_wrap\"> <ul class=\"list_option _NM_NEWSSTAND_MY_presslist\"> <!-- nvpaperlist:empty --> </ul> </div> </div> <div class=\"_NM_NEWSSTAND_ARTICLE_CONTAINER\" data-clk-sub=\"*a\">  </div> </div> <div class=\"ly_popup NM_NEWSSTAND_POPUP NM_NEWSSTAND_invalid\" style=\"display:none\"> <a href=\"#\" role=\"button\" class=\"btn_close NM_NEWSSTAND_POPUP_CLOSE\"><i class=\"ico_close\"></i><span class=\"blind\">닫기</span></a> <p class=\"popup_msg\">해당 언론사 사정으로 접근이 일시 제한됩니다.</p> <div class=\"popup_btn\"> <a href=\"#\" role=\"button\" class=\"btn_confirm NM_NEWSSTAND_POPUP_CLOSE\">확인</a> </div> </div> <div class=\"ly_popup NM_NEWSSTAND_POPUP NM_NEWSSTAND_undescribe_confirm\" style=\"display:none\" data-clk-sub=\"*a\"> <a href=\"#\" role=\"button\" class=\"btn_close NM_NEWSSTAND_POPUP_CLOSE\" data-clk=\"usclose\"><i class=\"ico_close\"></i><span class=\"blind\">닫기</span></a> <p class=\"popup_msg\"><strong class=\"NM_NEWSSTAND_POPUP_PNAME\"></strong>을(를)<br>구독해지 하시겠습니까?</p> <div class=\"popup_btn\"> <a href=\"#\" role=\"button\" class=\"btn_confirm NM_NEWSSTAND_POPUP_CONFIRM\" data-clk=\"usdone\">확인</a> <a href=\"#\" role=\"button\" class=\"btn_confirm NM_NEWSSTAND_POPUP_CLOSE\" data-clk=\"uscancel\">취소</a> </div> </div> </div> <div id=\"NM_NEWSSTAND_MY_THUMB\" class=\"group_news\" style=\"display:none\" data-clk-prefix=\"nsd_myn\"> <a href=\"#\" role=\"button\" class=\"pm_btn_prev_l _NM_UI_PAGE_PREV\" data-clk-custom=\"prev\"><i class=\"ico_btn\"><span class=\"blind\">이전</span></i></a> <a href=\"#\" role=\"button\" class=\"pm_btn_next_l _NM_UI_PAGE_NEXT\" data-clk-custom=\"next\"><i class=\"ico_btn\"><span class=\"blind\">다음</span></i></a> <div class=\"_NM_UI_PAGE_CONTAINER\" data-clk-sub=\"*p\"></div> <div class=\"ly_popup NM_NEWSSTAND_POPUP NM_NEWSSTAND_invalid\" style=\"display:none\"> <a href=\"#\" role=\"button\" class=\"btn_close NM_NEWSSTAND_POPUP_CLOSE\"><i class=\"ico_close\"></i><span class=\"blind\">닫기</span></a> <p class=\"popup_msg\">해당 언론사 사정으로 접근이 제한됩니다.</p> <div class=\"popup_btn\"> <a href=\"#\" role=\"button\" class=\"btn_confirm NM_NEWSSTAND_POPUP_CLOSE\">확인</a> </div> </div> <div class=\"ly_popup NM_NEWSSTAND_POPUP NM_NEWSSTAND_undescribe_confirm\" style=\"display:none\" data-clk-sub=\"*a\"> <a href=\"#\" role=\"button\" class=\"btn_close NM_NEWSSTAND_POPUP_CLOSE\" data-clk=\"usclose\"><i class=\"ico_close\"></i><span class=\"blind\">닫기</span></a> <p class=\"popup_msg\"><strong class=\"NM_NEWSSTAND_POPUP_PNAME\"></strong>을(를)<br>구독해지 하시겠습니까?</p> <div class=\"popup_btn\"> <a href=\"#\" role=\"button\" class=\"btn_confirm NM_NEWSSTAND_POPUP_CONFIRM\" data-clk=\"usdone\">확인</a> <a href=\"#\" role=\"button\" class=\"btn_confirm NM_NEWSSTAND_POPUP_CLOSE\" data-clk=\"uscancel\">취소</a> </div> </div> </div> <div id=\"NM_NEWSSTAND_MY_EMPTY\" class=\"group_news\" style=\"display:none\"> <div class=\"error_view\"> <div class=\"error_area\"> <strong class=\"error_msg\">구독한 언론사가 없습니다.</strong> <p class=\"dsc_msg\">언론사 구독 설정에서 관심있는 언론사를 구독하시면<br>언론사가 직접 편집한 뉴스들을 네이버 홈에서 바로 보실 수 있습니다.</p> <a href=\"http://newsstand.naver.com/config.html\" class=\"link_redirect\" target=\"_blank\">언론사 구독 설정하기</a> </div> </div> </div> </div> </div> <!-- EMPTY --> <div id=\"NM_THEMECAST_CONTENTS_CONTAINER\"> <div id=\"themecast\" class=\"sc_themecast id_finance\" data-fixed=\"FINANCE\">\\n\\t<h2 class=\"blind\">주제별 캐스트</h2>\\n\\t<div class=\"theme_head\">\\n\\t\\t<div class=\"group_title\">\\n\\t<div class=\"title_area\">\\n\\t\\t<strong class=\"title\">오늘 읽을만한 글</strong><span class=\"dsc\">주제별로 분류된 다양한 글 모음</span>\\n\\t</div>\\n\\t<div class=\"info_area\">\\n\\t\\t\\n\\t\\t\\t<span class=\"info\"><strong class=\"new\">1,694</strong> 개의 글</span>\\n\\t\\t\\n\\t\\t<a id=\"NM_THEME_EDIT_SET\" href=\"#\" role=\"button\" class=\"btn_set\" data-clk=\"tca.like\">관심주제 설정</a>\\n\\t</div>\\n</div>\\n<div class=\"theme_fix_wrap\">\\n\\t<div id=\"NM_THEME_CATE_GROUPS\" class=\"group_category\" data-demo-key=\"default\">\\n\\t\\t<div class=\"main_category\">\\n\\t\\t\\t<a href=\"#\" role=\"button\" class=\"pm_btn_prev NM_THEME_PREV\" data-clk=\"tct.prev\" style=\"display: none;\">\\n\\t\\t\\t\\t<i class=\"ico_btn\"><span class=\"blind\">이전</span></i>\\n\\t\\t\\t</a>\\n\\t\\t\\t<a href=\"#\" role=\"button\" class=\"pm_btn_next NM_THEME_NEXT\" data-clk=\"tct.next\" style=\"display: none;\">\\n\\t\\t\\t\\t<i class=\"ico_btn\"><span class=\"blind\">다음</span></i>\\n\\t\\t\\t</a>\\n\\t\\t\\t<div id=\"NM_THEME_CATE_FLICK\" class=\"_NM_UI_PAGE_CONTAINER\" style=\"height: 49px; overflow: hidden;\">\\n\\t\\t\\t\\t\\n\\t\\t\\t\\t\\t<div style=\"width: 750px;\">\\n\\t\\t\\t\\t\\t\\t<ul class=\"list_category\" role=\"tablist\">\\n\\t\\t\\t\\t\\t\\t\\t\\n\\t\\t\\t\\t\\t\\t\\t\\t<li class=\"category_item\" role=\"presentation\">\\n\\t\\t\\t\\t\\t\\t\\t\\t\\t\\n\\t\\t\\t\\t\\t\\t\\t\\t\\t\\n\\t\\t\\t\\t\\t\\t\\t\\t\\t<a href=\"#\" role=\"tab\" class=\"_NM_THEME_CATE tab id_enter\"\\n\\t\\t\\t\\t\\t\\t\\t\\t\\t   aria-selected=\"false\"\\n\\t\\t\\t\\t\\t\\t\\t\\t\\t   data-clk=\"tct.tvc\" data-panel-code=\"ENTER\">엔터</a>\\n\\t\\t\\t\\t\\t\\t\\t\\t</li>\\n\\t\\t\\t\\t\\t\\t\\t\\n\\t\\t\\t\\t\\t\\t\\t\\t<li class=\"category_item\" role=\"presentation\">\\n\\t\\t\\t\\t\\t\\t\\t\\t\\t\\n\\t\\t\\t\\t\\t\\t\\t\\t\\t\\n\\t\\t\\t\\t\\t\\t\\t\\t\\t<a href=\"#\" role=\"tab\" class=\"_NM_THEME_CATE tab id_sports\"\\n\\t\\t\\t\\t\\t\\t\\t\\t\\t   aria-selected=\"false\"\\n\\t\\t\\t\\t\\t\\t\\t\\t\\t   data-clk=\"tct.spo\" data-panel-code=\"SPORTS\">스포츠</a>\\n\\t\\t\\t\\t\\t\\t\\t\\t</li>\\n\\t\\t\\t\\t\\t\\t\\t\\n\\t\\t\\t\\t\\t\\t\\t\\t<li class=\"category_item\" role=\"presentation\">\\n\\t\\t\\t\\t\\t\\t\\t\\t\\t\\n\\t\\t\\t\\t\\t\\t\\t\\t\\t\\n\\t\\t\\t\\t\\t\\t\\t\\t\\t<a href=\"#\" role=\"tab\" class=\"_NM_THEME_CATE tab id_cargame\"\\n\\t\\t\\t\\t\\t\\t\\t\\t\\t   aria-selected=\"false\"\\n\\t\\t\\t\\t\\t\\t\\t\\t\\t   data-clk=\"tct.aut\" data-panel-code=\"CARGAME\">자동차</a>\\n\\t\\t\\t\\t\\t\\t\\t\\t</li>\\n\\t\\t\\t\\t\\t\\t\\t\\n\\t\\t\\t\\t\\t\\t\\t\\t<li class=\"category_item\" role=\"presentation\">\\n\\t\\t\\t\\t\\t\\t\\t\\t\\t\\n\\t\\t\\t\\t\\t\\t\\t\\t\\t\\n\\t\\t\\t\\t\\t\\t\\t\\t\\t<a href=\"#\" role=\"tab\" class=\"_NM_THEME_CATE tab id_bboom\"\\n\\t\\t\\t\\t\\t\\t\\t\\t\\t   aria-selected=\"false\"\\n\\t\\t\\t\\t\\t\\t\\t\\t\\t   data-clk=\"tct.web\" data-panel-code=\"BBOOM\">웹툰</a>\\n\\t\\t\\t\\t\\t\\t\\t\\t</li>\\n\\t\\t\\t\\t\\t\\t\\t\\n\\t\\t\\t\\t\\t\\t\\t\\t<li class=\"category_item\" role=\"presentation\">\\n\\t\\t\\t\\t\\t\\t\\t\\t\\t\\n\\t\\t\\t\\t\\t\\t\\t\\t\\t\\n\\t\\t\\t\\t\\t\\t\\t\\t\\t<a href=\"#\" role=\"tab\" class=\"_NM_THEME_CATE tab id_finance\"\\n\\t\\t\\t\\t\\t\\t\\t\\t\\t   aria-selected=\"true\"\\n\\t\\t\\t\\t\\t\\t\\t\\t\\t   data-clk=\"tct.fin\" data-panel-code=\"FINANCE\">경제M</a>\\n\\t\\t\\t\\t\\t\\t\\t\\t</li>\\n\\t\\t\\t\\t\\t\\t\\t\\n\\t\\t\\t\\t\\t\\t\\t\\t<li class=\"category_item\" role=\"presentation\">\\n\\t\\t\\t\\t\\t\\t\\t\\t\\t\\n\\t\\t\\t\\t\\t\\t\\t\\t\\t\\n\\t\\t\\t\\t\\t\\t\\t\\t\\t<a href=\"#\" role=\"tab\" class=\"_NM_THEME_CATE tab id_living\"\\n\\t\\t\\t\\t\\t\\t\\t\\t\\t   aria-selected=\"false\"\\n\\t\\t\\t\\t\\t\\t\\t\\t\\t   data-clk=\"tct.fod\" data-panel-code=\"LIVING\">레시피</a>\\n\\t\\t\\t\\t\\t\\t\\t\\t</li>\\n\\t\\t\\t\\t\\t\\t\\t\\n\\t\\t\\t\\t\\t\\t\\t\\t<li class=\"category_item\" role=\"presentation\">\\n\\t\\t\\t\\t\\t\\t\\t\\t\\t\\n\\t\\t\\t\\t\\t\\t\\t\\t\\t\\n\\t\\t\\t\\t\\t\\t\\t\\t\\t<a href=\"#\" role=\"tab\" class=\"_NM_THEME_CATE tab id_gameapp\"\\n\\t\\t\\t\\t\\t\\t\\t\\t\\t   aria-selected=\"false\"\\n\\t\\t\\t\\t\\t\\t\\t\\t\\t   data-clk=\"tct.gam\" data-panel-code=\"GAMEAPP\">게임</a>\\n\\t\\t\\t\\t\\t\\t\\t\\t</li>\\n\\t\\t\\t\\t\\t\\t\\t\\n\\t\\t\\t\\t\\t\\t\\t\\t<li class=\"category_item\" role=\"presentation\">\\n\\t\\t\\t\\t\\t\\t\\t\\t\\t\\n\\t\\t\\t\\t\\t\\t\\t\\t\\t\\n\\t\\t\\t\\t\\t\\t\\t\\t\\t<a href=\"#\" role=\"tab\" class=\"_NM_THEME_CATE tab id_movie\"\\n\\t\\t\\t\\t\\t\\t\\t\\t\\t   aria-selected=\"false\"\\n\\t\\t\\t\\t\\t\\t\\t\\t\\t   data-clk=\"tct.mov\" data-panel-code=\"MOVIE\">영화</a>\\n\\t\\t\\t\\t\\t\\t\\t\\t</li>\\n\\t\\t\\t\\t\\t\\t\\t\\n\\t\\t\\t\\t\\t\\t</ul>\\n\\t\\t\\t\\t\\t</div>\\n\\t\\t\\t\\t\\n\\t\\t\\t\\t\\t<div style=\"width: 750px;\">\\n\\t\\t\\t\\t\\t\\t<ul class=\"list_category\" role=\"tablist\">\\n\\t\\t\\t\\t\\t\\t\\t\\n\\t\\t\\t\\t\\t\\t\\t\\t<li class=\"category_item\" role=\"presentation\">\\n\\t\\t\\t\\t\\t\\t\\t\\t\\t\\n\\t\\t\\t\\t\\t\\t\\t\\t\\t\\n\\t\\t\\t\\t\\t\\t\\t\\t\\t<a href=\"#\" role=\"tab\" class=\"_NM_THEME_CATE tab id_job\"\\n\\t\\t\\t\\t\\t\\t\\t\\t\\t   aria-selected=\"false\"\\n\\t\\t\\t\\t\\t\\t\\t\\t\\t   data-clk=\"tct.job\" data-panel-code=\"JOB\">JOB&amp;</a>\\n\\t\\t\\t\\t\\t\\t\\t\\t</li>\\n\\t\\t\\t\\t\\t\\t\\t\\n\\t\\t\\t\\t\\t\\t\\t\\t<li class=\"category_item\" role=\"presentation\">\\n\\t\\t\\t\\t\\t\\t\\t\\t\\t\\n\\t\\t\\t\\t\\t\\t\\t\\t\\t\\n\\t\\t\\t\\t\\t\\t\\t\\t\\t<a href=\"#\" role=\"tab\" class=\"_NM_THEME_CATE tab id_ittech\"\\n\\t\\t\\t\\t\\t\\t\\t\\t\\t   aria-selected=\"false\"\\n\\t\\t\\t\\t\\t\\t\\t\\t\\t   data-clk=\"tct.tec\" data-panel-code=\"ITTECH\">테크</a>\\n\\t\\t\\t\\t\\t\\t\\t\\t</li>\\n\\t\\t\\t\\t\\t\\t\\t\\n\\t\\t\\t\\t\\t\\t\\t\\t<li class=\"category_item\" role=\"presentation\">\\n\\t\\t\\t\\t\\t\\t\\t\\t\\t\\n\\t\\t\\t\\t\\t\\t\\t\\t\\t\\n\\t\\t\\t\\t\\t\\t\\t\\t\\t<a href=\"#\" role=\"tab\" class=\"_NM_THEME_CATE tab id_travel\"\\n\\t\\t\\t\\t\\t\\t\\t\\t\\t   aria-selected=\"false\"\\n\\t\\t\\t\\t\\t\\t\\t\\t\\t   data-clk=\"tct.tra\" data-panel-code=\"TRAVEL\">여행+</a>\\n\\t\\t\\t\\t\\t\\t\\t\\t</li>\\n\\t\\t\\t\\t\\t\\t\\t\\n\\t\\t\\t\\t\\t\\t\\t\\t<li class=\"category_item\" role=\"presentation\">\\n\\t\\t\\t\\t\\t\\t\\t\\t\\t\\n\\t\\t\\t\\t\\t\\t\\t\\t\\t\\n\\t\\t\\t\\t\\t\\t\\t\\t\\t<a href=\"#\" role=\"tab\" class=\"_NM_THEME_CATE tab id_science\"\\n\\t\\t\\t\\t\\t\\t\\t\\t\\t   aria-selected=\"false\"\\n\\t\\t\\t\\t\\t\\t\\t\\t\\t   data-clk=\"tct.sci\" data-panel-code=\"SCIENCE\">과학</a>\\n\\t\\t\\t\\t\\t\\t\\t\\t</li>\\n\\t\\t\\t\\t\\t\\t\\t\\n\\t\\t\\t\\t\\t\\t\\t\\t<li class=\"category_item\" role=\"presentation\">\\n\\t\\t\\t\\t\\t\\t\\t\\t\\t\\n\\t\\t\\t\\t\\t\\t\\t\\t\\t\\n\\t\\t\\t\\t\\t\\t\\t\\t\\t<a href=\"#\" role=\"tab\" class=\"_NM_THEME_CATE tab id_livinghome\"\\n\\t\\t\\t\\t\\t\\t\\t\\t\\t   aria-selected=\"false\"\\n\\t\\t\\t\\t\\t\\t\\t\\t\\t   data-clk=\"tct.lif\" data-panel-code=\"LIVINGHOME\">리빙</a>\\n\\t\\t\\t\\t\\t\\t\\t\\t</li>\\n\\t\\t\\t\\t\\t\\t\\t\\n\\t\\t\\t\\t\\t\\t\\t\\t<li class=\"category_item\" role=\"presentation\">\\n\\t\\t\\t\\t\\t\\t\\t\\t\\t\\n\\t\\t\\t\\t\\t\\t\\t\\t\\t\\n\\t\\t\\t\\t\\t\\t\\t\\t\\t<a href=\"#\" role=\"tab\" class=\"_NM_THEME_CATE tab id_health\"\\n\\t\\t\\t\\t\\t\\t\\t\\t\\t   aria-selected=\"false\"\\n\\t\\t\\t\\t\\t\\t\\t\\t\\t   data-clk=\"tct.hea\" data-panel-code=\"HEALTH\">건강</a>\\n\\t\\t\\t\\t\\t\\t\\t\\t</li>\\n\\t\\t\\t\\t\\t\\t\\t\\n\\t\\t\\t\\t\\t\\t\\t\\t<li class=\"category_item\" role=\"presentation\">\\n\\t\\t\\t\\t\\t\\t\\t\\t\\t\\n\\t\\t\\t\\t\\t\\t\\t\\t\\t\\n\\t\\t\\t\\t\\t\\t\\t\\t\\t<a href=\"#\" role=\"tab\" class=\"_NM_THEME_CATE tab id_business\"\\n\\t\\t\\t\\t\\t\\t\\t\\t\\t   aria-selected=\"false\"\\n\\t\\t\\t\\t\\t\\t\\t\\t\\t   data-clk=\"tct.bsn\" data-panel-code=\"BUSINESS\">비즈니스</a>\\n\\t\\t\\t\\t\\t\\t\\t\\t</li>\\n\\t\\t\\t\\t\\t\\t\\t\\n\\t\\t\\t\\t\\t\\t\\t\\t<li class=\"category_item\" role=\"presentation\">\\n\\t\\t\\t\\t\\t\\t\\t\\t\\t\\n\\t\\t\\t\\t\\t\\t\\t\\t\\t\\n\\t\\t\\t\\t\\t\\t\\t\\t\\t<a href=\"#\" role=\"tab\" class=\"_NM_THEME_CATE tab id_wedding\"\\n\\t\\t\\t\\t\\t\\t\\t\\t\\t   aria-selected=\"false\"\\n\\t\\t\\t\\t\\t\\t\\t\\t\\t   data-clk=\"tct.wed\" data-panel-code=\"WEDDING\">연애·결혼</a>\\n\\t\\t\\t\\t\\t\\t\\t\\t</li>\\n\\t\\t\\t\\t\\t\\t\\t\\n\\t\\t\\t\\t\\t\\t</ul>\\n\\t\\t\\t\\t\\t</div>\\n\\t\\t\\t\\t\\n\\t\\t\\t\\t\\t<div style=\"width: 750px;\">\\n\\t\\t\\t\\t\\t\\t<ul class=\"list_category\" role=\"tablist\">\\n\\t\\t\\t\\t\\t\\t\\t\\n\\t\\t\\t\\t\\t\\t\\t\\t<li class=\"category_item\" role=\"presentation\">\\n\\t\\t\\t\\t\\t\\t\\t\\t\\t\\n\\t\\t\\t\\t\\t\\t\\t\\t\\t\\n\\t\\t\\t\\t\\t\\t\\t\\t\\t<a href=\"#\" role=\"tab\" class=\"_NM_THEME_CATE tab id_culture\"\\n\\t\\t\\t\\t\\t\\t\\t\\t\\t   aria-selected=\"false\"\\n\\t\\t\\t\\t\\t\\t\\t\\t\\t   data-clk=\"tct.bok\" data-panel-code=\"CULTURE\">책방</a>\\n\\t\\t\\t\\t\\t\\t\\t\\t</li>\\n\\t\\t\\t\\t\\t\\t\\t\\n\\t\\t\\t\\t\\t\\t\\t\\t<li class=\"category_item\" role=\"presentation\">\\n\\t\\t\\t\\t\\t\\t\\t\\t\\t\\n\\t\\t\\t\\t\\t\\t\\t\\t\\t\\n\\t\\t\\t\\t\\t\\t\\t\\t\\t<a href=\"#\" role=\"tab\" class=\"_NM_THEME_CATE tab id_momkids\"\\n\\t\\t\\t\\t\\t\\t\\t\\t\\t   aria-selected=\"false\"\\n\\t\\t\\t\\t\\t\\t\\t\\t\\t   data-clk=\"tct.mom\" data-panel-code=\"MOMKIDS\">부모i</a>\\n\\t\\t\\t\\t\\t\\t\\t\\t</li>\\n\\t\\t\\t\\t\\t\\t\\t\\n\\t\\t\\t\\t\\t\\t\\t\\t<li class=\"category_item\" role=\"presentation\">\\n\\t\\t\\t\\t\\t\\t\\t\\t\\t\\n\\t\\t\\t\\t\\t\\t\\t\\t\\t\\n\\t\\t\\t\\t\\t\\t\\t\\t\\t<a href=\"#\" role=\"tab\" class=\"_NM_THEME_CATE tab id_law\"\\n\\t\\t\\t\\t\\t\\t\\t\\t\\t   aria-selected=\"false\"\\n\\t\\t\\t\\t\\t\\t\\t\\t\\t   data-clk=\"tct.law\" data-panel-code=\"LAW\">법률</a>\\n\\t\\t\\t\\t\\t\\t\\t\\t</li>\\n\\t\\t\\t\\t\\t\\t\\t\\n\\t\\t\\t\\t\\t\\t\\t\\t<li class=\"category_item\" role=\"presentation\">\\n\\t\\t\\t\\t\\t\\t\\t\\t\\t\\n\\t\\t\\t\\t\\t\\t\\t\\t\\t\\n\\t\\t\\t\\t\\t\\t\\t\\t\\t<a href=\"#\" role=\"tab\" class=\"_NM_THEME_CATE tab id_beauty\"\\n\\t\\t\\t\\t\\t\\t\\t\\t\\t   aria-selected=\"false\"\\n\\t\\t\\t\\t\\t\\t\\t\\t\\t   data-clk=\"tct.bty\" data-panel-code=\"BEAUTY\">패션뷰티</a>\\n\\t\\t\\t\\t\\t\\t\\t\\t</li>\\n\\t\\t\\t\\t\\t\\t\\t\\n\\t\\t\\t\\t\\t\\t\\t\\t<li class=\"category_item\" role=\"presentation\">\\n\\t\\t\\t\\t\\t\\t\\t\\t\\t\\n\\t\\t\\t\\t\\t\\t\\t\\t\\t\\n\\t\\t\\t\\t\\t\\t\\t\\t\\t<a href=\"#\" role=\"tab\" class=\"_NM_THEME_CATE tab id_animal\"\\n\\t\\t\\t\\t\\t\\t\\t\\t\\t   aria-selected=\"false\"\\n\\t\\t\\t\\t\\t\\t\\t\\t\\t   data-clk=\"tct.ani\" data-panel-code=\"ANIMAL\">동물공감</a>\\n\\t\\t\\t\\t\\t\\t\\t\\t</li>\\n\\t\\t\\t\\t\\t\\t\\t\\n\\t\\t\\t\\t\\t\\t\\t\\t<li class=\"category_item\" role=\"presentation\">\\n\\t\\t\\t\\t\\t\\t\\t\\t\\t\\n\\t\\t\\t\\t\\t\\t\\t\\t\\t\\n\\t\\t\\t\\t\\t\\t\\t\\t\\t<a href=\"#\" role=\"tab\" class=\"_NM_THEME_CATE tab id_design\"\\n\\t\\t\\t\\t\\t\\t\\t\\t\\t   aria-selected=\"false\"\\n\\t\\t\\t\\t\\t\\t\\t\\t\\t   data-clk=\"tct.des\" data-panel-code=\"DESIGN\">디자인</a>\\n\\t\\t\\t\\t\\t\\t\\t\\t</li>\\n\\t\\t\\t\\t\\t\\t\\t\\n\\t\\t\\t\\t\\t\\t\\t\\t<li class=\"category_item\" role=\"presentation\">\\n\\t\\t\\t\\t\\t\\t\\t\\t\\t\\n\\t\\t\\t\\t\\t\\t\\t\\t\\t\\n\\t\\t\\t\\t\\t\\t\\t\\t\\t<a href=\"#\" role=\"tab\" class=\"_NM_THEME_CATE tab id_china\"\\n\\t\\t\\t\\t\\t\\t\\t\\t\\t   aria-selected=\"false\"\\n\\t\\t\\t\\t\\t\\t\\t\\t\\t   data-clk=\"tct.chn\" data-panel-code=\"CHINA\">중국</a>\\n\\t\\t\\t\\t\\t\\t\\t\\t</li>\\n\\t\\t\\t\\t\\t\\t\\t\\n\\t\\t\\t\\t\\t\\t\\t\\t<li class=\"category_item\" role=\"presentation\">\\n\\t\\t\\t\\t\\t\\t\\t\\t\\t\\n\\t\\t\\t\\t\\t\\t\\t\\t\\t\\n\\t\\t\\t\\t\\t\\t\\t\\t\\t<a href=\"#\" role=\"tab\" class=\"_NM_THEME_CATE tab id_farm\"\\n\\t\\t\\t\\t\\t\\t\\t\\t\\t   aria-selected=\"false\"\\n\\t\\t\\t\\t\\t\\t\\t\\t\\t   data-clk=\"tct.far\" data-panel-code=\"FARM\">FARM</a>\\n\\t\\t\\t\\t\\t\\t\\t\\t</li>\\n\\t\\t\\t\\t\\t\\t\\t\\n\\t\\t\\t\\t\\t\\t</ul>\\n\\t\\t\\t\\t\\t</div>\\n\\t\\t\\t\\t\\n\\t\\t\\t\\t\\t<div style=\"width: 750px;\">\\n\\t\\t\\t\\t\\t\\t<ul class=\"list_category\" role=\"tablist\">\\n\\t\\t\\t\\t\\t\\t\\t\\n\\t\\t\\t\\t\\t\\t\\t\\t<li class=\"category_item\" role=\"presentation\">\\n\\t\\t\\t\\t\\t\\t\\t\\t\\t\\n\\t\\t\\t\\t\\t\\t\\t\\t\\t\\n\\t\\t\\t\\t\\t\\t\\t\\t\\t<a href=\"#\" role=\"tab\" class=\"_NM_THEME_CATE tab id_show\"\\n\\t\\t\\t\\t\\t\\t\\t\\t\\t   aria-selected=\"false\"\\n\\t\\t\\t\\t\\t\\t\\t\\t\\t   data-clk=\"tct.sow\" data-panel-code=\"SHOW\">공연전시</a>\\n\\t\\t\\t\\t\\t\\t\\t\\t</li>\\n\\t\\t\\t\\t\\t\\t\\t\\n\\t\\t\\t\\t\\t\\t\\t\\t<li class=\"category_item\" role=\"presentation\">\\n\\t\\t\\t\\t\\t\\t\\t\\t\\t\\n\\t\\t\\t\\t\\t\\t\\t\\t\\t\\n\\t\\t\\t\\t\\t\\t\\t\\t\\t<a href=\"#\" role=\"tab\" class=\"_NM_THEME_CATE tab id_with\"\\n\\t\\t\\t\\t\\t\\t\\t\\t\\t   aria-selected=\"false\"\\n\\t\\t\\t\\t\\t\\t\\t\\t\\t   data-clk=\"tct.pub\" data-panel-code=\"WITH\">함께N</a>\\n\\t\\t\\t\\t\\t\\t\\t\\t</li>\\n\\t\\t\\t\\t\\t\\t\\t\\n\\t\\t\\t\\t\\t\\t</ul>\\n\\t\\t\\t\\t\\t</div>\\n\\t\\t\\t\\t\\n\\t\\t\\t</div>\\n\\t\\t</div>\\n\\t</div>\\n</div>\\n\\n\\t</div>\\n\\t<div class=\"theme_cont\" data-panel-code=\"FINANCE\">\\n\\t\\t\\n<div class=\"group_theme\" data-block-id=\"\" data-block-code=\"PC-THEME-FINANCE-MOBILE-RANKING-DEFAULT-0\" data-block-type=\"MATERIALS\" data-template-code=\"MOBILE-RANKING-LIST\"\\n\\n\\t data-da=\"container\"\\n\\t data-index=\"\"\\n     data-page=\"1\"\\n\\t >\\n\\n\\t<div class=\"list_theme_wrap\">\\n\\t\\t<ul class=\"list_theme\">\\n\\t\\t\\t\\n\\t\\t\\t\\t<li class=\"theme_item\" data-gdid=\"CAS_5b035cf6-1f59-11ec-88ef-7943d5d3cd1d\" data-da-position=\"true\">\\n\\t\\t\\t\\t\\t<a href=\"https://post.naver.com/viewer/postView.naver?volumeNo&#x3D;32441376&amp;memberNo&#x3D;34429994\" class=\"theme_thumb\" data-clk=\"tcc_fin.list1cont1\" target=\"_blank\">\\n\\t\\t\\t\\t\\t\\t<img src=\"https://s.pstatic.net/dthumb.phinf/?src&#x3D;%22https%3A%2F%2Fs.pstatic.net%2Fstatic%2Fwww%2Fmobile%2Fedit%2F20210927_1095%2Fupload_1632727730425PhLKN.jpg%22&amp;type&#x3D;nf340_228\" data-src=\"https://s.pstatic.net/dthumb.phinf/?src&#x3D;%22https%3A%2F%2Fs.pstatic.net%2Fstatic%2Fwww%2Fmobile%2Fedit%2F20210927_1095%2Fupload_1632727730425PhLKN.jpg%22&amp;type&#x3D;nf340_228\" alt=\"&quot;매일이 공포&quot;…사진만 봐도 섬뜩한 &#x27;광주판 피사의 사탑&#x27;\" width=\"170\" height=\"114\">\\n\\t\\t\\t\\t\\t\\t<span class=\"thumb_bd\"></span>\\n\\t\\t\\t\\t\\t</a>\\n\\t\\t\\t\\t\\t<a href=\"https://post.naver.com/viewer/postView.naver?volumeNo&#x3D;32441376&amp;memberNo&#x3D;34429994\" class=\"theme_info\" data-clk=\"tcc_fin.list1cont1\" target=\"_blank\">\\n\\t\\t\\t\\t\\t\\t<em class=\"theme_category\"> 경제M</em>\\n\\t\\t\\t\\t\\t\\t<strong class=\"title elss\">\"매일이 공포\"…사진만 봐도 섬뜩한 \\'광주판 피사의 사탑\\'</strong>\\n\\t\\t\\t\\t\\t\\t<p class=\"desc\">빌라가 기울어져 집에서 몸만 빠져나왔는데, 두 달이 지나도록 돌아가지 못하고 있습니다.경기 광주시 오포읍 신현리의 한 다세대주택(빌라)가 앞 건물 공사로 지반이 침하하며 기울어져 대피한 주민들이 두달째 임시 거처에서 생활하고 있다. 주민들은 지난 7월 건물 붕괴 우려로 몸만 빠져나온 이후 지인의 집이나 호텔 등을 전전하고 있지만 지반 침하를 </p>\\n\\t\\t\\t\\t\\t\\t<div class=\"source_box\">\\n\\t\\t\\t\\t\\t\\t\\t<span class=\"date\">어제</span>\\n\\t\\t\\t\\t\\t\\t\\t<span class=\"source\"><span class=\"source_inner\">땅집고</span></span>\\n\\t\\t\\t\\t\\t\\t</div>\\n\\t\\t\\t\\t\\t</a>\\n\\t\\t\\t\\t</li>\\n\\t\\t\\t\\n\\t\\t\\t\\t<li class=\"theme_item\" data-gdid=\"CAS_307927ca-1f4a-11ec-88ef-a5e85b22c7a1\" data-da-position=\"true\">\\n\\t\\t\\t\\t\\t<a href=\"https://blog.naver.com/dcampdev/222513929993\" class=\"theme_thumb\" data-clk=\"tcc_fin.list1cont2\" target=\"_blank\">\\n\\t\\t\\t\\t\\t\\t<img src=\"https://s.pstatic.net/dthumb.phinf/?src&#x3D;%22https%3A%2F%2Fs.pstatic.net%2Fstatic%2Fwww%2Fmobile%2Fedit%2F20210927_1095%2Fupload_1632716453747T3p6g.jpg%22&amp;type&#x3D;nf340_228\" data-src=\"https://s.pstatic.net/dthumb.phinf/?src&#x3D;%22https%3A%2F%2Fs.pstatic.net%2Fstatic%2Fwww%2Fmobile%2Fedit%2F20210927_1095%2Fupload_1632716453747T3p6g.jpg%22&amp;type&#x3D;nf340_228\" alt=\"어느 직장인의 복지 혜택 &quot;이 정도면 어떤 수준인가요?&quot;\" width=\"170\" height=\"114\">\\n\\t\\t\\t\\t\\t\\t<span class=\"thumb_bd\"></span>\\n\\t\\t\\t\\t\\t</a>\\n\\t\\t\\t\\t\\t<a href=\"https://blog.naver.com/dcampdev/222513929993\" class=\"theme_info\" data-clk=\"tcc_fin.list1cont2\" target=\"_blank\">\\n\\t\\t\\t\\t\\t\\t<em class=\"theme_category\"> 경제M</em>\\n\\t\\t\\t\\t\\t\\t<strong class=\"title elss\">어느 직장인의 복지 혜택 \"이 정도면 어떤 수준인가요?\"</strong>\\n\\t\\t\\t\\t\\t\\t<p class=\"desc\">성과를 극대화하는 보상의 방법 다음 중 자동차 판매 대리점 지점장이 내릴 수 있는 최선의 선택은 무엇일까. 정답은 ‘파격적인 인센티브’ 지급이다. ‘둘 다 돈 많이 주니까 좋은 거 아니야?’라고 반문할 수 있지만 기본급과 인센티브는 ‘현금성 보상’이라는 공통점을 제외하면 추산 근거와 작동 방식이 아예 다르다. 주머니 사정이 넉넉치 않은 스타트업 일수록 안 </p>\\n\\t\\t\\t\\t\\t\\t<div class=\"source_box\">\\n\\t\\t\\t\\t\\t\\t\\t<span class=\"date\">5일 전</span>\\n\\t\\t\\t\\t\\t\\t\\t<span class=\"source\"><span class=\"source_inner\">디캠프</span></span>\\n\\t\\t\\t\\t\\t\\t</div>\\n\\t\\t\\t\\t\\t</a>\\n\\t\\t\\t\\t</li>\\n\\t\\t\\t\\n\\t\\t\\t\\t<li class=\"theme_item\" data-gdid=\"CAS_307927c9-1f4a-11ec-88ef-f55195bb6a63\" data-da-position=\"true\">\\n\\t\\t\\t\\t\\t<a href=\"https://blog.naver.com/bagus8/222513907183\" class=\"theme_thumb\" data-clk=\"tcc_fin.list1cont3\" target=\"_blank\">\\n\\t\\t\\t\\t\\t\\t<img src=\"https://s.pstatic.net/dthumb.phinf/?src&#x3D;%22https%3A%2F%2Fs.pstatic.net%2Fstatic%2Fwww%2Fmobile%2Fedit%2F20210927_1095%2Fupload_1632716433790Xy3CR.jpg%22&amp;type&#x3D;nf340_228\" data-src=\"https://s.pstatic.net/dthumb.phinf/?src&#x3D;%22https%3A%2F%2Fs.pstatic.net%2Fstatic%2Fwww%2Fmobile%2Fedit%2F20210927_1095%2Fupload_1632716433790Xy3CR.jpg%22&amp;type&#x3D;nf340_228\" alt=\"&#x27;그 사업 안된다&#x27; 말리러 갔다가 건져 온 40억원 아이디어\" width=\"170\" height=\"114\">\\n\\t\\t\\t\\t\\t\\t<span class=\"thumb_bd\"></span>\\n\\t\\t\\t\\t\\t</a>\\n\\t\\t\\t\\t\\t<a href=\"https://blog.naver.com/bagus8/222513907183\" class=\"theme_info\" data-clk=\"tcc_fin.list1cont3\" target=\"_blank\">\\n\\t\\t\\t\\t\\t\\t<em class=\"theme_category\"> 경제M</em>\\n\\t\\t\\t\\t\\t\\t<strong class=\"title elss\">\\'그 사업 안된다\\' 말리러 갔다가 건져 온 40억원 아이디어</strong>\\n\\t\\t\\t\\t\\t\\t<p class=\"desc\">3D 스캐너·프린터로 세상에 하나 뿐인 맞춤 안경 만드는 브리즘 큰 성공을 맛봤다가 실패하면 다시 일어서기 더 어렵다. 안경 사업에 뛰어들어 연 100억원 매출을 달성했다가, 실패 후 3D 스캐닝과 프린팅 기술을 활용한 맞춤형 안경으로 재기한 콥틱의 박형진 대표를 만났다. ◇3D프린터와 스캐닝 장비로 맞춤형 안경 제작 얼굴 측정부터 안경테 완성까지 약 10</p>\\n\\t\\t\\t\\t\\t\\t<div class=\"source_box\">\\n\\t\\t\\t\\t\\t\\t\\t<span class=\"date\">5일 전</span>\\n\\t\\t\\t\\t\\t\\t\\t<span class=\"source\"><span class=\"source_inner\">경제 하티스트</span></span>\\n\\t\\t\\t\\t\\t\\t</div>\\n\\t\\t\\t\\t\\t</a>\\n\\t\\t\\t\\t</li>\\n\\t\\t\\t\\n\\t\\t\\t\\t<li class=\"theme_item\" data-gdid=\"CAS_5b035cf7-1f59-11ec-88ef-3bf0b08115e0\" data-da-position=\"true\">\\n\\t\\t\\t\\t\\t<a href=\"https://blog.naver.com/cardifkorea/222515647955\" class=\"theme_thumb\" data-clk=\"tcc_fin.list1cont4\" target=\"_blank\">\\n\\t\\t\\t\\t\\t\\t<img src=\"https://s.pstatic.net/dthumb.phinf/?src&#x3D;%22https%3A%2F%2Fs.pstatic.net%2Fstatic%2Fwww%2Fmobile%2Fedit%2F20210927_1095%2Fupload_1632723518916xNIsS.jpg%22&amp;type&#x3D;nf340_228\" data-src=\"https://s.pstatic.net/dthumb.phinf/?src&#x3D;%22https%3A%2F%2Fs.pstatic.net%2Fstatic%2Fwww%2Fmobile%2Fedit%2F20210927_1095%2Fupload_1632723518916xNIsS.jpg%22&amp;type&#x3D;nf340_228\" alt=\"내 자산을 굴리는 달러 투자 방법은? (feat. 환테크)\" width=\"170\" height=\"114\">\\n\\t\\t\\t\\t\\t\\t<span class=\"thumb_bd\"></span>\\n\\t\\t\\t\\t\\t</a>\\n\\t\\t\\t\\t\\t<a href=\"https://blog.naver.com/cardifkorea/222515647955\" class=\"theme_info\" data-clk=\"tcc_fin.list1cont4\" target=\"_blank\">\\n\\t\\t\\t\\t\\t\\t<em class=\"theme_category\"> 경제M</em>\\n\\t\\t\\t\\t\\t\\t<strong class=\"title elss\">내 자산을 굴리는 달러 투자 방법은? (feat. 환테크)</strong>\\n\\t\\t\\t\\t\\t\\t<p class=\"desc\">&lt;체계적인 자산 키우기&gt; ‘미친 물가’ 인플레이션 시대, 내 자산을 굴리는 달러 투자 방법은? (feat. 환테크) 최근 9월 17일, 기획재정부는 경제동향 9월 호를 통해 “최근 견조한 수출 호조세가 지속하는 가운데, 코로나 재확산에도 고용이 개선 흐름을 이어갔다.”면서도 “내수 관련 불확실성이 지속되며 대외적으로 주요국 백신 접종 확대에 따른 글로벌 회</p>\\n\\t\\t\\t\\t\\t\\t<div class=\"source_box\">\\n\\t\\t\\t\\t\\t\\t\\t<span class=\"date\">어제</span>\\n\\t\\t\\t\\t\\t\\t\\t<span class=\"source\"><span class=\"source_inner\">BNP파리바 카디프생명</span></span>\\n\\t\\t\\t\\t\\t\\t</div>\\n\\t\\t\\t\\t\\t</a>\\n\\t\\t\\t\\t</li>\\n\\t\\t\\t\\n\\t\\t</ul>\\n\\t</div>\\n</div>\\n<div class=\"group_theme\" data-block-id=\"\" data-block-code=\"PC-THEME-FINANCE-MOBILE-RANKING-DEFAULT-1\" data-block-type=\"MATERIALS\" data-template-code=\"MOBILE-RANKING-LIST\"\\n\\n\\t data-da=\"container\"\\n\\t data-index=\"\"\\n     data-page=\"1\"\\n\\t >\\n\\n\\t<div class=\"list_theme_wrap\">\\n\\t\\t<ul class=\"list_theme\">\\n\\t\\t\\t\\n\\t\\t\\t\\t<li class=\"theme_item\" data-gdid=\"CAS_e2ffeede-1f49-11ec-95e6-2b1af08e6378\" data-da-position=\"true\">\\n\\t\\t\\t\\t\\t<a href=\"https://post.naver.com/viewer/postView.naver?volumeNo&#x3D;32244702&amp;memberNo&#x3D;25128306\" class=\"theme_thumb\" data-clk=\"tcc_fin.list2cont1\" target=\"_blank\">\\n\\t\\t\\t\\t\\t\\t<img src=\"https://s.pstatic.net/dthumb.phinf/?src&#x3D;%22https%3A%2F%2Fs.pstatic.net%2Fstatic%2Fwww%2Fmobile%2Fedit%2F20210927_1095%2Fupload_1632716333466W8nS3.jpg%22&amp;type&#x3D;nf340_228\" data-src=\"https://s.pstatic.net/dthumb.phinf/?src&#x3D;%22https%3A%2F%2Fs.pstatic.net%2Fstatic%2Fwww%2Fmobile%2Fedit%2F20210927_1095%2Fupload_1632716333466W8nS3.jpg%22&amp;type&#x3D;nf340_228\" alt=\"이병철 부행장, “50+ 시니어 신춘문예 공모전을 통한 퇴직연금 가입자 문화 재발견”\" width=\"170\" height=\"114\">\\n\\t\\t\\t\\t\\t\\t<span class=\"thumb_bd\"></span>\\n\\t\\t\\t\\t\\t</a>\\n\\t\\t\\t\\t\\t<a href=\"https://post.naver.com/viewer/postView.naver?volumeNo&#x3D;32244702&amp;memberNo&#x3D;25128306\" class=\"theme_info\" data-clk=\"tcc_fin.list2cont1\" target=\"_blank\">\\n\\t\\t\\t\\t\\t\\t<em class=\"theme_category\"> 경제M</em>\\n\\t\\t\\t\\t\\t\\t<strong class=\"title elss\">이병철 부행장, “50+ 시니어 신춘문예 공모전을 통한 퇴직연금 가입자 문화 재발견”</strong>\\n\\t\\t\\t\\t\\t\\t<p class=\"desc\">신한은행과 ‘브라보 마이 라이프’가 공동으로 개최한 ‘50+ 시니어 신춘문예 공모전’이 예상을 뛰어넘는 350편의 지원작이 몰린 가운데 성황리에 종료되었다. 힘든 코로나 시국에 시니어들에게 조금이나마 힘이 되도록 용기와 꿈을 실현할 기회를 제공하자는 취지로 진행된 이번 공모전은 재능과 창의력 넘치는 작품이 다수 발견되어 액티브 시니어의 능력을 다시 한번 확</p>\\n\\t\\t\\t\\t\\t\\t<div class=\"source_box\">\\n\\t\\t\\t\\t\\t\\t\\t<span class=\"date\">어제</span>\\n\\t\\t\\t\\t\\t\\t\\t<span class=\"source\"><span class=\"source_inner\">브라보마이라이프</span></span>\\n\\t\\t\\t\\t\\t\\t</div>\\n\\t\\t\\t\\t\\t</a>\\n\\t\\t\\t\\t</li>\\n\\t\\t\\t\\n\\t\\t\\t\\t<li class=\"theme_item\" data-gdid=\"CAS_e2ffeedc-1f49-11ec-95e6-332c8f7ccc3e\" data-da-position=\"true\">\\n\\t\\t\\t\\t\\t<a href=\"https://post.naver.com/viewer/postView.naver?volumeNo&#x3D;32439836&amp;memberNo&#x3D;4846060\" class=\"theme_thumb\" data-clk=\"tcc_fin.list2cont2\" target=\"_blank\">\\n\\t\\t\\t\\t\\t\\t<img src=\"https://s.pstatic.net/dthumb.phinf/?src&#x3D;%22https%3A%2F%2Fs.pstatic.net%2Fstatic%2Fwww%2Fmobile%2Fedit%2F20210927_1095%2Fupload_16327276483756nIeu.jpg%22&amp;type&#x3D;nf340_228\" data-src=\"https://s.pstatic.net/dthumb.phinf/?src&#x3D;%22https%3A%2F%2Fs.pstatic.net%2Fstatic%2Fwww%2Fmobile%2Fedit%2F20210927_1095%2Fupload_16327276483756nIeu.jpg%22&amp;type&#x3D;nf340_228\" alt=\"20대 꿈을 향한 도전 D-730, 재취업 위한 생활비 마련은?\" width=\"170\" height=\"114\">\\n\\t\\t\\t\\t\\t\\t<span class=\"thumb_bd\"></span>\\n\\t\\t\\t\\t\\t</a>\\n\\t\\t\\t\\t\\t<a href=\"https://post.naver.com/viewer/postView.naver?volumeNo&#x3D;32439836&amp;memberNo&#x3D;4846060\" class=\"theme_info\" data-clk=\"tcc_fin.list2cont2\" target=\"_blank\">\\n\\t\\t\\t\\t\\t\\t<em class=\"theme_category\"> 경제M</em>\\n\\t\\t\\t\\t\\t\\t<strong class=\"title elss\">20대 꿈을 향한 도전 D-730, 재취업 위한 생활비 마련은?</strong>\\n\\t\\t\\t\\t\\t\\t<p class=\"desc\">(본 포스트는 금융감독원 금융자문서비스 상담사례를 바탕으로 재구성되었습니다.)A씨(27세) / 미혼 월 수입 230만원 / 상여 및 성과금 500만원 월 저축액 160만원(청약저축 포함) 재무목표: 1년 후 직업이전과 주거자금 마련하고 싶은 일을 찾았는데... 재취업 기간동안 버틸 자금이 필요해요!Question.</p>\\n\\t\\t\\t\\t\\t\\t<div class=\"source_box\">\\n\\t\\t\\t\\t\\t\\t\\t<span class=\"date\">어제</span>\\n\\t\\t\\t\\t\\t\\t\\t<span class=\"source\"><span class=\"source_inner\">한국FP협회</span></span>\\n\\t\\t\\t\\t\\t\\t</div>\\n\\t\\t\\t\\t\\t</a>\\n\\t\\t\\t\\t</li>\\n\\t\\t\\t\\n\\t\\t\\t\\t<li class=\"theme_item\" data-gdid=\"CAS_a39a4547-1f4a-11ec-89e6-8d53ae015928\" data-da-position=\"true\">\\n\\t\\t\\t\\t\\t<a href=\"https://post.naver.com/viewer/postView.naver?volumeNo&#x3D;32435450&amp;memberNo&#x3D;46178467\" class=\"theme_thumb\" data-clk=\"tcc_fin.list2cont3\" target=\"_blank\">\\n\\t\\t\\t\\t\\t\\t<img src=\"https://s.pstatic.net/dthumb.phinf/?src&#x3D;%22https%3A%2F%2Fs.pstatic.net%2Fstatic%2Fwww%2Fmobile%2Fedit%2F20210927_1095%2Fupload_1632716611422o6hOt.jpg%22&amp;type&#x3D;nf340_228\" data-src=\"https://s.pstatic.net/dthumb.phinf/?src&#x3D;%22https%3A%2F%2Fs.pstatic.net%2Fstatic%2Fwww%2Fmobile%2Fedit%2F20210927_1095%2Fupload_1632716611422o6hOt.jpg%22&amp;type&#x3D;nf340_228\" alt=\"신용카드 혜택이 점점 줄어드는 이유는?\" width=\"170\" height=\"114\">\\n\\t\\t\\t\\t\\t\\t<span class=\"thumb_bd\"></span>\\n\\t\\t\\t\\t\\t</a>\\n\\t\\t\\t\\t\\t<a href=\"https://post.naver.com/viewer/postView.naver?volumeNo&#x3D;32435450&amp;memberNo&#x3D;46178467\" class=\"theme_info\" data-clk=\"tcc_fin.list2cont3\" target=\"_blank\">\\n\\t\\t\\t\\t\\t\\t<em class=\"theme_category\"> 경제M</em>\\n\\t\\t\\t\\t\\t\\t<strong class=\"title elss\">신용카드 혜택이 점점 줄어드는 이유는?</strong>\\n\\t\\t\\t\\t\\t\\t<p class=\"desc\">#1\\xa0신용카드 혜택이점점 줄어드는 이유는? 글, 정인 Photo by Mark OFlynn on Unsplash 무슨 일이 있었냐면요신용카드 사용실적에 따른 총 혜택이 연회비를 넘지 못하게 되어 있다는 사실, 알고 계신가요? 2018년부터 금융당국이 카드사의 고비용 영업구조를 규제하면서, 신용카드를 발급받을 때 고객에게 제공되던 혜택은 점점 줄어들고 있습니</p>\\n\\t\\t\\t\\t\\t\\t<div class=\"source_box\">\\n\\t\\t\\t\\t\\t\\t\\t<span class=\"date\">어제</span>\\n\\t\\t\\t\\t\\t\\t\\t<span class=\"source\"><span class=\"source_inner\">UPPITY 어피티</span></span>\\n\\t\\t\\t\\t\\t\\t</div>\\n\\t\\t\\t\\t\\t</a>\\n\\t\\t\\t\\t</li>\\n\\t\\t\\t\\n\\t\\t\\t\\t<li class=\"theme_item\" data-gdid=\"CAS_52b3beda-16d1-11ec-89e6-05754374ab56\" data-da-position=\"true\">\\n\\t\\t\\t\\t\\t<a href=\"https://blog.naver.com/hanwhaasset/221869966652\" class=\"theme_thumb\" data-clk=\"tcc_fin.list2cont4\" target=\"_blank\">\\n\\t\\t\\t\\t\\t\\t<img src=\"https://s.pstatic.net/dthumb.phinf/?src&#x3D;%22https%3A%2F%2Fs.pstatic.net%2Fstatic%2Fwww%2Fmobile%2Fedit%2F20210916_1095%2Fupload_1631785091636Dalok.jpg%22&amp;type&#x3D;nf340_228\" data-src=\"https://s.pstatic.net/dthumb.phinf/?src&#x3D;%22https%3A%2F%2Fs.pstatic.net%2Fstatic%2Fwww%2Fmobile%2Fedit%2F20210916_1095%2Fupload_1631785091636Dalok.jpg%22&amp;type&#x3D;nf340_228\" alt=\"은퇴 이후 소득원, 어떻게 준비해야 하나?\" width=\"170\" height=\"114\">\\n\\t\\t\\t\\t\\t\\t<span class=\"thumb_bd\"></span>\\n\\t\\t\\t\\t\\t</a>\\n\\t\\t\\t\\t\\t<a href=\"https://blog.naver.com/hanwhaasset/221869966652\" class=\"theme_info\" data-clk=\"tcc_fin.list2cont4\" target=\"_blank\">\\n\\t\\t\\t\\t\\t\\t<em class=\"theme_category\"> 경제M</em>\\n\\t\\t\\t\\t\\t\\t<strong class=\"title elss\">은퇴 이후 소득원, 어떻게 준비해야 하나?</strong>\\n\\t\\t\\t\\t\\t\\t<p class=\"desc\">나이가 들면 누구에게나 편하게 지내고 싶은 마음이 있다. 젊었을 때의 건강한 육체는 내게 플러스 자산이지만, 은퇴 이후엔 자칫 통제조차 힘든 마이너스 자산이 될 수도 있다. 이를 위해 젊었을 때의 고생을 너무 당연시하는 것은 아닐까 하는 생각도 드는데, 어떻게 보면 은퇴 준비는 불확실한 미래를 위해 현재를 희생하는 것과 같다. 하지만 우리에게 주어진 오늘의</p>\\n\\t\\t\\t\\t\\t\\t<div class=\"source_box\">\\n\\t\\t\\t\\t\\t\\t\\t<span class=\"date\">1년 전</span>\\n\\t\\t\\t\\t\\t\\t\\t<span class=\"source\"><span class=\"source_inner\">한화자산운용</span></span>\\n\\t\\t\\t\\t\\t\\t</div>\\n\\t\\t\\t\\t\\t</a>\\n\\t\\t\\t\\t</li>\\n\\t\\t\\t\\n\\t\\t</ul>\\n\\t</div>\\n</div>\\n<div class=\"group_theme\" data-block-id=\"\" data-block-code=\"PC-THEME-FINANCE-MOBILE-RANKING-DEFAULT-2\" data-block-type=\"MATERIALS\" data-template-code=\"MOBILE-RANKING-LIST\"\\n\\n\\t data-da=\"container\"\\n\\t data-index=\"\"\\n     data-page=\"2\"\\n\\t style=\"display:none\">\\n\\n\\t<div class=\"list_theme_wrap\">\\n\\t\\t<ul class=\"list_theme\">\\n\\t\\t\\t\\n\\t\\t\\t\\t<li class=\"theme_item\" data-gdid=\"CAS_ec270227-16d4-11ec-89e6-8d177de3cfcc\" data-da-position=\"true\">\\n\\t\\t\\t\\t\\t<a href=\"https://post.naver.com/viewer/postView.naver?volumeNo&#x3D;32426671&amp;memberNo&#x3D;25386652\" class=\"theme_thumb\" data-clk=\"tcc_fin.list3cont1\" target=\"_blank\">\\n\\t\\t\\t\\t\\t\\t<img  data-src=\"https://s.pstatic.net/dthumb.phinf/?src&#x3D;%22https%3A%2F%2Fs.pstatic.net%2Fstatic%2Fwww%2Fmobile%2Fedit%2F20210924_1095%2Fupload_1632470868616srSfE.jpg%22&amp;type&#x3D;nf340_228\" alt=\"금주 청약단지 17곳, 예비청약자들 관심!\" width=\"170\" height=\"114\">\\n\\t\\t\\t\\t\\t\\t<span class=\"thumb_bd\"></span>\\n\\t\\t\\t\\t\\t</a>\\n\\t\\t\\t\\t\\t<a href=\"https://post.naver.com/viewer/postView.naver?volumeNo&#x3D;32426671&amp;memberNo&#x3D;25386652\" class=\"theme_info\" data-clk=\"tcc_fin.list3cont1\" target=\"_blank\">\\n\\t\\t\\t\\t\\t\\t<em class=\"theme_category\"> 경제M</em>\\n\\t\\t\\t\\t\\t\\t<strong class=\"title elss\">금주 청약단지 17곳, 예비청약자들 관심!</strong>\\n\\t\\t\\t\\t\\t\\t<p class=\"desc\">연휴 끝 본격 가을 분양 채비, 전국 곳곳에서 분양소식낮과 밤의 길이가 같아진다는 절기상 추분을 지나며 가을도 점점 깊어가고 있습니다. 추석 연휴도 끝나면서 분양시장은 본격적인 성수기 일정에 돌입하는데요. 9월의 마지막 날과 10월의 첫날이 있는 금주 분양시장은 약 9,000가구에 육박하는 물량이 청약이 나서 예비청약자들의 관심을 모으고 있습니다. 금주는 </p>\\n\\t\\t\\t\\t\\t\\t<div class=\"source_box\">\\n\\t\\t\\t\\t\\t\\t\\t<span class=\"date\">4일 전</span>\\n\\t\\t\\t\\t\\t\\t\\t<span class=\"source\"><span class=\"source_inner\">RealCast</span></span>\\n\\t\\t\\t\\t\\t\\t</div>\\n\\t\\t\\t\\t\\t</a>\\n\\t\\t\\t\\t</li>\\n\\t\\t\\t\\n\\t\\t\\t\\t<li class=\"theme_item\" data-gdid=\"CAS_f4e3c8ca-16d0-11ec-95e6-67fdb3cb0ba5\" data-da-position=\"true\">\\n\\t\\t\\t\\t\\t<a href=\"https://blog.naver.com/sangsangin_fin/222498920413\" class=\"theme_thumb\" data-clk=\"tcc_fin.list3cont2\" target=\"_blank\">\\n\\t\\t\\t\\t\\t\\t<img  data-src=\"https://s.pstatic.net/dthumb.phinf/?src&#x3D;%22https%3A%2F%2Fs.pstatic.net%2Fstatic%2Fwww%2Fmobile%2Fedit%2F20210916_1095%2Fupload_1631784783828M5cdN.jpg%22&amp;type&#x3D;nf340_228\" alt=\"워런 버핏이 매일 아침 &#x27;햄버거 세트&#x27;를 먹는 이유는...\" width=\"170\" height=\"114\">\\n\\t\\t\\t\\t\\t\\t<span class=\"thumb_bd\"></span>\\n\\t\\t\\t\\t\\t</a>\\n\\t\\t\\t\\t\\t<a href=\"https://blog.naver.com/sangsangin_fin/222498920413\" class=\"theme_info\" data-clk=\"tcc_fin.list3cont2\" target=\"_blank\">\\n\\t\\t\\t\\t\\t\\t<em class=\"theme_category\"> 경제M</em>\\n\\t\\t\\t\\t\\t\\t<strong class=\"title elss\">워런 버핏이 매일 아침 \\'햄버거 세트\\'를 먹는 이유는...</strong>\\n\\t\\t\\t\\t\\t\\t<p class=\"desc\">세계적인 대부호나 기업 경영자 중에는 의외로 소탈한 사람들이 많습니다. 경우에 따라 검소함을 넘어서 구두쇠로 보일 정도죠. 하지만 그런 검소함 속에서 세계적인 기업을 세웠다는 점이 인상적인데요. 오늘 부자되는 상상인에서는 세계적으로 손꼽히는 재산만큼이나 검소한 정신으로 유명한 대부호를 소개해드리겠습니다. 78조 원의 재산을 가지고 있는 &#x27;단벌 신사&#x27;...</p>\\n\\t\\t\\t\\t\\t\\t<div class=\"source_box\">\\n\\t\\t\\t\\t\\t\\t\\t<span class=\"date\">2주일 전</span>\\n\\t\\t\\t\\t\\t\\t\\t<span class=\"source\"><span class=\"source_inner\">상상인저축은행</span></span>\\n\\t\\t\\t\\t\\t\\t</div>\\n\\t\\t\\t\\t\\t</a>\\n\\t\\t\\t\\t</li>\\n\\t\\t\\t\\n\\t\\t\\t\\t<li class=\"theme_item\" data-gdid=\"CAS_db4a490f-16d0-11ec-88ef-15d8f0d3c5d5\" data-da-position=\"true\">\\n\\t\\t\\t\\t\\t<a href=\"https://blog.naver.com/cardifkorea/222482188875\" class=\"theme_thumb\" data-clk=\"tcc_fin.list3cont3\" target=\"_blank\">\\n\\t\\t\\t\\t\\t\\t<img  data-src=\"https://s.pstatic.net/dthumb.phinf/?src&#x3D;%22https%3A%2F%2Fs.pstatic.net%2Fstatic%2Fwww%2Fmobile%2Fedit%2F20210916_1095%2Fupload_1631784713630peAvF.jpg%22&amp;type&#x3D;nf340_228\" alt=\"월 평균 소득 511만원 &#x27;금퇴족&#x27; 스펙 따져봤더니...\" width=\"170\" height=\"114\">\\n\\t\\t\\t\\t\\t\\t<span class=\"thumb_bd\"></span>\\n\\t\\t\\t\\t\\t</a>\\n\\t\\t\\t\\t\\t<a href=\"https://blog.naver.com/cardifkorea/222482188875\" class=\"theme_info\" data-clk=\"tcc_fin.list3cont3\" target=\"_blank\">\\n\\t\\t\\t\\t\\t\\t<em class=\"theme_category\"> 경제M</em>\\n\\t\\t\\t\\t\\t\\t<strong class=\"title elss\">월 평균 소득 511만원 \\'금퇴족\\' 스펙 따져봤더니...</strong>\\n\\t\\t\\t\\t\\t\\t<p class=\"desc\">&lt;풍요로운 노후맞이&gt; 월 평균 소득 511만원 &#x27;금퇴족&#x27; 스펙 따져봤더니... 직장인이라면 누구나 한 번쯤 은퇴 이후의 삶에 대해 고민해봤을 것입니다. 좀 더 자세히 말하자면, 은퇴 후에도 걱정 없이 노후를 보내려면 얼마큼의 금융 자산을 쌓아야 할지 고민해 보셨을 텐데요. 모두가 다 할 것 같은 이런 고민을 하지 않는 사람들도 있습니다. 바로 ‘금퇴족’입.</p>\\n\\t\\t\\t\\t\\t\\t<div class=\"source_box\">\\n\\t\\t\\t\\t\\t\\t\\t<span class=\"date\">1개월 전</span>\\n\\t\\t\\t\\t\\t\\t\\t<span class=\"source\"><span class=\"source_inner\">BNP파리바 카디프생명</span></span>\\n\\t\\t\\t\\t\\t\\t</div>\\n\\t\\t\\t\\t\\t</a>\\n\\t\\t\\t\\t</li>\\n\\t\\t\\t\\n\\t\\t\\t\\t<li class=\"theme_item\" data-gdid=\"CAS_7348339c-1602-11ec-95e6-9b8700469368\" data-da-position=\"true\">\\n\\t\\t\\t\\t\\t<a href=\"https://blog.naver.com/datejust88/222503966905\" class=\"theme_thumb\" data-clk=\"tcc_fin.list3cont4\" target=\"_blank\">\\n\\t\\t\\t\\t\\t\\t<img  data-src=\"https://s.pstatic.net/dthumb.phinf/?src&#x3D;%22https%3A%2F%2Fs.pstatic.net%2Fstatic%2Fwww%2Fmobile%2Fedit%2F20210915_1095%2Fupload_1631696044643Mk5xo.jpg%22&amp;type&#x3D;nf340_228\" alt=\"1년 만에 8만개 대박난 27살 창업가의 노트 속 메모\" width=\"170\" height=\"114\">\\n\\t\\t\\t\\t\\t\\t<span class=\"thumb_bd\"></span>\\n\\t\\t\\t\\t\\t</a>\\n\\t\\t\\t\\t\\t<a href=\"https://blog.naver.com/datejust88/222503966905\" class=\"theme_info\" data-clk=\"tcc_fin.list3cont4\" target=\"_blank\">\\n\\t\\t\\t\\t\\t\\t<em class=\"theme_category\"> 경제M</em>\\n\\t\\t\\t\\t\\t\\t<strong class=\"title elss\">1년 만에 8만개 대박난 27살 창업가의 노트 속 메모</strong>\\n\\t\\t\\t\\t\\t\\t<p class=\"desc\">많은 아이디어가 발상의 전환이나 우연에서 시작되지만, 상품으로 시장에 나오려면 부단한 노력과 시행착오가 필요합니다. 좋은 아이디어가 있어도 실행은 엄두내기 어려운데요.나만의 아이디어로 창업을 꿈꾸는 여러분에게 견본이 될 &#x27;옆집 창업가 노트 훔쳐보기&#x27;를 연재합니다. 탄산음료는 아무리 뚜껑을 꼭 닫아 보관해도 며칠 지나면 김이 빠지기 마련이다. 달기만...</p>\\n\\t\\t\\t\\t\\t\\t<div class=\"source_box\">\\n\\t\\t\\t\\t\\t\\t\\t<span class=\"date\">2주일 전</span>\\n\\t\\t\\t\\t\\t\\t\\t<span class=\"source\"><span class=\"source_inner\">뉴스타터</span></span>\\n\\t\\t\\t\\t\\t\\t</div>\\n\\t\\t\\t\\t\\t</a>\\n\\t\\t\\t\\t</li>\\n\\t\\t\\t\\n\\t\\t\\t\\t<li class=\"theme_item\" data-gdid=\"CAS_7348339d-1602-11ec-95e6-65cc9f3044cf\" data-da-position=\"true\">\\n\\t\\t\\t\\t\\t<a href=\"https://blog.naver.com/bagus8/222498989018\" class=\"theme_thumb\" data-clk=\"tcc_fin.list3cont5\" target=\"_blank\">\\n\\t\\t\\t\\t\\t\\t<img  data-src=\"https://s.pstatic.net/dthumb.phinf/?src&#x3D;%22https%3A%2F%2Fs.pstatic.net%2Fstatic%2Fwww%2Fmobile%2Fedit%2F20210915_1095%2Fupload_1631696066997mxN4i.jpg%22&amp;type&#x3D;nf340_228\" alt=\"美·이라크 누비던 삼성맨, 중고차를 최신차 만드는 아이디어\" width=\"170\" height=\"114\">\\n\\t\\t\\t\\t\\t\\t<span class=\"thumb_bd\"></span>\\n\\t\\t\\t\\t\\t</a>\\n\\t\\t\\t\\t\\t<a href=\"https://blog.naver.com/bagus8/222498989018\" class=\"theme_info\" data-clk=\"tcc_fin.list3cont5\" target=\"_blank\">\\n\\t\\t\\t\\t\\t\\t<em class=\"theme_category\"> 경제M</em>\\n\\t\\t\\t\\t\\t\\t<strong class=\"title elss\">美·이라크 누비던 삼성맨, 중고차를 최신차 만드는 아이디어</strong>\\n\\t\\t\\t\\t\\t\\t<p class=\"desc\">비대면 차키 공유 서비스 ‘더컵’ 개발한 카버샵 장병후 대표 자동차도 스마트폰으로 여는 시대다. 스마트폰이 지갑을 대체한지 얼마 지나지 않았는데, 이제 차키까지 대신하고 있다. 새로운 기능을 바로 사용하고 싶은데, 지금 당장 내 차에는 이런 기능을 사용할 수는 없을까? 카버샵 장병후 대표(37)를 강남구 삼성동 퍼플웍스 사무실에서 만났다. ◇삼성맨, 차량 </p>\\n\\t\\t\\t\\t\\t\\t<div class=\"source_box\">\\n\\t\\t\\t\\t\\t\\t\\t<span class=\"date\">2주일 전</span>\\n\\t\\t\\t\\t\\t\\t\\t<span class=\"source\"><span class=\"source_inner\">경제 하티스트</span></span>\\n\\t\\t\\t\\t\\t\\t</div>\\n\\t\\t\\t\\t\\t</a>\\n\\t\\t\\t\\t</li>\\n\\t\\t\\t\\n\\t\\t</ul>\\n\\t</div>\\n</div>\\n<div class=\"group_theme\" data-block-id=\"\" data-block-code=\"PC-THEME-FINANCE-MOBILE-RANKING-DEFAULT-3\" data-block-type=\"MATERIALS\" data-template-code=\"MOBILE-RANKING-LIST\"\\n\\n\\t data-da=\"container\"\\n\\t data-index=\"\"\\n     data-page=\"2\"\\n\\t style=\"display:none\">\\n\\n\\t<div class=\"list_theme_wrap\">\\n\\t\\t<ul class=\"list_theme\">\\n\\t\\t\\t\\n\\t\\t\\t\\t<li class=\"theme_item\" data-gdid=\"CAS_d9dccf2d-16d3-11ec-88ef-ad1160b127ee\" data-da-position=\"true\">\\n\\t\\t\\t\\t\\t<a href=\"https://blog.naver.com/daishin_blog/222501546330\" class=\"theme_thumb\" data-clk=\"tcc_fin.list4cont1\" target=\"_blank\">\\n\\t\\t\\t\\t\\t\\t<img  data-src=\"https://s.pstatic.net/dthumb.phinf/?src&#x3D;%22https%3A%2F%2Fs.pstatic.net%2Fstatic%2Fwww%2Fmobile%2Fedit%2F20210916_1095%2Fupload_1631785984815VAliE.jpg%22&amp;type&#x3D;nf340_228\" alt=\"가을 이사철, 비용 꼼꼼하게 아끼는 노하우 5가지\" width=\"170\" height=\"114\">\\n\\t\\t\\t\\t\\t\\t<span class=\"thumb_bd\"></span>\\n\\t\\t\\t\\t\\t</a>\\n\\t\\t\\t\\t\\t<a href=\"https://blog.naver.com/daishin_blog/222501546330\" class=\"theme_info\" data-clk=\"tcc_fin.list4cont1\" target=\"_blank\">\\n\\t\\t\\t\\t\\t\\t<em class=\"theme_category\"> 경제M</em>\\n\\t\\t\\t\\t\\t\\t<strong class=\"title elss\">가을 이사철, 비용 꼼꼼하게 아끼는 노하우 5가지</strong>\\n\\t\\t\\t\\t\\t\\t<p class=\"desc\">이맘때면 아파트 단지마다 이사하는 집들이 자주 보입니다. 봄과 가을은 대표적인 이사철이죠. 학업이나 직장 문제 등 다양한 문제로 이사를 하는데요. 대한민국 국민 70~80%가 2~4년마다 이사를 한다고 합니다. 신경 쓸 것 많고 경비도 많이 드는 이사, 무엇에 신경써야 할까요? 이사 견적 잘 받기 이사는 크게 거의 모든 짐을 전용 상자에 포장해 옮기고 도착</p>\\n\\t\\t\\t\\t\\t\\t<div class=\"source_box\">\\n\\t\\t\\t\\t\\t\\t\\t<span class=\"date\">2주일 전</span>\\n\\t\\t\\t\\t\\t\\t\\t<span class=\"source\"><span class=\"source_inner\">대신증권</span></span>\\n\\t\\t\\t\\t\\t\\t</div>\\n\\t\\t\\t\\t\\t</a>\\n\\t\\t\\t\\t</li>\\n\\t\\t\\t\\n\\t\\t\\t\\t<li class=\"theme_item\" data-gdid=\"CAS_4d9a5baa-1602-11ec-95e6-c1fce3321eaf\" data-da-position=\"true\">\\n\\t\\t\\t\\t\\t<a href=\"https://blog.naver.com/datejust88/222506665683\" class=\"theme_thumb\" data-clk=\"tcc_fin.list4cont2\" target=\"_blank\">\\n\\t\\t\\t\\t\\t\\t<img  data-src=\"https://s.pstatic.net/dthumb.phinf/?src&#x3D;%22https%3A%2F%2Fs.pstatic.net%2Fstatic%2Fwww%2Fmobile%2Fedit%2F20210915_1095%2Fupload_1631695983339TVCcM.jpg%22&amp;type&#x3D;nf340_228\" alt=\"세계를 홀린 한국 아저씨의 이 자전거, 시작은 평범했다\" width=\"170\" height=\"114\">\\n\\t\\t\\t\\t\\t\\t<span class=\"thumb_bd\"></span>\\n\\t\\t\\t\\t\\t</a>\\n\\t\\t\\t\\t\\t<a href=\"https://blog.naver.com/datejust88/222506665683\" class=\"theme_info\" data-clk=\"tcc_fin.list4cont2\" target=\"_blank\">\\n\\t\\t\\t\\t\\t\\t<em class=\"theme_category\"> 경제M</em>\\n\\t\\t\\t\\t\\t\\t<strong class=\"title elss\">세계를 홀린 한국 아저씨의 이 자전거, 시작은 평범했다</strong>\\n\\t\\t\\t\\t\\t\\t<p class=\"desc\">창업 기업은 한 번 쯤 자금 부족에 시달리는 등 큰 시행착오를 겪는 ‘데스밸리(죽음의 계곡)’를 지납니다. 이 시기를 견디지 못하면 아무리 좋은 기술력, 서비스를 갖고 있다 해도 생존하기 어려운데요. 잘 알려지기만 하면 시장에게 좋은 반응을 얻을 수 있는 중소기업이 죽음의 계곡에 빠지게 둘 순 없습니다. 이들이 세상을 바꿀 수 있도록 응원합니다. 다칠 위험</p>\\n\\t\\t\\t\\t\\t\\t<div class=\"source_box\">\\n\\t\\t\\t\\t\\t\\t\\t<span class=\"date\">1주일 전</span>\\n\\t\\t\\t\\t\\t\\t\\t<span class=\"source\"><span class=\"source_inner\">뉴스타터</span></span>\\n\\t\\t\\t\\t\\t\\t</div>\\n\\t\\t\\t\\t\\t</a>\\n\\t\\t\\t\\t</li>\\n\\t\\t\\t\\n\\t\\t\\t\\t<li class=\"theme_item\" data-gdid=\"CAS_b085a5e8-16d0-11ec-95e6-2102c7758152\" data-da-position=\"true\">\\n\\t\\t\\t\\t\\t<a href=\"https://post.naver.com/viewer/postView.naver?volumeNo&#x3D;32327285&amp;memberNo&#x3D;24109238\" class=\"theme_thumb\" data-clk=\"tcc_fin.list4cont3\" target=\"_blank\">\\n\\t\\t\\t\\t\\t\\t<img  data-src=\"https://s.pstatic.net/dthumb.phinf/?src&#x3D;%22https%3A%2F%2Fs.pstatic.net%2Fstatic%2Fwww%2Fmobile%2Fedit%2F20210916_1095%2Fupload_1631785285638wjMu2.jpg%22&amp;type&#x3D;nf340_228\" alt=\"부자 되려면 이것 버려라! 가난을 벗어나는 습관 3\" width=\"170\" height=\"114\">\\n\\t\\t\\t\\t\\t\\t<span class=\"thumb_bd\"></span>\\n\\t\\t\\t\\t\\t</a>\\n\\t\\t\\t\\t\\t<a href=\"https://post.naver.com/viewer/postView.naver?volumeNo&#x3D;32327285&amp;memberNo&#x3D;24109238\" class=\"theme_info\" data-clk=\"tcc_fin.list4cont3\" target=\"_blank\">\\n\\t\\t\\t\\t\\t\\t<em class=\"theme_category\"> 경제M</em>\\n\\t\\t\\t\\t\\t\\t<strong class=\"title elss\">부자 되려면 이것 버려라! 가난을 벗어나는 습관 3</strong>\\n\\t\\t\\t\\t\\t\\t<p class=\"desc\">사람들은 누구나 부자가 되기를 꿈꿉니다. 하지만 현실은 그렇지 못한 사람들이 대부분이죠. 부자를 꿈꾸며 다짐도 하고 공부도 해보지만 무절제한 소비와 이리저리 휘둘리는 투자 습관을 버리지 못해 가난을 벗어나지 못하는 경우가 많습니다. 문제가 되는 패턴을 반복하며 스스로 ‘부자가 되는 게 가능한가’라고 의심하는 사람은 아직 부자가 될 첫걸음조차 떼지 못한 것이</p>\\n\\t\\t\\t\\t\\t\\t<div class=\"source_box\">\\n\\t\\t\\t\\t\\t\\t\\t<span class=\"date\">2주일 전</span>\\n\\t\\t\\t\\t\\t\\t\\t<span class=\"source\"><span class=\"source_inner\">하나은행</span></span>\\n\\t\\t\\t\\t\\t\\t</div>\\n\\t\\t\\t\\t\\t</a>\\n\\t\\t\\t\\t</li>\\n\\t\\t\\t\\n\\t\\t\\t\\t<li class=\"theme_item\" data-gdid=\"CAS_4d9a5bab-1602-11ec-95e6-a17955f68233\" data-da-position=\"true\">\\n\\t\\t\\t\\t\\t<a href=\"https://blog.naver.com/bagus8/222408332585\" class=\"theme_thumb\" data-clk=\"tcc_fin.list4cont4\" target=\"_blank\">\\n\\t\\t\\t\\t\\t\\t<img  data-src=\"https://s.pstatic.net/dthumb.phinf/?src&#x3D;%22https%3A%2F%2Fs.pstatic.net%2Fstatic%2Fwww%2Fmobile%2Fedit%2F20210917_1095%2Fupload_1631837129829B4KIZ.jpg%22&amp;type&#x3D;nf340_228\" alt=\"3년 다닌 의대 자퇴 후 인생 걸고 한 도전의 결과\" width=\"170\" height=\"114\">\\n\\t\\t\\t\\t\\t\\t<span class=\"thumb_bd\"></span>\\n\\t\\t\\t\\t\\t</a>\\n\\t\\t\\t\\t\\t<a href=\"https://blog.naver.com/bagus8/222408332585\" class=\"theme_info\" data-clk=\"tcc_fin.list4cont4\" target=\"_blank\">\\n\\t\\t\\t\\t\\t\\t<em class=\"theme_category\"> 경제M</em>\\n\\t\\t\\t\\t\\t\\t<strong class=\"title elss\">3년 다닌 의대 자퇴 후 인생 걸고 한 도전의 결과</strong>\\n\\t\\t\\t\\t\\t\\t<p class=\"desc\">세상에 없던 칫솔 만든 의대 출신 전자공학 박사 “이 회사는 제 목숨과 바꾼 거예요.” 창업 계기를 묻는 질문에 대한 김영욱(43) 프록시헬스케어 대표의 답이다. 창업의 꿈은 늘 있었지만 결정적 의지가 없던 그에게 2019년 6월 24일 대장암 1기 진단은 인생 향방을 바꾼 순간이 됐다. 당시 그는 전자공학 박사로서 시약 개발업체 씨젠에서 승승장구하고 있었</p>\\n\\t\\t\\t\\t\\t\\t<div class=\"source_box\">\\n\\t\\t\\t\\t\\t\\t\\t<span class=\"date\">3개월 전</span>\\n\\t\\t\\t\\t\\t\\t\\t<span class=\"source\"><span class=\"source_inner\">경제 하티스트</span></span>\\n\\t\\t\\t\\t\\t\\t</div>\\n\\t\\t\\t\\t\\t</a>\\n\\t\\t\\t\\t</li>\\n\\t\\t\\t\\n\\t\\t\\t\\t<li class=\"theme_item\" data-gdid=\"CAS_788fda60-1516-11ec-adc7-b7be3401bca9\" data-da-position=\"true\">\\n\\t\\t\\t\\t\\t<a href=\"https://post.naver.com/viewer/postView.naver?volumeNo&#x3D;32387741&amp;memberNo&#x3D;4846060\" class=\"theme_thumb\" data-clk=\"tcc_fin.list4cont5\" target=\"_blank\">\\n\\t\\t\\t\\t\\t\\t<img  data-src=\"https://s.pstatic.net/dthumb.phinf/?src&#x3D;%22https%3A%2F%2Fs.pstatic.net%2Fstatic%2Fwww%2Fmobile%2Fedit%2F20210917_1095%2Fupload_1631852231691Itar7.jpg%22&amp;type&#x3D;nf340_228\" alt=\"노후자금 부족한 50대 부부, 주식/달러/가상화폐에 투자할까요?\" width=\"170\" height=\"114\">\\n\\t\\t\\t\\t\\t\\t<span class=\"thumb_bd\"></span>\\n\\t\\t\\t\\t\\t</a>\\n\\t\\t\\t\\t\\t<a href=\"https://post.naver.com/viewer/postView.naver?volumeNo&#x3D;32387741&amp;memberNo&#x3D;4846060\" class=\"theme_info\" data-clk=\"tcc_fin.list4cont5\" target=\"_blank\">\\n\\t\\t\\t\\t\\t\\t<em class=\"theme_category\"> 경제M</em>\\n\\t\\t\\t\\t\\t\\t<strong class=\"title elss\">노후자금 부족한 50대 부부, 주식/달러/가상화폐에 투자할까요?</strong>\\n\\t\\t\\t\\t\\t\\t<p class=\"desc\">(본 포스트는 금융감독원 금융자문서비스 상담사례를 바탕으로 재구성되었습니다.)A씨(50세) / 남편 B씨(53세) 국민연금 수령예상액 월 150만원 퇴직금 1억원 정도 개인연금 잔액 8,200만원부족한 노후자금으로 마음이 급한데... 주식이나 달러, 가상화폐에 투자할까요?Question.50대 초반 부부입니다. 외</p>\\n\\t\\t\\t\\t\\t\\t<div class=\"source_box\">\\n\\t\\t\\t\\t\\t\\t\\t<span class=\"date\">1주일 전</span>\\n\\t\\t\\t\\t\\t\\t\\t<span class=\"source\"><span class=\"source_inner\">한국FP협회</span></span>\\n\\t\\t\\t\\t\\t\\t</div>\\n\\t\\t\\t\\t\\t</a>\\n\\t\\t\\t\\t</li>\\n\\t\\t\\t\\n\\t\\t</ul>\\n\\t</div>\\n</div>\\n\\n\\n\\n\\n\\t<div class=\"btn_more_wrap\">\\n\\t\\t<button type=\"button\" class=\"btn_more\" data-clk-custom=\"tcc_fin.more\" data-next-page=\"2\"><i class=\"ico_more\"></i>새로운 글 더보기</button>\\n\\t</div>\\n\\n\\n\\t</div>\\n</div>\\n </div> </div> <div id=\"NM_INT_RIGHT\" class=\"column_right\"> <div class=\"column_fix_wrap\"> <div id=\"da_brand\"></div> \\n\\n\\n\\n\\n<div id=\"account\" class=\"sc_login\">\\n<h2 class=\"blind\">Sign in</h2>\\n<p class=\"login_msg\">Connect with people</p>\\n<a href=\"https://nid.naver.com/nidlogin.login?mode=form&url=https%3A%2F%2Fwww.naver.com\" class=\"link_login\" data-clk=\"log_off.login\"><i class=\"ico_naver\"><span class=\"blind\">NAVER</span></i>Sign in</a>\\n<div class=\"sub_area\">\\n<div class=\"look_box\">\\n<a href=\"https://nid.naver.com/user/help.nhn?todo=idinquiry\" class=\"link_look\" data-clk=\"log_off.searchid\">Forgot Username</a>\\n<a href=\"https://nid.naver.com/nidreminder.form\" class=\"link_look\" data-clk=\"log_off.searchpass\">Password</a>\\n</div>\\n<a href=\"https://nid.naver.com/nidregister.form?url=https%3A%2F%2Fwww.naver.com\" class=\"link_join\" data-clk=\"log_off.registration\">Sign up</a>\\n</div>\\n</div>\\n\\n\\n\\n <div id=\"timesquare\" class=\"sc_timesquare\"> <h2 class=\"blind\">타임스퀘어</h2> <div class=\"card_wrap\">\\n<div class=\"card_nav\">\\n<a href=\"#\" role=\"button\" class=\"btn_nav btn_prev\" data-clk=\"squ.pre\"><span class=\"blind\">이전</span></a>\\n<a href=\"#\" role=\"button\" class=\"btn_nav btn_next\" data-clk=\"squ.next\"><span class=\"blind\">다음</span></a>\\n</div>\\n<div id=\"NM_TS_ROLLING_WRAP\" style=\"height: 100%;\">\\n<div>\\n<a href=\"https://search.naver.com/search.naver?sm=top_hty&amp;fbm=0&amp;ie=utf8&amp;query=%EC%BD%94%EB%A1%9C%EB%82%9819\" class=\"card_news\" data-clk=\"squ.line3\"><i class=\"news_badge\">이슈</i><span class=\"news\">코로나바이러스감염증-19 현황</span></a>\\n</div>\\n<div>\\n<a href=\"https://finance.naver.com/world/sise.nhn?symbol=RUI@RTSI\" class=\"card_stock \" data-clk=\"squ.rus\">\\n<strong class=\"stock_title\">증시</strong>\\n<div class=\"stock_box\">\\n<em class=\"name\">러시아</em>\\n<strong class=\"current\">1,785.05</strong>\\n<span class=\"rate rate_up\">1.87 +0.11%</span>\\n</div>\\n</a>\\n</div>\\n<div>\\n<a href=\"https://finance.naver.com/world/sise.nhn?symbol=XTR@DAX30\" class=\"card_stock \" data-clk=\"squ.ger\">\\n<strong class=\"stock_title\">증시</strong>\\n<div class=\"stock_box\">\\n<em class=\"name\">독일</em>\\n<strong class=\"current\">15,542.03</strong>\\n<span class=\"rate rate_down\">143.62 -0.92%</span>\\n</div>\\n</a>\\n</div>\\n<div>\\n<a href=\"https://finance.naver.com/world/sise.nhn?symbol=STX@SX5E\" class=\"card_stock \" data-clk=\"squ.euro\">\\n<strong class=\"stock_title\">증시</strong>\\n<div class=\"stock_box\">\\n<em class=\"name\">유로스톡스50</em>\\n<strong class=\"current\">4,160.47</strong>\\n<span class=\"rate rate_down\">61.23 -1.47%</span>\\n</div>\\n</a>\\n</div>\\n<div>\\n<a href=\"https://finance.naver.com/marketindex/exchangeDetail.nhn?marketindexCd=FX_USDKRW\" class=\"card_stock type_exchange\" data-clk=\"squ.usd\">\\n<strong class=\"stock_title\">환율</strong>\\n<div class=\"stock_box\">\\n<em class=\"name\">USD</em>\\n<strong class=\"current\">1,186.50</strong>\\n<span class=\"rate rate_up\">5.50 +0.47%</span>\\n</div>\\n</a>\\n</div>\\n</div>\\n</div> <!-- EMPTY --> </div>  <div id=\"veta_branding\"> <iframe id=\"da_iframe_rolling\" name=\"da_iframe_rolling\" data-iframe-src=\"https://siape.veta.naver.com/fxshow?su=SU10601&amp;nrefreshx=0\" data-veta-preview=\"main_rolling\" title=\"광고\" width=\"350\" height=\"200\" marginheight=\"0\" marginwidth=\"0\" scrolling=\"no\" frameborder=\"0\"></iframe> <span class=\"veta_bd_t\"></span> <span class=\"veta_bd_b\"></span> <span class=\"veta_bd_l\"></span> <span class=\"veta_bd_r\"></span> </div>   <div id=\"shopcast\" class=\"sc_shopcast\"> <iframe id=\"shopcast_iframe\" data-iframe-src=\"https://castbox.shopping.naver.com/shoppingboxnew/main.nhn\" title=\"쇼핑캐스트\" width=\"350\" height=\"1539\" marginheight=\"0\" marginwidth=\"0\" scrolling=\"no\" frameborder=\"0\"></iframe> </div> </div> </div> <a id=\"NM_scroll_top_btn\" href=\"#wrap\" class=\"content_top\"><span class=\"blind\">TOP</span></a> <button id=\"NM_darkmode_btn\" type=\"button\" role=\"button\" class=\"btn_theme\" aria-pressed=\"false\"  > <span class=\"blind\">라이트 모드로 보기</span> </button> </div> <div id=\"footer\" role=\"contentinfo\"> <div class=\"footer_inner\"> <div class=\"banner_area\"> <div class=\"da_box_wrap\">    <div id=\"da_public_left\"> <iframe id=\"da_iframe_bottom_left\" data-iframe-src=\"https://siape.veta.naver.com/fxshow?su=SU10641&amp;nrefreshx=0\" title=\"광고\" width=\"350\" height=\"86\" scrolling=\"no\" frameborder=\"0\"></iframe> </div> <div id=\"da_public_right\"> <iframe id=\"da_iframe_bottom_right\" data-iframe-src=\"https://siape.veta.naver.com/fxshow?su=SU10642&amp;nrefreshx=0\" title=\"광고\" width=\"350\" height=\"86\" scrolling=\"no\" frameborder=\"0\"></iframe> </div> <div id=\"veta_time2\"> <iframe id=\"da_iframe_below\" name=\"da_iframe_below\" data-iframe-src=\"https://siape.veta.naver.com/fxshow?su=SU10640&amp;nrefreshx=0\" data-veta-preview=\"main_below\" width=\"350\" height=\"86\" scrolling=\"no\" frameborder=\"0\" title=\"광고\"> </iframe> </div> </div> </div> <div class=\"notice_area\" data-clk-prefix=\"ntc\"> <div class=\"notice_box\"> <h3 class=\"title\"><a href=\"https://www.naver.com/NOTICE\">공지사항</a> </h3> <!-- EMPTY --> </div> <a href=\"more.html\" class=\"link_all\" data-clk=\"svcmap\">서비스 전체보기</a> </div> <div class=\"aside_area\"> <div class=\"partner_box_wrap\"> <div class=\"partner_box\" data-clk-prefix=\"crt\"> <h3 class=\"title\">Creators</h3> <a href=\"https://www.navercorp.com/service/creators\" class=\"link_partner\" data-clk=\"creator\">크리에이터</a> <a href=\"https://www.navercorp.com/service/business\" class=\"link_partner\" data-clk=\"smbusiness\">스몰비즈니스</a> </div> <div class=\"partner_box\" data-clk-prefix=\"crt\"> <h3 class=\"title\">Partners</h3> <a href=\"https://campaign.naver.com/smefullcare/online/\" class=\"link_partner\" data-clk=\"sme\">SME 풀케어 시스템</a> <a href=\"https://business.naver.com/service.html\" class=\"link_partner\" data-clk=\"service\">비즈니스 · 광고</a> <a href=\"https://sell.storefarm.naver.com/#/home/about\" class=\"link_partner\" data-clk=\"store\">스토어 개설</a> <a href=\"https://smartplace.naver.com\" class=\"link_partner\" data-clk=\"place\">지역업체 등록</a> <a href=\"https://expert.naver.com/expert/introduction?tab=guide#join\" class=\"link_partner\" data-clk=\"expert\">엑스퍼트 등록</a> </div> <div class=\"partner_box\" data-clk-prefix=\"crt\"> <h3 class=\"title\">Developers</h3> <a href=\"https://developers.naver.com\" class=\"link_partner\" data-clk=\"center\">네이버 개발자 센터</a> <a href=\"https://developers.naver.com/docs/common/openapiguide/#/apilist.md\" class=\"link_partner\" data-clk=\"openapi\">오픈 API</a> <a href=\"https://naver.github.io\" class=\"link_partner\" data-clk=\"opensource\">오픈소스</a> <a href=\"https://d2.naver.com\" class=\"link_partner\" data-clk=\"d2\">네이버 D2</a> <a href=\"http://d2startup.com\" class=\"link_partner\" data-clk=\"naverD2SF\">네이버 D2SF</a> <a href=\"https://www.naverlabs.com\" class=\"link_partner\" data-clk=\"labs\">네이버 랩스</a> </div> </div> <div class=\"service_box_wrap\"> <div class=\"service_box\" data-clk-prefix=\"wbd\"> <a href=\"http://whale.naver.com/\" class=\"service_logo\" data-clk=\"bt\"> <img src=\"data:image/png;base64,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\" alt=\"웨일\" width=\"48\" height=\"48\"> </a> <div class=\"service_info\"> <strong class=\"title\">웨일 브라우저</strong> <a href=\"http://whale.naver.com/\" class=\"dsc\" data-clk=\"bt\">다운받기</a> </div> </div> <div class=\"service_box\" data-clk-prefix=\"prj\"> <a href=\"https://search.naver.com/search.naver?where=nexearch&sm=top_hty&fbm=1&ie=utf8&query=%ED%94%84%EB%A1%9C%EC%A0%9D%ED%8A%B8%EA%BD%83\" class=\"service_logo\" data-clk=\"link\"> <img src=\"data:image/png;base64,iVBORw0KGgoAAAANSUhEUgAAAF4AAABkCAMAAAA47XeXAAAAgVBMVEUAAADN5PdGm99Gm99Gm99Gm99Gm95Gm99Gm99Gm99Gm99Gm99Gm99Gm99Gm99Gm99Gm99Gm99Gm99Gm99Gm99Gm99Gm99Gmt9Gm99Gm99Gm99Gm95Gm99Gm99Gm95Gm99Hm99Gm99Gm9/////3+/5cp+LO5PfR5/fO5fdcp+P7/f/zv5GhAAAAInRSTlMA/v7vH9u5qJNgGwb6l8a9uqF9WFUyLxYMCtbVmLCwe4OCj8gzEgAAA0NJREFUaN7NmmFz4iAQhkkwMTHGWrWtWvWuq8mF+/8/8Ey2nb0OhSwQZnw+MHQ7pbjAy2s2gsuiLPJMLpcyy4tyISZltnmHbxw3MzEVr/MUNNL5q5iCt2ccXCN9fhPB7CQYkTsRRlWDlboSAexzGCHfC28OKxhldfDOzBMwePLNTw0sauHFFphshQcLCUwkaQRfXYBPSkrEUBdv3jezcXXhw1ciUhc+fCUidQlH7qzqEk5d2dQlnHxvU5dwVgdXdSGclaiGyamt6hLO1qIu4ZASzcFE092SBprk1jagulvXAAw/qb5N7m176xQYmOPoLymYaK/X65/PNhlagE6LGUhfRM8FjNzuf/73//bHmInzoJEpjMyeWpp9RzGz/PT6+QvMNO2Q+67PPeYZY5h7jDVg5OM+/BGikd13JfDAj/Ad1WLMyEyUwKPT00ypN1GKAljQJtFiFgqRe86eYhbWIvPPPR5d+9pKiIgUwKNJdHXBvW9jyRye1EWLWYfnJcd141Byspizz7gbUyWDuqiW0v15D9g3ZgF86JwyKUgUHJaATUmS5rsEdkkTZLjZS8Alw+skFr8Nl6H6uosShaKOp3Zo+/jgFTDe+wcSfv0yFGfQaLX7tDO0reXOPRuMCG4Q11Y3IiYblWgzS7R+h31qdRtlGB7zikeUckz+AB3a8FuMqD7Cd2nhUHLOEIkLubQIkEuLxIdwEwUy3HyXxsbgPMJcGuGox+TSIugxuTQ+KHIaAS5N92eIIuMT5tJoPfHy5q9yKoXLelLuKRri0mjMQdhwTPw6Sv8pzKXhFyhNilEwkSCXRrnAnaPnJdyl0UrqXircpeHVglnv+62K4NJo3lFcGmWd79KO7OQoXAE8XNO6tIQGxj7fpfHTwk8RubQLWEGvgTNGKzj01fixunCMCCYcvSSlaFwUyKVx86J3bczpUR3zimq1LqdosAUbJF54ar+uk5Gju436mPTk8ZAXFdO93HRYTesUVgf3B+y0XdxLfdVputmfKp/iBtNjyl3c0kzUwtJIWewIPvAL9LOyWLsV9WAps3VRzh6hJBm3oOqsRKfHLGYzS/GP+iLBuBKdqkd+iWPkFZTHf4Em4us/uhI5qss/6zK5u8+AXpwAAAAASUVORK5CYII=\" alt=\"꽃\" width=\"47\" height=\"50\"> </a> <div class=\"service_info\"> <strong class=\"title\">프로젝트 꽃</strong> <a href=\"https://search.naver.com/search.naver?where=nexearch&sm=top_hty&fbm=1&ie=utf8&query=%ED%94%84%EB%A1%9C%EC%A0%9D%ED%8A%B8%EA%BD%83\" class=\"dsc\" data-clk=\"link\">바로가기</a> </div> </div> </div> </div> <div class=\"corp_area\" data-clk-prefix=\"plc\"> <h3 class=\"blind\">네이버 정책 및 약관</h3> <ul class=\"list_corp\"> <li class=\"corp_item\"><a href=\"https://www.navercorp.com\" data-clk=\"intronhn\">회사소개</a></li> <li class=\"corp_item\"><a href=\"https://recruit.navercorp.com/naver/recruitMain\" data-clk=\"recruit\">인재채용</a></li> <li class=\"corp_item\"><a href=\"https://www.navercorp.com/naver/proposalGuide\" data-clk=\"contact\">제휴제안</a></li> <li class=\"corp_item\"><a href=\"/policy/service.html\" data-clk=\"service\">이용약관</a></li> <li class=\"corp_item\"><a href=\"/policy/privacy.html\" data-clk=\"privacy\"><strong>개인정보처리방침</strong></a></li> <li class=\"corp_item\"><a href=\"/policy/youthpolicy.html\" data-clk=\"youth\">청소년보호정책</a></li> <li class=\"corp_item\"><a href=\"/policy/spamcheck.html\" data-clk=\"policy\">네이버 정책</a></li> <li class=\"corp_item\"><a href=\"https://help.naver.com/\" data-clk=\"helpcenter\">고객센터</a></li> </ul> <address class=\"addr\"><a href=\"https://www.navercorp.com\" target=\"_blank\" data-clk=\"nhn\">ⓒ NAVER Corp.</a></address> </div> </div> </div> </div> <div id=\"adscript\" style=\"display:none\"></div> </body> </html>\\n'"
      ]
     },
     "execution_count": 3,
     "metadata": {},
     "output_type": "execute_result"
    }
   ],
   "source": [
    "response.text"
   ]
  },
  {
   "cell_type": "code",
   "execution_count": 4,
   "id": "6f58b427",
   "metadata": {
    "ExecuteTime": {
     "end_time": "2021-09-28T08:30:28.572726Z",
     "start_time": "2021-09-28T08:30:28.553776Z"
    }
   },
   "outputs": [
    {
     "data": {
      "text/plain": [
       "[<img alt=\"\" height=\"49\" src=\"https://static-whale.pstatic.net/main/img_darkmode@2x.png\" style=\"padding-left: 48px\" width=\"303\"/>,\n",
       " <img alt=\"스포탈코리아\" class=\"news_logo\" height=\"20\" src=\"https://s.pstatic.net/static/newsstand/2020/logo/light/0604/139.png\"/>,\n",
       " <img alt=\"파이낸셜뉴스\" class=\"news_logo\" height=\"20\" src=\"https://s.pstatic.net/static/newsstand/2020/logo/light/0604/014.png\"/>,\n",
       " <img alt=\"디지털타임스\" class=\"news_logo\" height=\"20\" src=\"https://s.pstatic.net/static/newsstand/2020/logo/light/0604/029.png\"/>,\n",
       " <img alt=\"서울신문\" class=\"news_logo\" height=\"20\" src=\"https://s.pstatic.net/static/newsstand/2020/logo/light/0604/081.png\"/>,\n",
       " <img alt=\"뉴스타파\" class=\"news_logo\" height=\"20\" src=\"https://s.pstatic.net/static/newsstand/2020/logo/light/0604/930.png\"/>,\n",
       " <img alt=\"시사인\" class=\"news_logo\" height=\"20\" src=\"https://s.pstatic.net/static/newsstand/2020/logo/light/0604/308.png\"/>,\n",
       " <img alt=\"아이뉴스24\" class=\"news_logo\" height=\"20\" src=\"https://s.pstatic.net/static/newsstand/2020/logo/light/0604/031.png\"/>,\n",
       " <img alt=\"MBC\" class=\"news_logo\" height=\"20\" src=\"https://s.pstatic.net/static/newsstand/2020/logo/light/0604/214.png\"/>,\n",
       " <img alt=\"조선일보\" class=\"news_logo\" height=\"20\" src=\"https://s.pstatic.net/static/newsstand/up/2020/0903/nsd185255316.png\"/>,\n",
       " <img alt=\"전자신문\" class=\"news_logo\" height=\"20\" src=\"https://s.pstatic.net/static/newsstand/2020/logo/light/0604/030.png\"/>,\n",
       " <img alt=\"스포츠조선\" class=\"news_logo\" height=\"20\" src=\"https://s.pstatic.net/static/newsstand/2020/logo/light/0604/076.png\"/>,\n",
       " <img alt=\"동아일보\" class=\"news_logo\" height=\"20\" src=\"https://s.pstatic.net/static/newsstand/2020/logo/light/0604/020.png\"/>,\n",
       " <img alt=\"한국경제TV\" class=\"news_logo\" height=\"20\" src=\"https://s.pstatic.net/static/newsstand/2020/logo/light/0604/215.png\"/>,\n",
       " <img alt=\"SBS\" class=\"news_logo\" height=\"20\" src=\"https://s.pstatic.net/static/newsstand/2020/logo/light/0604/055.png\"/>,\n",
       " <img alt=\"JTBC\" class=\"news_logo\" height=\"20\" src=\"https://s.pstatic.net/static/newsstand/2020/logo/light/0604/904.png\"/>,\n",
       " <img alt=\"이투데이\" class=\"news_logo\" height=\"20\" src=\"https://s.pstatic.net/static/newsstand/2020/logo/light/0604/922.png\"/>,\n",
       " <img alt=\"코리아타임스\" class=\"news_logo\" height=\"20\" src=\"https://s.pstatic.net/static/newsstand/2020/logo/light/0604/040.png\"/>,\n",
       " <img alt=\"국방일보\" class=\"news_logo\" height=\"20\" src=\"https://s.pstatic.net/static/newsstand/2020/logo/light/0604/908.png\"/>,\n",
       " <img alt=\"더스쿠프\" class=\"news_logo\" height=\"20\" src=\"https://s.pstatic.net/static/newsstand/2020/logo/light/0604/905.png\"/>,\n",
       " <img alt=\"코메디닷컴\" class=\"news_logo\" height=\"20\" src=\"https://s.pstatic.net/static/newsstand/2020/logo/light/0604/296.png\"/>,\n",
       " <img alt=\"과학동아\" class=\"news_logo\" height=\"20\" src=\"https://s.pstatic.net/static/newsstand/2020/logo/light/0604/363.png\"/>,\n",
       " <img alt=\"미주한국일보\" class=\"news_logo\" height=\"20\" src=\"https://s.pstatic.net/static/newsstand/2020/logo/light/0604/814.png\"/>,\n",
       " <img alt=\"주간조선\" class=\"news_logo\" height=\"20\" src=\"https://s.pstatic.net/static/newsstand/2020/logo/light/0604/990.png\"/>,\n",
       " <img alt=\"e대한경제\" class=\"news_logo\" height=\"20\" src=\"https://s.pstatic.net/static/newsstand/up/2020/1011/nsd205146413.png\"/>,\n",
       " <img alt=\"&quot;매일이 공포&quot;…사진만 봐도 섬뜩한 '광주판 피사의 사탑'\" data-src=\"https://s.pstatic.net/dthumb.phinf/?src=%22https%3A%2F%2Fs.pstatic.net%2Fstatic%2Fwww%2Fmobile%2Fedit%2F20210927_1095%2Fupload_1632727730425PhLKN.jpg%22&amp;type=nf340_228\" height=\"114\" src=\"https://s.pstatic.net/dthumb.phinf/?src=%22https%3A%2F%2Fs.pstatic.net%2Fstatic%2Fwww%2Fmobile%2Fedit%2F20210927_1095%2Fupload_1632727730425PhLKN.jpg%22&amp;type=nf340_228\" width=\"170\"/>,\n",
       " <img alt='어느 직장인의 복지 혜택 \"이 정도면 어떤 수준인가요?\"' data-src=\"https://s.pstatic.net/dthumb.phinf/?src=%22https%3A%2F%2Fs.pstatic.net%2Fstatic%2Fwww%2Fmobile%2Fedit%2F20210927_1095%2Fupload_1632716453747T3p6g.jpg%22&amp;type=nf340_228\" height=\"114\" src=\"https://s.pstatic.net/dthumb.phinf/?src=%22https%3A%2F%2Fs.pstatic.net%2Fstatic%2Fwww%2Fmobile%2Fedit%2F20210927_1095%2Fupload_1632716453747T3p6g.jpg%22&amp;type=nf340_228\" width=\"170\"/>,\n",
       " <img alt=\"'그 사업 안된다' 말리러 갔다가 건져 온 40억원 아이디어\" data-src=\"https://s.pstatic.net/dthumb.phinf/?src=%22https%3A%2F%2Fs.pstatic.net%2Fstatic%2Fwww%2Fmobile%2Fedit%2F20210927_1095%2Fupload_1632716433790Xy3CR.jpg%22&amp;type=nf340_228\" height=\"114\" src=\"https://s.pstatic.net/dthumb.phinf/?src=%22https%3A%2F%2Fs.pstatic.net%2Fstatic%2Fwww%2Fmobile%2Fedit%2F20210927_1095%2Fupload_1632716433790Xy3CR.jpg%22&amp;type=nf340_228\" width=\"170\"/>,\n",
       " <img alt=\"내 자산을 굴리는 달러 투자 방법은? (feat. 환테크)\" data-src=\"https://s.pstatic.net/dthumb.phinf/?src=%22https%3A%2F%2Fs.pstatic.net%2Fstatic%2Fwww%2Fmobile%2Fedit%2F20210927_1095%2Fupload_1632723518916xNIsS.jpg%22&amp;type=nf340_228\" height=\"114\" src=\"https://s.pstatic.net/dthumb.phinf/?src=%22https%3A%2F%2Fs.pstatic.net%2Fstatic%2Fwww%2Fmobile%2Fedit%2F20210927_1095%2Fupload_1632723518916xNIsS.jpg%22&amp;type=nf340_228\" width=\"170\"/>,\n",
       " <img alt=\"이병철 부행장, “50+ 시니어 신춘문예 공모전을 통한 퇴직연금 가입자 문화 재발견”\" data-src=\"https://s.pstatic.net/dthumb.phinf/?src=%22https%3A%2F%2Fs.pstatic.net%2Fstatic%2Fwww%2Fmobile%2Fedit%2F20210927_1095%2Fupload_1632716333466W8nS3.jpg%22&amp;type=nf340_228\" height=\"114\" src=\"https://s.pstatic.net/dthumb.phinf/?src=%22https%3A%2F%2Fs.pstatic.net%2Fstatic%2Fwww%2Fmobile%2Fedit%2F20210927_1095%2Fupload_1632716333466W8nS3.jpg%22&amp;type=nf340_228\" width=\"170\"/>,\n",
       " <img alt=\"20대 꿈을 향한 도전 D-730, 재취업 위한 생활비 마련은?\" data-src=\"https://s.pstatic.net/dthumb.phinf/?src=%22https%3A%2F%2Fs.pstatic.net%2Fstatic%2Fwww%2Fmobile%2Fedit%2F20210927_1095%2Fupload_16327276483756nIeu.jpg%22&amp;type=nf340_228\" height=\"114\" src=\"https://s.pstatic.net/dthumb.phinf/?src=%22https%3A%2F%2Fs.pstatic.net%2Fstatic%2Fwww%2Fmobile%2Fedit%2F20210927_1095%2Fupload_16327276483756nIeu.jpg%22&amp;type=nf340_228\" width=\"170\"/>,\n",
       " <img alt=\"신용카드 혜택이 점점 줄어드는 이유는?\" data-src=\"https://s.pstatic.net/dthumb.phinf/?src=%22https%3A%2F%2Fs.pstatic.net%2Fstatic%2Fwww%2Fmobile%2Fedit%2F20210927_1095%2Fupload_1632716611422o6hOt.jpg%22&amp;type=nf340_228\" height=\"114\" src=\"https://s.pstatic.net/dthumb.phinf/?src=%22https%3A%2F%2Fs.pstatic.net%2Fstatic%2Fwww%2Fmobile%2Fedit%2F20210927_1095%2Fupload_1632716611422o6hOt.jpg%22&amp;type=nf340_228\" width=\"170\"/>,\n",
       " <img alt=\"은퇴 이후 소득원, 어떻게 준비해야 하나?\" data-src=\"https://s.pstatic.net/dthumb.phinf/?src=%22https%3A%2F%2Fs.pstatic.net%2Fstatic%2Fwww%2Fmobile%2Fedit%2F20210916_1095%2Fupload_1631785091636Dalok.jpg%22&amp;type=nf340_228\" height=\"114\" src=\"https://s.pstatic.net/dthumb.phinf/?src=%22https%3A%2F%2Fs.pstatic.net%2Fstatic%2Fwww%2Fmobile%2Fedit%2F20210916_1095%2Fupload_1631785091636Dalok.jpg%22&amp;type=nf340_228\" width=\"170\"/>,\n",
       " <img alt=\"금주 청약단지 17곳, 예비청약자들 관심!\" data-src=\"https://s.pstatic.net/dthumb.phinf/?src=%22https%3A%2F%2Fs.pstatic.net%2Fstatic%2Fwww%2Fmobile%2Fedit%2F20210924_1095%2Fupload_1632470868616srSfE.jpg%22&amp;type=nf340_228\" height=\"114\" width=\"170\"/>,\n",
       " <img alt=\"워런 버핏이 매일 아침 '햄버거 세트'를 먹는 이유는...\" data-src=\"https://s.pstatic.net/dthumb.phinf/?src=%22https%3A%2F%2Fs.pstatic.net%2Fstatic%2Fwww%2Fmobile%2Fedit%2F20210916_1095%2Fupload_1631784783828M5cdN.jpg%22&amp;type=nf340_228\" height=\"114\" width=\"170\"/>,\n",
       " <img alt=\"월 평균 소득 511만원 '금퇴족' 스펙 따져봤더니...\" data-src=\"https://s.pstatic.net/dthumb.phinf/?src=%22https%3A%2F%2Fs.pstatic.net%2Fstatic%2Fwww%2Fmobile%2Fedit%2F20210916_1095%2Fupload_1631784713630peAvF.jpg%22&amp;type=nf340_228\" height=\"114\" width=\"170\"/>,\n",
       " <img alt=\"1년 만에 8만개 대박난 27살 창업가의 노트 속 메모\" data-src=\"https://s.pstatic.net/dthumb.phinf/?src=%22https%3A%2F%2Fs.pstatic.net%2Fstatic%2Fwww%2Fmobile%2Fedit%2F20210915_1095%2Fupload_1631696044643Mk5xo.jpg%22&amp;type=nf340_228\" height=\"114\" width=\"170\"/>,\n",
       " <img alt=\"美·이라크 누비던 삼성맨, 중고차를 최신차 만드는 아이디어\" data-src=\"https://s.pstatic.net/dthumb.phinf/?src=%22https%3A%2F%2Fs.pstatic.net%2Fstatic%2Fwww%2Fmobile%2Fedit%2F20210915_1095%2Fupload_1631696066997mxN4i.jpg%22&amp;type=nf340_228\" height=\"114\" width=\"170\"/>,\n",
       " <img alt=\"가을 이사철, 비용 꼼꼼하게 아끼는 노하우 5가지\" data-src=\"https://s.pstatic.net/dthumb.phinf/?src=%22https%3A%2F%2Fs.pstatic.net%2Fstatic%2Fwww%2Fmobile%2Fedit%2F20210916_1095%2Fupload_1631785984815VAliE.jpg%22&amp;type=nf340_228\" height=\"114\" width=\"170\"/>,\n",
       " <img alt=\"세계를 홀린 한국 아저씨의 이 자전거, 시작은 평범했다\" data-src=\"https://s.pstatic.net/dthumb.phinf/?src=%22https%3A%2F%2Fs.pstatic.net%2Fstatic%2Fwww%2Fmobile%2Fedit%2F20210915_1095%2Fupload_1631695983339TVCcM.jpg%22&amp;type=nf340_228\" height=\"114\" width=\"170\"/>,\n",
       " <img alt=\"부자 되려면 이것 버려라! 가난을 벗어나는 습관 3\" data-src=\"https://s.pstatic.net/dthumb.phinf/?src=%22https%3A%2F%2Fs.pstatic.net%2Fstatic%2Fwww%2Fmobile%2Fedit%2F20210916_1095%2Fupload_1631785285638wjMu2.jpg%22&amp;type=nf340_228\" height=\"114\" width=\"170\"/>,\n",
       " <img alt=\"3년 다닌 의대 자퇴 후 인생 걸고 한 도전의 결과\" data-src=\"https://s.pstatic.net/dthumb.phinf/?src=%22https%3A%2F%2Fs.pstatic.net%2Fstatic%2Fwww%2Fmobile%2Fedit%2F20210917_1095%2Fupload_1631837129829B4KIZ.jpg%22&amp;type=nf340_228\" height=\"114\" width=\"170\"/>,\n",
       " <img alt=\"노후자금 부족한 50대 부부, 주식/달러/가상화폐에 투자할까요?\" data-src=\"https://s.pstatic.net/dthumb.phinf/?src=%22https%3A%2F%2Fs.pstatic.net%2Fstatic%2Fwww%2Fmobile%2Fedit%2F20210917_1095%2Fupload_1631852231691Itar7.jpg%22&amp;type=nf340_228\" height=\"114\" width=\"170\"/>,\n",
       " <img alt=\"웨일\" height=\"48\" src=\"data:image/png;base64,iVBORw0KGgoAAAANSUhEUgAAAGAAAABgCAMAAADVRocKAAAC91BMVEUAAACE1dAbf6jE1Nq/z9e82drQ3OG7ytOzws+6x9QNs7MeLpQSx60QrLAfL50gMakTxKyzwc8fMacSr6yywc8fMKIdLYzJ1d4KrrW6ydMJrrUbr6QgMKW2xNEcr6W7ydUfL5cIr7XBztgMtbMeL50fMaQQzrI0tK4cLIQUvqsVvqofMKLL0eGzxM+4xtIZuKcJr7XCyNt0xsILsLW1w9AdLYZwvL8gMaoeLY6CzMceLYyxz9fI1d0JwLMeLY4KrbXFzeAgMqvN2OEIrLUGsrVIurMfLpAcLIIIsbVWs7MeLpXIzt0UvakgMqwfL5x4wcEJsLYfMagWt6k6qqoil6DV2+UdK4EeMoEfLpOzws4/s7YgMacXvqoC27QcK38B17TE1dobKW0bKnID0bTP3OACzrQcKngcLIMbKXAD07QeLYfi6uzY4+YfLpDN2+DK2d0cK3zU4eTS3+IFzLQeL5ccKnXk7O7G19wgMJ3R3uHa5ejL2t7c5unI2Nzg6esBxrMfMKPp7vEeLYrr8fMNr7X2+PkeLYzt8vQE2LTx9fYfLpPz9/gHyLMOsrUHr7UCybQLs7YKu7UIuLUFvLQGwbUIxbQGw7QcKnTZ5OfV4uUJv67e5+rd5+rl7e8Ju6z3+vvm7vDp8PHs8vPw9fbv9PUgMaj6/PwgMqwJs6kNw7AFubULtrUGtbUJvrQEv7QAwq8MrqYKuKsKtqn+/v4Osaf7/P0K1rMHq6UeqKQNqKQhNoIgSH0Vvqoie5MhWIdV3cAcsaYhhZoglJkdLXnJ7+ia5tU61rgp1rceoKIhb4whZYgcM3fj9vJw3sdJx7xtd6sXt6hCT5AvPpAfPYQbKIMcJ34fP3q+8uSy49ux0tWd2NKYzM+A48yE08t6xchdv8FP0b1zfbcSpKIgToEbJ3nE5OG12Nmn19WM5tGKk8ehqMZlxcJJuLwgtLcbvbYc2bUTtaknNpA1Q4bZ7uuzuNuP3M9p0cNfbLUKtq5IVqk8Sp8jZpxaZZrUCA9eAAAAXXRSTlMABAj99BcO6IpfLhj9hPLp5ryyq6ZzXDnd2cuYkHtzbFFOQj0yJv76+ebc29fXx8TCuJuVlIqHgX5gPS0kEvn49/f08O3t6+fj2tLR0MzGeGNfWvbz7sXBpYN4PB4CDkIdAAAFcUlEQVRo3q3TdVwTYRjA8eeI0SKgYnd3d3d362tgO7u7Y4rd3d2K4pwwQkAQJUSxu7vbPzwYg9vufe+eO/neP9vtPr/n7t53gFMobxXPVu719pu4t/LM2a4gBwioeGZP9/0U9TyrFEyHepUSeyW45+wB/8GmXetZskpkdlGbz+w+CyVDThdV+QyT0FSMyFtikiIZMnOggIvnOMWaFwS0LBkkQj/q/mL8UpVDvv2ui6V89XvF+qm1C2rnNx8u6ferq8zfGlcHWdUbD/8PtbPI7p7aC5R49Mn6TFWZ5Z2jzKNPolOVJPtD04HEhLxFh6YH5lsqWHQQ1dVBCjFW2qUJo+8Xq3BAUeputenci27Qo6u9FGpC+8dV6pUODAZDQkKCwdAFRNz+s2wMiYwbQkwi7oWVBCvOHUep9yQkTkfMIsIv+/HygKVigaPoYuMFX+InGEQXJIS4kjRBN/b5JZutAaHcxDhQ3gVD7AWrU0a9TpgPO5OqnMUOciWJA9O8jh+IYwwmAhE39gnMrwFpchByQXCjn/kvCOf1ROil7z4LgnWuVZiQ8UpFh/gTgYs3tlvzFj4AiVbYN7oSoaDL20VaQAou6drE9UpcCCUWruyeL+ZbM3UL8Yw+YrHD4n2ozgdY9X3n05g3UnHCC6R0Xvv9pfaj/ImFoN3zqbQcJOlJkugpofWfafnoSGIp4rIvg5N5iXn+0aIS7vUQ/zBfFtMyFyPJogajXOpHrIQvYprNJf0JiEkAJu8TQqwF7VnE5mTaQyaX5PvRwUQkbLeEpH1UhqRw9ZHrP3ElInf3SOkEABmJWWhfaVG9iciHywulzNWAjY6kuiSV9wklFOELpeWHAsINZ2T3+d1JcXHrLmkVITcRGMJ8hsDehCZ8rozSkINYCKTmn8QRQn8AuQElwYtYCj4vyieG6gjdy51y6kMZYkUXmmj58kP9CcOHL7PlaKElEdEFR5031wPjCNvd2fKgOKHqF6CP1AeI7j1k+PA/aSfDdsiDjESBgDm8SJIiaCuCsgH6a7xAkuLmBASFA67zzAMuanEDdAoUHvX06dNgncldLQYU763Ex6hLkebPz7TaCfIHtOyt0kMtCpRROyAc1R8GXvy1Q1Qc/htmYNQFtyHqXEH1N2eD9ioH3NyM4gHO/VSJ2IKTC7ixqgZ8m4bjDVBMTb/waFx/IwfgNUCFK1NwHACgvZoBN5EDMgGAzRJWZSyz/3ADkjfwGo1V7PYwnPoc8MovZ2Dll18cjRzgAUnsDy5hYE24NwwpPyRrNJNuOcOSZxtx7MCk2kG6JQzfRyM5Qooix2lmsjxH9qdqIEX5TTRrGR6OQcoEZlwRSp/5BC/GjEYdI+whVfltYgfX0sXgH0CgiKh/fB3D7ck4thoQqHbS2kFGP2YyUi6w0OyUpW1rGG73x3HgwIJ98AGhU0cZ/Rhkf2oNsNLGYsC2YwwvkAMcQaTZ6TQfjzK8QfazcSDCdTiRajXD++cjUOzsgaKG3tz/uZLhHq4/PT9QVTt3NtmB1QwxI3EDnIChzeNzvLMrGd7fmoriCEyVH/P9Qyx3cP2KAJITDq9iuD8SxREkdT/C6j+Yjup3A0nOTQ8zPJiIyds6gaQCDY8wvJk4HcHOGyS1XbqC4f50jNL2IMWmwlKGd3cmItjmknn92VcwvL2F6ZeqKX37bszbv98HwU5mdfNlncfw4FYf3kSpg887aqQ3T1lW/u2dPnLk8/nKLmMoW9nDVjZfyomTzjdl1BtWcAYA+zylpGY4ONYEOc5u2evMs5a1QoHU+9I4ZXKwpcU98tgDDufc1s0re9YGdZYta5A1u5dbvlpgReOdp6JHNgc7fpCtnUO20ply5UfG/wEFXaai/lOVTwAAAABJRU5ErkJggg==\" width=\"48\"/>,\n",
       " <img alt=\"꽃\" height=\"50\" src=\"data:image/png;base64,iVBORw0KGgoAAAANSUhEUgAAAF4AAABkCAMAAAA47XeXAAAAgVBMVEUAAADN5PdGm99Gm99Gm99Gm99Gm95Gm99Gm99Gm99Gm99Gm99Gm99Gm99Gm99Gm99Gm99Gm99Gm99Gm99Gm99Gm99Gm99Gmt9Gm99Gm99Gm99Gm95Gm99Gm99Gm95Gm99Hm99Gm99Gm9/////3+/5cp+LO5PfR5/fO5fdcp+P7/f/zv5GhAAAAInRSTlMA/v7vH9u5qJNgGwb6l8a9uqF9WFUyLxYMCtbVmLCwe4OCj8gzEgAAA0NJREFUaN7NmmFz4iAQhkkwMTHGWrWtWvWuq8mF+/8/8Ey2nb0OhSwQZnw+MHQ7pbjAy2s2gsuiLPJMLpcyy4tyISZltnmHbxw3MzEVr/MUNNL5q5iCt2ccXCN9fhPB7CQYkTsRRlWDlboSAexzGCHfC28OKxhldfDOzBMwePLNTw0sauHFFphshQcLCUwkaQRfXYBPSkrEUBdv3jezcXXhw1ciUhc+fCUidQlH7qzqEk5d2dQlnHxvU5dwVgdXdSGclaiGyamt6hLO1qIu4ZASzcFE092SBprk1jagulvXAAw/qb5N7m176xQYmOPoLymYaK/X65/PNhlagE6LGUhfRM8FjNzuf/73//bHmInzoJEpjMyeWpp9RzGz/PT6+QvMNO2Q+67PPeYZY5h7jDVg5OM+/BGikd13JfDAj/Ad1WLMyEyUwKPT00ypN1GKAljQJtFiFgqRe86eYhbWIvPPPR5d+9pKiIgUwKNJdHXBvW9jyRye1EWLWYfnJcd141Byspizz7gbUyWDuqiW0v15D9g3ZgF86JwyKUgUHJaATUmS5rsEdkkTZLjZS8Alw+skFr8Nl6H6uosShaKOp3Zo+/jgFTDe+wcSfv0yFGfQaLX7tDO0reXOPRuMCG4Q11Y3IiYblWgzS7R+h31qdRtlGB7zikeUckz+AB3a8FuMqD7Cd2nhUHLOEIkLubQIkEuLxIdwEwUy3HyXxsbgPMJcGuGox+TSIugxuTQ+KHIaAS5N92eIIuMT5tJoPfHy5q9yKoXLelLuKRri0mjMQdhwTPw6Sv8pzKXhFyhNilEwkSCXRrnAnaPnJdyl0UrqXircpeHVglnv+62K4NJo3lFcGmWd79KO7OQoXAE8XNO6tIQGxj7fpfHTwk8RubQLWEGvgTNGKzj01fixunCMCCYcvSSlaFwUyKVx86J3bczpUR3zimq1LqdosAUbJF54ar+uk5Gju436mPTk8ZAXFdO93HRYTesUVgf3B+y0XdxLfdVputmfKp/iBtNjyl3c0kzUwtJIWewIPvAL9LOyWLsV9WAps3VRzh6hJBm3oOqsRKfHLGYzS/GP+iLBuBKdqkd+iWPkFZTHf4Em4us/uhI5qss/6zK5u8+AXpwAAAAASUVORK5CYII=\" width=\"47\"/>]"
      ]
     },
     "execution_count": 4,
     "metadata": {},
     "output_type": "execute_result"
    }
   ],
   "source": [
    "html.select('img')"
   ]
  },
  {
   "cell_type": "markdown",
   "id": "5a9c467a",
   "metadata": {},
   "source": [
    "#### 웹 페이지의 구성\n",
    "> **HTML(Hyper Text Markup Language)**  \n",
    "www 를 구성하는데 사용하는 국제표준 언어로서 컨텐츠와 레이아웃을 담고 있다\n",
    "\n",
    "> **<태그>** 내용 **</태그>**  \n",
    "<tag이름 class=\"class이름1 class이름2\" id=\"주민번호\" href=\"주소\"></tag이름>\n",
    "\n",
    "> 형태나 속성을 묘사하기 위한 구조적 언어 : HTML, CSS (계층이 있음)  \n",
    "웹의 작동 및 제어를 위한 프로그래밍 언어 :  Js"
   ]
  },
  {
   "cell_type": "markdown",
   "id": "930701fd",
   "metadata": {},
   "source": [
    "#### 셀렉터\n",
    "> 용도 : html에서 내가 원하는 내용을 찾아내기 위해서  \n",
    "<span class=\"news\" id=\"1234\">비비고 왕교자</span>\n",
    "\n",
    ">> 단일 셀렉터  \n",
    "html.select('span')  \n",
    "tag : span  \n",
    "class(별명, 그룹명) : .news  \n",
    "id(고유값) : #1234\n",
    "\n",
    ">> 클래스 포함 셀렉터\n",
    "html.select('span.news')\n",
    "\n",
    ">> id 포함 셀렉터\n",
    "id(고유값) : #1234\n",
    "html.select('span#1234')"
   ]
  },
  {
   "cell_type": "markdown",
   "id": "469f83f5",
   "metadata": {
    "ExecuteTime": {
     "end_time": "2021-09-28T08:31:19.977115Z",
     "start_time": "2021-09-28T08:31:19.962122Z"
    }
   },
   "source": [
    "#### 복합 셀렉터\n",
    "    1. 조합 셀렉터\n",
    "    <span>1</span>\n",
    "    <span class=\"txt\">2</span>\n",
    "    <em class=\"txt\">3</em>\n",
    "    \n",
    "    태그 이름이 span이고 클래스 이름은 txt인 라인을 찾고 싶다. : span.txt \n",
    "    li 태그 중에서 id가 name 인 라인을 찾고\\ 싶다. : li#name\n",
    "\n",
    "    2. 경로 셀렉터\n",
    "    <ul>\n",
    "        <li><span>이걸 찾으려면?</span></li>\n",
    "    </ul>\n",
    "    <span>이건 아님</span>\n",
    "\n",
    "    ul 태그안 li 태그 안 span 라인을 찾는다\n",
    "    ul > li > span 혹은 ul li span"
   ]
  },
  {
   "cell_type": "code",
   "execution_count": 6,
   "id": "c083d112",
   "metadata": {
    "ExecuteTime": {
     "end_time": "2021-09-28T08:31:51.078989Z",
     "start_time": "2021-09-28T08:31:50.690039Z"
    }
   },
   "outputs": [],
   "source": [
    "url = 'https://search.daum.net/search?nil_suggest=btn&w=tot&DA=SBC&q=%EC%8A%AC%EC%9D%98%EC%83%9D'\n",
    "\n",
    "response = requests.get(url)\n",
    "\n",
    "html = BeautifulSoup(response.text, 'html.parser')"
   ]
  },
  {
   "cell_type": "code",
   "execution_count": 9,
   "id": "a55e4508",
   "metadata": {
    "ExecuteTime": {
     "end_time": "2021-09-28T08:32:18.802691Z",
     "start_time": "2021-09-28T08:32:18.781746Z"
    }
   },
   "outputs": [
    {
     "data": {
      "text/plain": [
       "'누군가는 태어나고 누군가는 삶을 끝내는, 인생의 축소판이라 불리는 병원에서 평범한 듯 특별한 하루하루를 살아가는 사람들과 눈빛만 봐도 알 수 있는 20년지기 친구들의 케미스토리를 담은 드라마'"
      ]
     },
     "execution_count": 9,
     "metadata": {},
     "output_type": "execute_result"
    }
   ],
   "source": [
    "html.select('dd.cont')[0].text"
   ]
  },
  {
   "cell_type": "code",
   "execution_count": 10,
   "id": "bba5a71b",
   "metadata": {
    "ExecuteTime": {
     "end_time": "2021-09-28T08:32:19.963229Z",
     "start_time": "2021-09-28T08:32:19.936953Z"
    }
   },
   "outputs": [],
   "source": [
    "news = html.select('a.tit_main')[:4]"
   ]
  },
  {
   "cell_type": "code",
   "execution_count": 11,
   "id": "652f5367",
   "metadata": {
    "ExecuteTime": {
     "end_time": "2021-09-28T08:32:20.478756Z",
     "start_time": "2021-09-28T08:32:20.467787Z"
    }
   },
   "outputs": [
    {
     "name": "stdout",
     "output_type": "stream",
     "text": [
      " [가리사니] '오징어 게임'과 '슬의생' 되짚어 보기 \n",
      " '슬의생' 이익준 실제 모델 \"어린이날 이식 사연, 100% 실화\" \n",
      " \"실제 케미도 최고\".. '슬의생' 조정석♥전미도→김대명♥안은진, 두근두근 커플토크[종합] \n",
      " 500대 1 뚫었다..'슬의생2' 이세희, 주말 안방 신데렐라 될까 [TEN피플] \n"
     ]
    }
   ],
   "source": [
    "for i in news:\n",
    "    print(i.text)"
   ]
  },
  {
   "cell_type": "code",
   "execution_count": 12,
   "id": "d2dc611d",
   "metadata": {
    "ExecuteTime": {
     "end_time": "2021-09-28T08:32:44.989344Z",
     "start_time": "2021-09-28T08:32:37.833781Z"
    },
    "scrolled": true
   },
   "outputs": [
    {
     "name": "stdout",
     "output_type": "stream",
     "text": [
      "도깨비 크롤링 중입니다.\n",
      "불멸의 삶을 끝내기 위해 인간 신부가 필요한 도깨비, 그와 기묘한 동거를 시작한 기억상실증 저승사자. 그런 그들 앞에 '도깨비 신부'라 주장하는 '죽었어야 할 운명'의 소녀가 나타나며 벌어지는 신비로운 낭만 설화 \n",
      "호텔델루나 크롤링 중입니다.\n",
      "엘리트 호텔리어가 운명적인 사건으로 호텔 델루나의 지배인을 맡게 되면서 달처럼 고고하고 아름답지만 괴팍한 사장과 함께 델루나를 운영하며 생기는 특별한 이야기를 그린 드라마\n",
      "오징어게임 크롤링 중입니다.\n",
      "456억 원의 상금이 걸린 의문의 서바이벌에 참가한 사람들이 최후의 승자가 되기 위해 목숨을 걸고 극한의 게임에 도전하는 이야기를 담은 넷플릭스 시리즈\n",
      "크롤링 종료\n"
     ]
    }
   ],
   "source": [
    "import time\n",
    "\n",
    "dr_nm =['도깨비', '호텔델루나', '오징어게임']\n",
    "# 다음 뉴스 페이지\n",
    "# name = input('검색어를 입력하세요 :')\n",
    "for name in dr_nm:\n",
    "    # 순환은 빠름\n",
    "    print(f'{name} 크롤링 중입니다.')\n",
    "    url = f'https://search.daum.net/search?nil_suggest=btn&w=tot&DA=SBC&q={name}'\n",
    "    \n",
    "    # requests로 url정보요청\n",
    "    # 초당 40~50회 요청\n",
    "    # 다음에서 기계가 요청하는것으로 알고 막힘\n",
    "    \n",
    "    seed = np.random.randint(100)    # 난수로 시드생성\n",
    "    np.random.seed(seed)             # 시드생성   \n",
    "    a = np.random.randint(5)         # 시드에서 난수 생성\n",
    "    time.sleep(a)\n",
    "    \n",
    "    response = uest = requests.get(url)\n",
    "\n",
    "    html = BeautifulSoup(response.text, 'html.parser')\n",
    "\n",
    "    print(html.select('dd.cont')[0].text)\n",
    "    \n",
    "print('크롤링 종료')"
   ]
  },
  {
   "cell_type": "markdown",
   "id": "0c2af01a",
   "metadata": {},
   "source": [
    "### 다음에서 로또번호 가져오기"
   ]
  },
  {
   "cell_type": "code",
   "execution_count": 14,
   "id": "372dc5fb",
   "metadata": {
    "ExecuteTime": {
     "end_time": "2021-09-28T08:34:23.052017Z",
     "start_time": "2021-09-28T08:34:23.038615Z"
    }
   },
   "outputs": [],
   "source": [
    "# url 설정\n",
    "url = 'https://search.daum.net/search?w=tot&DA=LOT&rtmaxcoll=LOT&&q=1회차%20로또'"
   ]
  },
  {
   "cell_type": "code",
   "execution_count": 15,
   "id": "4d296394",
   "metadata": {
    "ExecuteTime": {
     "end_time": "2021-09-28T08:34:28.742606Z",
     "start_time": "2021-09-28T08:34:28.456014Z"
    }
   },
   "outputs": [],
   "source": [
    "# requests로 데이터 요청하기\n",
    "seed = np.random.randint(100)    # 난수로 시드생성\n",
    "np.random.seed(seed)             # 시드생성   \n",
    "a = np.random.randint(5)         # 시드에서 난수 생성\n",
    "time.sleep(a)\n",
    "    \n",
    "response =  requests.get(url)"
   ]
  },
  {
   "cell_type": "code",
   "execution_count": 16,
   "id": "e52a2f3a",
   "metadata": {
    "ExecuteTime": {
     "end_time": "2021-09-28T08:34:34.762652Z",
     "start_time": "2021-09-28T08:34:34.575312Z"
    }
   },
   "outputs": [],
   "source": [
    "# html로 변환\n",
    "html = BeautifulSoup(response.text, 'html.parser')"
   ]
  },
  {
   "cell_type": "code",
   "execution_count": 17,
   "id": "13851238",
   "metadata": {
    "ExecuteTime": {
     "end_time": "2021-09-28T08:34:40.175746Z",
     "start_time": "2021-09-28T08:34:40.136877Z"
    }
   },
   "outputs": [
    {
     "data": {
      "text/plain": [
       "' 10 23 29 33 37 40 보너스 16 '"
      ]
     },
     "execution_count": 17,
     "metadata": {},
     "output_type": "execute_result"
    }
   ],
   "source": [
    "# 데이터 선별\n",
    "html.select('div.lottonum')[0].text"
   ]
  },
  {
   "cell_type": "code",
   "execution_count": 19,
   "id": "47e1f1c0",
   "metadata": {
    "ExecuteTime": {
     "end_time": "2021-09-28T08:35:28.381869Z",
     "start_time": "2021-09-28T08:34:57.262081Z"
    }
   },
   "outputs": [],
   "source": [
    "num_list = [i for i in range(1,11)]\n",
    "\n",
    "lotto_list = []\n",
    "\n",
    "for num in num_list:\n",
    "    url = f'https://search.daum.net/search?w=tot&DA=LOT&rtmaxcoll=LOT&&q={num}회차%20로또'\n",
    "    \n",
    "    seed = np.random.randint(100)    # 난수로 시드생성\n",
    "    np.random.seed(seed)             # 시드생성   \n",
    "    a = np.random.randint(5)         # 시드에서 난수 생성\n",
    "    time.sleep(a)\n",
    "    \n",
    "    response =  requests.get(url)\n",
    "    html = BeautifulSoup(response.text, 'html.parser')\n",
    "    a = html.select('div.lottonum')[0].text, f'{num}회차'\n",
    "    lotto_list.append(a)"
   ]
  },
  {
   "cell_type": "code",
   "execution_count": 20,
   "id": "48e253d8",
   "metadata": {
    "ExecuteTime": {
     "end_time": "2021-09-28T08:36:54.215414Z",
     "start_time": "2021-09-28T08:36:54.197937Z"
    }
   },
   "outputs": [
    {
     "data": {
      "text/plain": [
       "[(' 10 23 29 33 37 40 보너스 16 ', '1회차'),\n",
       " (' 9 13 21 25 32 42 보너스 2 ', '2회차'),\n",
       " (' 11 16 19 21 27 31 보너스 30 ', '3회차'),\n",
       " (' 14 27 30 31 40 42 보너스 2 ', '4회차'),\n",
       " (' 16 24 29 40 41 42 보너스 3 ', '5회차'),\n",
       " (' 14 15 26 27 40 42 보너스 34 ', '6회차'),\n",
       " (' 2 9 16 25 26 40 보너스 42 ', '7회차'),\n",
       " (' 8 19 25 34 37 39 보너스 9 ', '8회차'),\n",
       " (' 2 4 16 17 36 39 보너스 14 ', '9회차'),\n",
       " (' 9 25 30 33 41 44 보너스 6 ', '10회차')]"
      ]
     },
     "execution_count": 20,
     "metadata": {},
     "output_type": "execute_result"
    }
   ],
   "source": [
    "lotto_list"
   ]
  },
  {
   "cell_type": "code",
   "execution_count": null,
   "id": "dcdbff12",
   "metadata": {},
   "outputs": [],
   "source": [
    "requests.codes.ok\n",
    "# 100 우리 이런정보 내주는거야\n",
    "# 200 성공\n",
    "# 300 우리 이 사이트 이리루 이사했어 일루가\n",
    "# 400 유저가 요청을 잘못한경우\n",
    "# 500 서버 문제"
   ]
  },
  {
   "cell_type": "markdown",
   "id": "dbf49e94",
   "metadata": {
    "ExecuteTime": {
     "end_time": "2021-09-28T08:38:00.658018Z",
     "start_time": "2021-09-28T08:38:00.653031Z"
    }
   },
   "source": [
    "### **네이버 키워드로 검색한 결과를 크롤링**"
   ]
  },
  {
   "cell_type": "code",
   "execution_count": 22,
   "id": "2787d254",
   "metadata": {
    "ExecuteTime": {
     "end_time": "2021-09-28T08:38:22.366153Z",
     "start_time": "2021-09-28T08:38:16.802547Z"
    }
   },
   "outputs": [
    {
     "name": "stdout",
     "output_type": "stream",
     "text": [
      "키워드를 입력하세요 : 세탁기\n",
      "LG 트윈워시 드럼세탁기 분해 청소 비용, 가격 및 후기 https://blog.naver.com/aejiniyam/222473577816\n",
      "설치까지 완벽한 위닉스 세탁기건조기 환영해 https://blog.naver.com/dngusghk/222470214924\n",
      "세탁기세제 살결에도 해가없어 https://cafe.naver.com/newkidsbattle/403868\n",
      "삼성 세탁기(그랑데 AI)실망 https://cafe.naver.com/jookjeonmom/1253654\n",
      "매달 세탁기청소하기 https://blog.naver.com/heaven1507/222519531406\n",
      "이사하시나요? 세탁기 냉장고등 가전이 필요하신가요? https://adcr.naver.com/adcr?x=1ZV1IwIO37vWnFhLnBFCwf///w==ky7xaGfrIWC728TPVFTKdKhDikgpThWNqeRMaNbqv71l+Oda0dCJmkRx+6qxiY9RjinAONievOF18veWC3V9KHyn9HSqsIfIQdFidFIyYWY5KHCD8ONvultTKSHw8Gc92fVeEXDC7gaz4OLP8DnCp40krCuVBxsMRADhjXLUoxx/p47aLsQ8vQV7JJ10hH4wclLq0PSFyLAVBdLV6VLKzJcGWC+C4Ta02YMr9YaJnXw6OkWXkfFZIehDfTjaZV5/8BWXVbzeqFD8o9RVuC5q7jJyreREEiH3E66WjovXrjoLv53otd8mA2MyA251SdLK+06xxYZkeOMUukugcBEAC70PIUPkzI4Hq0Rn2mkIt9O/mj9irS3FRFyKSisUtgf6rtAkm2iH59zPkdOQxG51d/ClZHtYY2ImBN+FdrsS/7bmRWvAGjpy9VJlEjYZ28zLNSetrtBG9STnbfaRx9ENPVINQ3fkZpoGcUIqwX/XCVEXj6WVbswvp8QWcTp9cCEFQ9jFxWvtue7B3Wd0vOrX055naxMl6dfkATfUSQYWAG9BXdZkjtTM93OqSLn09tX28ovOjEAHJY5I4Yf7Rt6/Zug==\n",
      "세탁기렌탈 사는거보다 훨씬 싸게 장만한 후기! https://adcr.naver.com/adcr?x=YRiKN2+fraqUbqYS7tNUCP///w==kPi9i5ZCzPaippgSJbN55x9LFHz4MkA7//yqSSgI5UJLYS84pyk4mC9PjcwFBbr86Ag3BOl2uHNC5ySVFy+IuxF605A0cV7hC8Ez995lq5SNl7UXY+S0jIfjj+zJuIgo0KmiMfetIrbaiefoGYRHVK7SH9d1JaLntEES2YlewAAI4zyzPPuPFVsZDdobNjvWXdAo5v0KtXIE0rFNjRTPnV0BRqpO4yBrfwo59eqTN6gqWcnVnfzw3gYl4zan87ZNfwm0W9tBZTIFmZkqaIpXjaN22O7/YF8u/yXDyA+lOpOfK1OKWIAVNDa9VaItsKKLCqfnli82aJBElHg9bNTW2TwW45oSZoX1ypVKC/i1CNV5jtP7NNUdy+blhUbTPf+/AfyCSBZ0ofD4JXiXRYivKGwbJsGrYSmBtfOLid1WiV/NHpVGsnCBeMeI6JpxMNAsE8QIWkXIEYM5bwbM3TEAmHMfXzNnUyD1b27SU2d6Dwm/EJSgYvYlEKBhSDEhfwdDUOxUt6R0YNKM/s8/NN1ZwoeRpGdR3Rbu9RCd4RKcoh+nvW4Hl1JetLzDwOBChWp2Iiuli4fMd76aUJM3ZhP2bdA==\n",
      "세탁기 이물질 세탁기 2년 안됬는데 최근들어 계속 먼지랑 같이 이물질이 나와요 ㅠㅠ 먼지망도 청소 해보고 무세제 통세척도 해봤는데 먼지망에도 쌓이고 흰옷에도 계속 묻어나와요 어떻게해야될까요?? https://kin.naver.com/qna/detail.naver?d1id=8&dirId=80903&docId=398932087&qb=7IS47YOB6riw&enc=utf8§ion=kin.ext&rank=1&search_sort=0&spq=0\n",
      "... 세탁기 내부에 오염물질이 단단하게 굳어있거나 이미 곰팡이가... 이런 경우에는 세탁기 내부를 완전히 분해하여 고압으로 세척하는... 전문 장비 없이 세탁기를 직접 분해할 경우 파손 및 고장의 위험이... 세탁기 클리닝을 통해 1~2년 주기로 관리하는 것이 좋으며, 특히 습한 날씨에는... https://kin.naver.com/qna/detail.naver?d1id=8&dirId=80903&docId=398932087&qb=7IS47YOB6riw&enc=utf8§ion=kin.ext&rank=1&search_sort=0&spq=0\n",
      "세탁기 설치 가능한가요? 온수 없고 냉수만 나오게 되있는 구존데 여기 말고는 세탁기를 설치할 수 있는 곳이 없는데 여기 설치해도 되나요?? 저 벽에 까만게 혹시 배수관..? 오수관..? 그 세탁기 물 배수하도록 뭐 꽂는 그런건가요? 오수관 우수관 구분해야한다는데 그런거 구분할줄 몰라서요... 제발 답좀 해주세요ㅠㅠㅠ https://kin.naver.com/qna/detail.naver?d1id=5&dirId=50104&docId=396225411&qb=7IS47YOB6riw&enc=utf8§ion=kin.ext&rank=2&search_sort=0&spq=0\n",
      "... 그곳이 세탁기를 설치하게끔 만들어진 공간인 것 같습니다. 배관도 우수관이 맞고요. 이전에도 그 공간에서 세탁기를 사용했었지 않을까 싶은데요. 세탁기 배수 호프는 노란색... 결론은 말씀하신 공간에 세탁기 설치하여 사용하셔도 무방하니 잘 사용하시길 바라겠습니다. 답변 참고 바랍니다. https://kin.naver.com/qna/detail.naver?d1id=5&dirId=50104&docId=396225411&qb=7IS47YOB6riw&enc=utf8§ion=kin.ext&rank=2&search_sort=0&spq=0\n",
      "lg트롬 세탁기 도어 세타기 도어 빨래넣을려면 문열잖아요~빨랫감넣구 문닫구 세탁기 돌리는데 물이 차오르면서... 기사불러야하는지 아님 수리비용 많이 나오면 세탁기를 바꾸는게 나을까요? 세탁기는2014년식이구... 겨울에 세탁기바꿀려고는했는데 차라리 비용많이 나오면 바꿀려구요 정확한 답변만부탁드려요...  https://kin.naver.com/qna/detail.naver?d1id=8&dirId=8110103&docId=400709058&qb=7IS47YOB6riw&enc=utf8§ion=kin.ext&rank=3&search_sort=0&spq=0\n",
      "... 세탁기 도어 틈새로 누수 및 점검 코드가 표시된다는 문의 내용 보았습니다. 고무패킹과 도어 사이에 머리카락이나 이물이 낀 경우 누수... 세탁기의 전원 코드를 콘센트에서 분리, 5분 후 다시 체결하여 동작시에도 동일하게 점검 코드가 표시된다면 내부 부품 점검이... https://kin.naver.com/qna/detail.naver?d1id=8&dirId=8110103&docId=400709058&qb=7IS47YOB6riw&enc=utf8§ion=kin.ext&rank=3&search_sort=0&spq=0\n"
     ]
    }
   ],
   "source": [
    "key_word = input('키워드를 입력하세요 : ')\n",
    "url = f'https://search.naver.com/search.naver?where=nexearch&sm=top_hty&fbm=1&ie=utf8&query={key_word}'\n",
    "response =  requests.get(url)\n",
    "html = BeautifulSoup(response.text, 'html.parser')\n",
    "\n",
    "\n",
    "for name in html.select('a.api_txt_lines'):\n",
    "    print(name.text, name.attrs['href'])\n",
    "    \n",
    "    temp_url = name.attrs[\"href\"]"
   ]
  },
  {
   "cell_type": "markdown",
   "id": "1056f1b8",
   "metadata": {},
   "source": [
    "### **관심있는 개별종목의 시가총액, 외국인 소진률, PER, PBR**"
   ]
  },
  {
   "cell_type": "code",
   "execution_count": 23,
   "id": "4a0a28bb",
   "metadata": {
    "ExecuteTime": {
     "end_time": "2021-09-28T08:39:06.172901Z",
     "start_time": "2021-09-28T08:39:05.876940Z"
    }
   },
   "outputs": [
    {
     "name": "stdout",
     "output_type": "stream",
     "text": [
      "시가총액 :  5,202\n",
      "외국인 소진률 :  11.50%\n",
      "PER :  3.68\n",
      "PBR :  0.68\n"
     ]
    }
   ],
   "source": [
    "code = '002020'\n",
    "\n",
    "url = f'https://finance.naver.com/item/main.nhn?code={code}'\n",
    "\n",
    "# requests 요청\n",
    "response = requests.get(url)\n",
    "\n",
    "# html 변환\n",
    "\n",
    "html = BeautifulSoup(response.text, 'html.parser')\n",
    "\n",
    "# 시가총액, 외국인 소진률, PER, PBR\n",
    "print('시가총액 : ', html.select('em#_market_sum')[0].text.strip())\n",
    "print('외국인 소진률 : ' , html.select('div.gray em')[2].text)\n",
    "print('PER : ' , html.select('em#_per')[0].text)\n",
    "print('PBR : ' , html.select('em#_pbr')[0].text)"
   ]
  },
  {
   "cell_type": "code",
   "execution_count": 24,
   "id": "d953d3d7",
   "metadata": {
    "ExecuteTime": {
     "end_time": "2021-09-28T08:39:19.506640Z",
     "start_time": "2021-09-28T08:39:13.673434Z"
    }
   },
   "outputs": [
    {
     "name": "stdout",
     "output_type": "stream",
     "text": [
      "005930 크롤링 중입니다.\n",
      "002020 크롤링 중입니다.\n",
      "323410 크롤링 중입니다.\n",
      "크롤링 종료\n"
     ]
    }
   ],
   "source": [
    "import time\n",
    "\n",
    "stock_list = ['005930', '002020', '323410']\n",
    "total_data = []\n",
    "\n",
    "for code in stock_list:\n",
    "    time.sleep(np.random.randint(5))\n",
    "    url = f'https://finance.naver.com/item/main.nhn?code={code}'\n",
    "    print(f'{code} 크롤링 중입니다.')\n",
    "    # requests 요청\n",
    "    response = requests.get(url)\n",
    "\n",
    "    # html 변환\n",
    "\n",
    "    html = BeautifulSoup(response.text, 'html.parser')\n",
    "    stock_data = []\n",
    "    stock_data.append(html.select('em#_market_sum')[0].text.strip().replace('\\n', '').replace('\\t', ''))\n",
    "    stock_data.append(html.select('div.gray em')[2].text)\n",
    "    stock_data.append(html.select('em#_per')[0].text)\n",
    "    stock_data.append(html.select('em#_pbr')[0].text)\n",
    "    total_data.append(stock_data)\n",
    "\n",
    "\n",
    "    \n",
    "print('크롤링 종료')"
   ]
  },
  {
   "cell_type": "code",
   "execution_count": 25,
   "id": "a39101c1",
   "metadata": {
    "ExecuteTime": {
     "end_time": "2021-09-28T08:39:20.527833Z",
     "start_time": "2021-09-28T08:39:20.510879Z"
    }
   },
   "outputs": [
    {
     "data": {
      "text/plain": [
       "[['455조4,944', '52.00%', '16.07', '1.89'],\n",
       " ['5,202', '11.50%', '3.68', '0.68'],\n",
       " ['33조5,421', '5.51%', '228.48', '9.95']]"
      ]
     },
     "execution_count": 25,
     "metadata": {},
     "output_type": "execute_result"
    }
   ],
   "source": [
    "total_data"
   ]
  },
  {
   "cell_type": "code",
   "execution_count": 26,
   "id": "0645eeef",
   "metadata": {
    "ExecuteTime": {
     "end_time": "2021-09-28T08:39:27.108825Z",
     "start_time": "2021-09-28T08:39:27.087882Z"
    }
   },
   "outputs": [
    {
     "data": {
      "text/html": [
       "<div>\n",
       "<style scoped>\n",
       "    .dataframe tbody tr th:only-of-type {\n",
       "        vertical-align: middle;\n",
       "    }\n",
       "\n",
       "    .dataframe tbody tr th {\n",
       "        vertical-align: top;\n",
       "    }\n",
       "\n",
       "    .dataframe thead th {\n",
       "        text-align: right;\n",
       "    }\n",
       "</style>\n",
       "<table border=\"1\" class=\"dataframe\">\n",
       "  <thead>\n",
       "    <tr style=\"text-align: right;\">\n",
       "      <th></th>\n",
       "      <th>시가총액</th>\n",
       "      <th>외국인소진률</th>\n",
       "      <th>PER</th>\n",
       "      <th>PBR</th>\n",
       "    </tr>\n",
       "  </thead>\n",
       "  <tbody>\n",
       "    <tr>\n",
       "      <th>삼성전자</th>\n",
       "      <td>455조4,944</td>\n",
       "      <td>52.00%</td>\n",
       "      <td>16.07</td>\n",
       "      <td>1.89</td>\n",
       "    </tr>\n",
       "    <tr>\n",
       "      <th>코오롱</th>\n",
       "      <td>5,202</td>\n",
       "      <td>11.50%</td>\n",
       "      <td>3.68</td>\n",
       "      <td>0.68</td>\n",
       "    </tr>\n",
       "    <tr>\n",
       "      <th>카카오뱅크</th>\n",
       "      <td>33조5,421</td>\n",
       "      <td>5.51%</td>\n",
       "      <td>228.48</td>\n",
       "      <td>9.95</td>\n",
       "    </tr>\n",
       "  </tbody>\n",
       "</table>\n",
       "</div>"
      ],
      "text/plain": [
       "            시가총액  외국인소진률     PER   PBR\n",
       "삼성전자   455조4,944  52.00%   16.07  1.89\n",
       "코오롱        5,202  11.50%    3.68  0.68\n",
       "카카오뱅크   33조5,421   5.51%  228.48  9.95"
      ]
     },
     "execution_count": 26,
     "metadata": {},
     "output_type": "execute_result"
    }
   ],
   "source": [
    "df = pd.DataFrame(total_data,\n",
    "                 index = ['삼성전자', '코오롱', '카카오뱅크'],\n",
    "                 columns = ['시가총액', '외국인소진률', 'PER', 'PBR'])\n",
    "df"
   ]
  },
  {
   "cell_type": "markdown",
   "id": "49247c0b",
   "metadata": {},
   "source": [
    "## **동적페이지 크롤링**\n",
    "> 최근에는 Js로 변경이 되며 일반적인 크롤링이 되지 않는 경우가 많음  \n",
    "동적페이지와 숨겨진 url을 가져오는 방법을 알아봅니다"
   ]
  },
  {
   "cell_type": "markdown",
   "id": "86ea4d42",
   "metadata": {},
   "source": [
    "### 네이버 주식 시세 데이터 크롤링"
   ]
  },
  {
   "cell_type": "code",
   "execution_count": 27,
   "id": "377ffaa4",
   "metadata": {
    "ExecuteTime": {
     "end_time": "2021-09-28T08:46:27.591676Z",
     "start_time": "2021-09-28T08:46:27.505160Z"
    }
   },
   "outputs": [],
   "source": [
    "# 동적페이지의 숨은 URL\n",
    "url = 'https://finance.naver.com/item/sise_day.naver?code=002020&page=1'\n",
    "\n",
    "info = {'referer' : 'https://finance.naver.com/item/sise_day.naver?code=002020&page=2',\n",
    "    'user-agent' : 'Mozilla/5.0 (Windows NT 10.0; Win64; x64) AppleWebKit/537.36 (KHTML, like Gecko) Chrome/93.0.4577.82 Safari/537.36'}\n",
    "\n",
    "response = requests.get(url, headers = info)\n",
    "\n",
    "html = BeautifulSoup(response.text, 'html.parser')"
   ]
  },
  {
   "cell_type": "code",
   "execution_count": 28,
   "id": "198dc846",
   "metadata": {
    "ExecuteTime": {
     "end_time": "2021-09-28T08:46:29.059529Z",
     "start_time": "2021-09-28T08:46:29.039193Z"
    }
   },
   "outputs": [
    {
     "data": {
      "text/plain": [
       "['2021.09.28',\n",
       " '2021.09.27',\n",
       " '2021.09.24',\n",
       " '2021.09.23',\n",
       " '2021.09.17',\n",
       " '2021.09.16',\n",
       " '2021.09.15',\n",
       " '2021.09.14',\n",
       " '2021.09.13',\n",
       " '2021.09.10']"
      ]
     },
     "execution_count": 28,
     "metadata": {},
     "output_type": "execute_result"
    }
   ],
   "source": [
    "# 날짜 인덱스 활용\n",
    "index = [date.text for date in html.select('span.p10')]\n",
    "index"
   ]
  },
  {
   "cell_type": "code",
   "execution_count": 29,
   "id": "660ad305",
   "metadata": {
    "ExecuteTime": {
     "end_time": "2021-09-28T08:46:35.486008Z",
     "start_time": "2021-09-28T08:46:35.476316Z"
    }
   },
   "outputs": [
    {
     "data": {
      "text/plain": [
       "array([['41,200', '150', '41,250', '42,900', '41,150', '278,265'],\n",
       "       ['41,050', '750', '40,250', '41,450', '40,100', '146,508'],\n",
       "       ['40,300', '1,650', '42,500', '42,750', '40,100', '316,511'],\n",
       "       ['41,950', '2,050', '42,700', '43,800', '41,700', '335,625'],\n",
       "       ['44,000', '1,150', '42,500', '46,350', '41,650', '1,094,420'],\n",
       "       ['42,850', '3,000', '40,200', '42,850', '39,400', '514,556'],\n",
       "       ['39,850', '1,450', '41,250', '42,550', '39,350', '491,878'],\n",
       "       ['41,300', '200', '41,100', '42,250', '40,200', '546,760'],\n",
       "       ['41,500', '3,750', '44,850', '45,800', '41,200', '1,164,685'],\n",
       "       ['45,250', '9,350', '36,050', '46,650', '36,050', '3,800,508']],\n",
       "      dtype='<U9')"
      ]
     },
     "execution_count": 29,
     "metadata": {},
     "output_type": "execute_result"
    }
   ],
   "source": [
    "# 가격정보 추출\n",
    "price = np.array([price.text.strip() for price in html.select('span.p11')]).reshape((-1, 6))\n",
    "price"
   ]
  },
  {
   "cell_type": "code",
   "execution_count": 32,
   "id": "f0e385c4",
   "metadata": {
    "ExecuteTime": {
     "end_time": "2021-09-28T08:47:56.264028Z",
     "start_time": "2021-09-28T08:47:56.246970Z"
    }
   },
   "outputs": [
    {
     "data": {
      "text/plain": [
       "array([['2021.09.28', '41,200', '150', '41,250', '42,900', '41,150',\n",
       "        '278,265'],\n",
       "       ['2021.09.27', '41,050', '750', '40,250', '41,450', '40,100',\n",
       "        '146,508'],\n",
       "       ['2021.09.24', '40,300', '1,650', '42,500', '42,750', '40,100',\n",
       "        '316,511'],\n",
       "       ['2021.09.23', '41,950', '2,050', '42,700', '43,800', '41,700',\n",
       "        '335,625'],\n",
       "       ['2021.09.17', '44,000', '1,150', '42,500', '46,350', '41,650',\n",
       "        '1,094,420'],\n",
       "       ['2021.09.16', '42,850', '3,000', '40,200', '42,850', '39,400',\n",
       "        '514,556'],\n",
       "       ['2021.09.15', '39,850', '1,450', '41,250', '42,550', '39,350',\n",
       "        '491,878'],\n",
       "       ['2021.09.14', '41,300', '200', '41,100', '42,250', '40,200',\n",
       "        '546,760'],\n",
       "       ['2021.09.13', '41,500', '3,750', '44,850', '45,800', '41,200',\n",
       "        '1,164,685'],\n",
       "       ['2021.09.10', '45,250', '9,350', '36,050', '46,650', '36,050',\n",
       "        '3,800,508']], dtype='<U10')"
      ]
     },
     "execution_count": 32,
     "metadata": {},
     "output_type": "execute_result"
    }
   ],
   "source": [
    "# 전체 데이터 tah\n",
    "# 날짜는 p10\n",
    "total_data = np.array([item.text.strip() for item in html.select('span.tah')]).reshape((-1, 7))\n",
    "\n",
    "total_data"
   ]
  },
  {
   "cell_type": "code",
   "execution_count": 35,
   "id": "9e1c2040",
   "metadata": {
    "ExecuteTime": {
     "end_time": "2021-09-28T08:49:23.714284Z",
     "start_time": "2021-09-28T08:49:23.693916Z"
    }
   },
   "outputs": [],
   "source": [
    "# 컬럼 정보에 해당하는 데이터 가져오기\n",
    "columns = [col_nm.text for col_nm in html.select('th')]\n",
    "columns = columns[1:]"
   ]
  },
  {
   "cell_type": "code",
   "execution_count": 36,
   "id": "c1673833",
   "metadata": {
    "ExecuteTime": {
     "end_time": "2021-09-28T08:49:24.385473Z",
     "start_time": "2021-09-28T08:49:24.362539Z"
    }
   },
   "outputs": [
    {
     "data": {
      "text/html": [
       "<div>\n",
       "<style scoped>\n",
       "    .dataframe tbody tr th:only-of-type {\n",
       "        vertical-align: middle;\n",
       "    }\n",
       "\n",
       "    .dataframe tbody tr th {\n",
       "        vertical-align: top;\n",
       "    }\n",
       "\n",
       "    .dataframe thead th {\n",
       "        text-align: right;\n",
       "    }\n",
       "</style>\n",
       "<table border=\"1\" class=\"dataframe\">\n",
       "  <thead>\n",
       "    <tr style=\"text-align: right;\">\n",
       "      <th></th>\n",
       "      <th>종가</th>\n",
       "      <th>전일비</th>\n",
       "      <th>시가</th>\n",
       "      <th>고가</th>\n",
       "      <th>저가</th>\n",
       "      <th>거래량</th>\n",
       "    </tr>\n",
       "  </thead>\n",
       "  <tbody>\n",
       "    <tr>\n",
       "      <th>2021.09.28</th>\n",
       "      <td>41,200</td>\n",
       "      <td>150</td>\n",
       "      <td>41,250</td>\n",
       "      <td>42,900</td>\n",
       "      <td>41,150</td>\n",
       "      <td>278,265</td>\n",
       "    </tr>\n",
       "    <tr>\n",
       "      <th>2021.09.27</th>\n",
       "      <td>41,050</td>\n",
       "      <td>750</td>\n",
       "      <td>40,250</td>\n",
       "      <td>41,450</td>\n",
       "      <td>40,100</td>\n",
       "      <td>146,508</td>\n",
       "    </tr>\n",
       "    <tr>\n",
       "      <th>2021.09.24</th>\n",
       "      <td>40,300</td>\n",
       "      <td>1,650</td>\n",
       "      <td>42,500</td>\n",
       "      <td>42,750</td>\n",
       "      <td>40,100</td>\n",
       "      <td>316,511</td>\n",
       "    </tr>\n",
       "    <tr>\n",
       "      <th>2021.09.23</th>\n",
       "      <td>41,950</td>\n",
       "      <td>2,050</td>\n",
       "      <td>42,700</td>\n",
       "      <td>43,800</td>\n",
       "      <td>41,700</td>\n",
       "      <td>335,625</td>\n",
       "    </tr>\n",
       "    <tr>\n",
       "      <th>2021.09.17</th>\n",
       "      <td>44,000</td>\n",
       "      <td>1,150</td>\n",
       "      <td>42,500</td>\n",
       "      <td>46,350</td>\n",
       "      <td>41,650</td>\n",
       "      <td>1,094,420</td>\n",
       "    </tr>\n",
       "    <tr>\n",
       "      <th>2021.09.16</th>\n",
       "      <td>42,850</td>\n",
       "      <td>3,000</td>\n",
       "      <td>40,200</td>\n",
       "      <td>42,850</td>\n",
       "      <td>39,400</td>\n",
       "      <td>514,556</td>\n",
       "    </tr>\n",
       "    <tr>\n",
       "      <th>2021.09.15</th>\n",
       "      <td>39,850</td>\n",
       "      <td>1,450</td>\n",
       "      <td>41,250</td>\n",
       "      <td>42,550</td>\n",
       "      <td>39,350</td>\n",
       "      <td>491,878</td>\n",
       "    </tr>\n",
       "    <tr>\n",
       "      <th>2021.09.14</th>\n",
       "      <td>41,300</td>\n",
       "      <td>200</td>\n",
       "      <td>41,100</td>\n",
       "      <td>42,250</td>\n",
       "      <td>40,200</td>\n",
       "      <td>546,760</td>\n",
       "    </tr>\n",
       "    <tr>\n",
       "      <th>2021.09.13</th>\n",
       "      <td>41,500</td>\n",
       "      <td>3,750</td>\n",
       "      <td>44,850</td>\n",
       "      <td>45,800</td>\n",
       "      <td>41,200</td>\n",
       "      <td>1,164,685</td>\n",
       "    </tr>\n",
       "    <tr>\n",
       "      <th>2021.09.10</th>\n",
       "      <td>45,250</td>\n",
       "      <td>9,350</td>\n",
       "      <td>36,050</td>\n",
       "      <td>46,650</td>\n",
       "      <td>36,050</td>\n",
       "      <td>3,800,508</td>\n",
       "    </tr>\n",
       "  </tbody>\n",
       "</table>\n",
       "</div>"
      ],
      "text/plain": [
       "                종가    전일비      시가      고가      저가        거래량\n",
       "2021.09.28  41,200    150  41,250  42,900  41,150    278,265\n",
       "2021.09.27  41,050    750  40,250  41,450  40,100    146,508\n",
       "2021.09.24  40,300  1,650  42,500  42,750  40,100    316,511\n",
       "2021.09.23  41,950  2,050  42,700  43,800  41,700    335,625\n",
       "2021.09.17  44,000  1,150  42,500  46,350  41,650  1,094,420\n",
       "2021.09.16  42,850  3,000  40,200  42,850  39,400    514,556\n",
       "2021.09.15  39,850  1,450  41,250  42,550  39,350    491,878\n",
       "2021.09.14  41,300    200  41,100  42,250  40,200    546,760\n",
       "2021.09.13  41,500  3,750  44,850  45,800  41,200  1,164,685\n",
       "2021.09.10  45,250  9,350  36,050  46,650  36,050  3,800,508"
      ]
     },
     "execution_count": 36,
     "metadata": {},
     "output_type": "execute_result"
    }
   ],
   "source": [
    "df = pd.DataFrame(price,\n",
    "                 index = index,\n",
    "                 columns = columns)\n",
    "df"
   ]
  },
  {
   "cell_type": "code",
   "execution_count": 37,
   "id": "981315e5",
   "metadata": {
    "ExecuteTime": {
     "end_time": "2021-09-28T08:49:53.572033Z",
     "start_time": "2021-09-28T08:49:53.557070Z"
    }
   },
   "outputs": [
    {
     "data": {
      "text/plain": [
       "'안녕하세요'"
      ]
     },
     "execution_count": 37,
     "metadata": {},
     "output_type": "execute_result"
    }
   ],
   "source": [
    "# 콤마 제거\n",
    "def remove_str(x):\n",
    "    return x.replace(',', '')\n",
    "remove_str('안녕,하세요')"
   ]
  },
  {
   "cell_type": "code",
   "execution_count": 38,
   "id": "1e95448d",
   "metadata": {
    "ExecuteTime": {
     "end_time": "2021-09-28T08:50:09.957445Z",
     "start_time": "2021-09-28T08:50:09.316378Z"
    }
   },
   "outputs": [
    {
     "data": {
      "text/plain": [
       "<AxesSubplot:>"
      ]
     },
     "execution_count": 38,
     "metadata": {},
     "output_type": "execute_result"
    },
    {
     "data": {
      "image/png": "[encoded data removed]",
      "text/plain": [
       "<Figure size 432x288 with 1 Axes>"
      ]
     },
     "metadata": {
      "needs_background": "light"
     },
     "output_type": "display_data"
    }
   ],
   "source": [
    "# 함수 적용\n",
    "df['종가'] = df['종가'].apply(remove_str)\n",
    "# 타입 변환\n",
    "df['종가'] = df['종가'].astype(int)\n",
    "# 종가 그래프\n",
    "df['종가'].sort_index().plot()"
   ]
  },
  {
   "cell_type": "markdown",
   "id": "e12f4776",
   "metadata": {},
   "source": [
    "### 네이버 데이터랩 인기검색어 크롤링"
   ]
  },
  {
   "cell_type": "code",
   "execution_count": 39,
   "id": "f65d0cf9",
   "metadata": {
    "ExecuteTime": {
     "end_time": "2021-09-28T08:50:44.670182Z",
     "start_time": "2021-09-28T08:50:44.589097Z"
    }
   },
   "outputs": [
    {
     "name": "stdout",
     "output_type": "stream",
     "text": [
      "나이키운동화\n",
      "크록스\n",
      "운동화\n",
      "모자\n",
      "카드지갑\n",
      "뉴발란스327\n",
      "나이키에어포스\n",
      "나이키데이브레이크\n",
      "gwf-a1000\n",
      "핸드폰가방\n"
     ]
    }
   ],
   "source": [
    "url = 'https://datalab.naver.com/shoppingInsight/getKeywordRank.naver?timeUnit=date&cid=50000001'\n",
    "info = {\n",
    "    'referer': 'https://datalab.naver.com/',\n",
    "    'user-agent': 'Mozilla/5.0 (Macintosh; Intel Mac OS X 10_13_6) AppleWebKit/537.36 (KHTML, like Gecko) Chrome/93.0.4577.63 Safari/537.36'\n",
    "}\n",
    "response = requests.post(url, headers=info)\n",
    "# json 데이터 파싱\n",
    "import json\n",
    "data = json.loads(response.text)\n",
    "for item in data[0]['ranks']:\n",
    "    print(item['keyword'])"
   ]
  },
  {
   "cell_type": "markdown",
   "id": "4bf9fcf6",
   "metadata": {},
   "source": [
    "### 파파고 API"
   ]
  },
  {
   "cell_type": "code",
   "execution_count": 45,
   "id": "26f33a64",
   "metadata": {
    "ExecuteTime": {
     "end_time": "2021-09-28T08:58:07.123936Z",
     "start_time": "2021-09-28T08:58:07.100996Z"
    }
   },
   "outputs": [],
   "source": [
    "def papago():\n",
    "    \n",
    "    \n",
    "    x = str(input('번역이 필요한 한국어를 입력하세요 : '))\n",
    "    \n",
    "    \n",
    "    url = 'https://openapi.naver.com/v1/papago/n2mt'\n",
    "\n",
    "    # 헤더 정보 정의\n",
    "    info = {\n",
    "        'Content-Type': 'application/x-www-form-urlencoded; charset=UTF-8',\n",
    "        'X-Naver-Client-Id': 'mqw8sh1TbjNg4nhVD1av',\n",
    "        'X-Naver-Client-Secret': '4RsisDpdjH'\n",
    "\n",
    "    }\n",
    "\n",
    "    data = {\n",
    "        'source' : 'ko',\n",
    "        'target': 'en',\n",
    "        'text' : x\n",
    "    }\n",
    "\n",
    "    response = requests.post(url, headers = info, data = data)\n",
    "    result =json.loads(response.text)\n",
    "    print(result['message']['result']['translatedText'])"
   ]
  },
  {
   "cell_type": "code",
   "execution_count": 46,
   "id": "3152df1c",
   "metadata": {
    "ExecuteTime": {
     "end_time": "2021-09-28T08:58:14.501705Z",
     "start_time": "2021-09-28T08:58:10.781493Z"
    }
   },
   "outputs": [
    {
     "name": "stdout",
     "output_type": "stream",
     "text": [
      "번역이 필요한 한국어를 입력하세요 : 안녕하세요\n",
      "Hello\n"
     ]
    }
   ],
   "source": [
    "papago()"
   ]
  },
  {
   "cell_type": "markdown",
   "id": "eeaba9f2",
   "metadata": {},
   "source": [
    "### 공공데이터"
   ]
  },
  {
   "cell_type": "code",
   "execution_count": 47,
   "id": "4b9be2da",
   "metadata": {
    "ExecuteTime": {
     "end_time": "2021-09-28T09:41:40.685473Z",
     "start_time": "2021-09-28T09:41:40.506206Z"
    }
   },
   "outputs": [
    {
     "name": "stdout",
     "output_type": "stream",
     "text": [
      "서울특별시 중구 퇴계로36길 10(필동2가 80-2)\n",
      "서울특별시 중구 퇴계로34길 28(필동2가 84-1)\n",
      "서울특별시 중구 퇴계로34길 28(필동2가 84-1)\n",
      "서울특별시 중구 소월로 91(남대문로5가 471)\n",
      "서울특별시 중구 장충동2가 산14-21\n",
      "서울특별시 중구 남산공원길 125-72(예장동 산5-6)\n",
      "서울특별시 중구 예장동 8-1\n",
      "서울특별시 중구 예장동 8-1\n",
      "서울특별시 중구 필동로1길 30(장충동2가 192-5)\n",
      "서울특별시 중구 장충단로 72(장충동2가 201-6)\n"
     ]
    }
   ],
   "source": [
    "url = 'http://smarttour.junggu.seoul.kr//junggu/openapi/culture.do'\n",
    "response = requests.get(url)\n",
    "\n",
    "data = json.loads(response.text)\n",
    "\n",
    "for i in range(10):\n",
    "    print(data['spot_Data'][i]['spot_Address'][1])"
   ]
  },
  {
   "cell_type": "markdown",
   "id": "f5a6b2f2",
   "metadata": {},
   "source": [
    "## selenium(셀레니움)\n",
    "    \n",
    "> 웹 어플리케이션 테스트를 위한 프레임워크.  \n",
    "다양한 브라우저 작동을 지원하며 크롤링에도 활용가능.  \n",
    "정적, 동적페이지 크롤링으로도 접근이 불가능한 데이터에 접근할 때 유용하게 사용  \n",
    "현존하는 거의 모든 웹브라우저를 다양한 언어를 통해 제어 가능"
   ]
  },
  {
   "cell_type": "markdown",
   "id": "c3601fdf",
   "metadata": {},
   "source": [
    "### selenium Setting\n",
    "\n",
    "> 사용해야 하는 브라우저의 웹드라이버 다운 필요  \n",
    "크롬 환경설정 -> 크롬 정보로 크롬 버전 확인 필요  \n",
    "    \n",
    ">> 크롬 드라이버 다운로드  \n",
    "https://chromedriver.chromium.org/downloads\n",
    "    \n",
    "셀레니움은 이 웹 드라이버 API를 제어하는 파이썬 패키지입니다."
   ]
  },
  {
   "cell_type": "markdown",
   "id": "efc4fe26",
   "metadata": {},
   "source": [
    "### 간단한 브라우저 컨트롤로 기본 개념잡기\n",
    "강의자료에 포함 된 코드는 강의자료 작성 시 확인 된 내용으로 현재시점의 웹 소스코드 변경 시 작동하지 않을 수 있습니다."
   ]
  },
  {
   "cell_type": "code",
   "execution_count": 49,
   "id": "2684dafa",
   "metadata": {
    "ExecuteTime": {
     "end_time": "2021-09-28T09:43:17.424117Z",
     "start_time": "2021-09-28T09:43:17.324937Z"
    }
   },
   "outputs": [],
   "source": [
    "# 셀레니움 import\n",
    "from selenium import webdriver\n",
    "from selenium.webdriver.common.keys import Keys\n",
    "from bs4 import BeautifulSoup"
   ]
  },
  {
   "cell_type": "code",
   "execution_count": 51,
   "id": "8779040a",
   "metadata": {
    "ExecuteTime": {
     "end_time": "2021-09-28T09:43:52.094507Z",
     "start_time": "2021-09-28T09:43:48.996922Z"
    }
   },
   "outputs": [],
   "source": [
    "# 크롬창 열기\n",
    "driver = webdriver.Chrome('./chromedriver.exe')"
   ]
  },
  {
   "cell_type": "code",
   "execution_count": 52,
   "id": "6276bc96",
   "metadata": {
    "ExecuteTime": {
     "end_time": "2021-09-28T09:44:06.082639Z",
     "start_time": "2021-09-28T09:44:05.337672Z"
    }
   },
   "outputs": [],
   "source": [
    "# 설정한 url로 데이터 get함수로 요청\n",
    "url = 'https://naver.com'\n",
    "driver.get(url)"
   ]
  },
  {
   "cell_type": "code",
   "execution_count": 53,
   "id": "9d103499",
   "metadata": {
    "ExecuteTime": {
     "end_time": "2021-09-28T09:44:12.275658Z",
     "start_time": "2021-09-28T09:44:07.907979Z"
    }
   },
   "outputs": [
    {
     "name": "stdout",
     "output_type": "stream",
     "text": [
      "키워드를 입력하세요 : 오징어게임\n"
     ]
    }
   ],
   "source": [
    "# 키워드를 입력받아 검색창의 xpath에 send_keys 함수로 키워드 입력 \n",
    "key_word = input('키워드를 입력하세요 : ') + '\\n'\n",
    "# 녹생창에 입력밧 지우기는 clear\n",
    "# 입력은 send_keys\n",
    "driver.find_element_by_xpath('//*[@id=\"query\"]').clear\n",
    "driver.find_element_by_xpath('//*[@id=\"query\"]').send_keys(key_word)"
   ]
  },
  {
   "cell_type": "code",
   "execution_count": 54,
   "id": "b21551fd",
   "metadata": {
    "ExecuteTime": {
     "end_time": "2021-09-28T09:44:24.381341Z",
     "start_time": "2021-09-28T09:44:24.102086Z"
    }
   },
   "outputs": [],
   "source": [
    "# 검색결과의 news 탭 클릭\n",
    "driver.find_element_by_xpath('//*[@id=\"lnb\"]/div[1]/div/ul/li[7]/a').click()"
   ]
  },
  {
   "cell_type": "markdown",
   "id": "97bef391",
   "metadata": {},
   "source": [
    "### 네이버 로그인 시도"
   ]
  },
  {
   "cell_type": "code",
   "execution_count": null,
   "id": "4664f01c",
   "metadata": {},
   "outputs": [],
   "source": [
    "url = 'https://nid.naver.com/nidlogin.login?mode=form&url=https%3A%2F%2Fwww.naver.com'\n",
    "driver.get(url)"
   ]
  },
  {
   "cell_type": "code",
   "execution_count": null,
   "id": "84439b32",
   "metadata": {},
   "outputs": [],
   "source": [
    "import time\n",
    "\n",
    "# 로그인 페이지 이동\n",
    "id = input('아이디를 입력하세요 : ')\n",
    "password = input('비밀번호를 입력하세요 : ')\n",
    "\n",
    "# 로그인 정보 입력\n",
    "\n",
    "driver.find_element_by_xpath('//*[@id=\"id\"]').send_keys(id)\n",
    "time.sleep(3)\n",
    "driver.find_element_by_xpath('//*[@id=\"pw\"]').send_keys(password)\n",
    "time.sleep(3)\n",
    "driver.find_element_by_xpath('//*[@id=\"log.login\"]/span').click()"
   ]
  },
  {
   "cell_type": "markdown",
   "id": "210451ff",
   "metadata": {},
   "source": [
    "### 인스타그램 크롤링"
   ]
  },
  {
   "cell_type": "code",
   "execution_count": null,
   "id": "c8d809bb",
   "metadata": {},
   "outputs": [],
   "source": [
    "driver = webdriver.Chrome('./chromedriver.exe')# 컨트롤 할 크롬 브라우저 생성"
   ]
  },
  {
   "cell_type": "code",
   "execution_count": null,
   "id": "7898baad",
   "metadata": {},
   "outputs": [],
   "source": [
    "# url 페이지 이동\n",
    "url = 'https://www.instagram.com'\n",
    "driver.get(url)"
   ]
  },
  {
   "cell_type": "code",
   "execution_count": null,
   "id": "85c2c927",
   "metadata": {},
   "outputs": [],
   "source": [
    "id = input('아이디를 입력하세요 : ')\n",
    "password = input('비밀번호를 입력하세요 : ')\n",
    "\n",
    "driver.find_element_by_xpath('//*[@id=\"loginForm\"]/div/div[1]/div/label/input').send_keys(id)\n",
    "time.sleep(3)\n",
    "driver.find_element_by_xpath('//*[@id=\"loginForm\"]/div/div[2]/div/label/input').send_keys(password)\n",
    "time.sleep(3)\n",
    "driver.find_element_by_xpath('//*[@id=\"loginForm\"]/div/div[3]').click()"
   ]
  },
  {
   "cell_type": "code",
   "execution_count": null,
   "id": "e020562a",
   "metadata": {},
   "outputs": [],
   "source": [
    "driver.find_element_by_xpath('//*[@id=\"react-root\"]/section/main/div/div/div/div/button').click()"
   ]
  },
  {
   "cell_type": "code",
   "execution_count": null,
   "id": "f3e51c97",
   "metadata": {},
   "outputs": [],
   "source": [
    "# 알림설정 팝업창 나중에 하기 클릭\n",
    "driver.find_element_by_xpath('/html/body/div[6]/div/div/div/div[3]/button[2]').click()"
   ]
  },
  {
   "cell_type": "code",
   "execution_count": null,
   "id": "3e91fe77",
   "metadata": {},
   "outputs": [],
   "source": [
    "# 검색 키워드로 크롤링을 하기 위해 검색어 입력\n",
    "driver.find_element_by_xpath('//*[@id=\"react-root\"]/section/nav/div[2]/div/div/div[2]/input').send_keys('공릉\\n')"
   ]
  },
  {
   "cell_type": "code",
   "execution_count": null,
   "id": "87768f23",
   "metadata": {},
   "outputs": [],
   "source": [
    "# 첫번째 항목 접근\n",
    "driver.find_element_by_xpath('//*[@id=\"f21fea6d965800c\"]/div').click()"
   ]
  },
  {
   "cell_type": "code",
   "execution_count": null,
   "id": "75fc1249",
   "metadata": {},
   "outputs": [],
   "source": [
    "# 첫번째 포스팅 클릭\n",
    "driver.find_element_by_xpath('//*[@id=\"react-root\"]/section/main/article/div[1]/div/div/div[1]/div[1]/a/div[1]/div[2]').click()"
   ]
  },
  {
   "cell_type": "code",
   "execution_count": null,
   "id": "b1bbb292",
   "metadata": {},
   "outputs": [],
   "source": [
    "# 포스팅 image url 따오기\n",
    "image = driver.find_element_by_css_selector('img.FFVAD')"
   ]
  },
  {
   "cell_type": "code",
   "execution_count": null,
   "id": "d22fa853",
   "metadata": {},
   "outputs": [],
   "source": [
    "# image 변수에서 src 속성에 접근\n",
    "image_url = image.get_attribute('src')"
   ]
  },
  {
   "cell_type": "code",
   "execution_count": null,
   "id": "8c0d9e99",
   "metadata": {},
   "outputs": [],
   "source": [
    "# 이미지 저장을 위한 패키지\n",
    "import urllib\n",
    "# 이미지 저장\n",
    "urllib.request.urlretrieve(image_url, './test.jpg')"
   ]
  }
 ],
 "metadata": {
  "kernelspec": {
   "display_name": "Python 3",
   "language": "python",
   "name": "python3"
  },
  "language_info": {
   "codemirror_mode": {
    "name": "ipython",
    "version": 3
   },
   "file_extension": ".py",
   "mimetype": "text/x-python",
   "name": "python",
   "nbconvert_exporter": "python",
   "pygments_lexer": "ipython3",
   "version": "3.8.8"
  },
  "toc": {
   "base_numbering": 1,
   "nav_menu": {},
   "number_sections": true,
   "sideBar": true,
   "skip_h1_title": false,
   "title_cell": "Table of Contents",
   "title_sidebar": "Contents",
   "toc_cell": false,
   "toc_position": {},
   "toc_section_display": true,
   "toc_window_display": false
  },
  "varInspector": {
   "cols": {
    "lenName": 16,
    "lenType": 16,
    "lenVar": 40
   },
   "kernels_config": {
    "python": {
     "delete_cmd_postfix": "",
     "delete_cmd_prefix": "del ",
     "library": "var_list.py",
     "varRefreshCmd": "print(var_dic_list())"
    },
    "r": {
     "delete_cmd_postfix": ") ",
     "delete_cmd_prefix": "rm(",
     "library": "var_list.r",
     "varRefreshCmd": "cat(var_dic_list()) "
    }
   },
   "types_to_exclude": [
    "module",
    "function",
    "builtin_function_or_method",
    "instance",
    "_Feature"
   ],
   "window_display": false
  }
 },
 "nbformat": 4,
 "nbformat_minor": 5
}
